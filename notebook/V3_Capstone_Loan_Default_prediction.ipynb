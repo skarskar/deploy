{
  "cells": [
    {
      "cell_type": "markdown",
      "metadata": {
        "id": "view-in-github",
        "colab_type": "text"
      },
      "source": [
        "<a href=\"https://colab.research.google.com/github/skarskar/MLWorkshop/blob/main/capstone-project/V3_Capstone_Loan_Default_prediction.ipynb\" target=\"_parent\"><img src=\"https://colab.research.google.com/assets/colab-badge.svg\" alt=\"Open In Colab\"/></a>"
      ]
    },
    {
      "cell_type": "code",
      "execution_count": null,
      "metadata": {
        "id": "PA5-872m1wy-"
      },
      "outputs": [],
      "source": [
        "!pip install category_encoders\n",
        "!pip install feature_engine\n",
        "!pip install scikit-learn==1.3.1"
      ]
    },
    {
      "cell_type": "code",
      "source": [
        "!pip install smote-variants"
      ],
      "metadata": {
        "id": "ZQPdHdFK78xo"
      },
      "execution_count": null,
      "outputs": []
    },
    {
      "cell_type": "code",
      "execution_count": 142,
      "metadata": {
        "id": "-vdmfgph12I2"
      },
      "outputs": [],
      "source": [
        "# mlp for binary classification\n",
        "import pandas as pd\n",
        "import numpy as np\n",
        "from pandas import read_csv\n",
        "from sklearn.model_selection import train_test_split\n",
        "from sklearn.preprocessing import LabelEncoder\n",
        "from sklearn.preprocessing import OrdinalEncoder\n",
        "from sklearn.preprocessing import OneHotEncoder\n",
        "from sklearn.feature_selection import SelectKBest\n",
        "from sklearn.linear_model import LogisticRegression\n",
        "from sklearn.linear_model import SGDClassifier\n",
        "from sklearn.ensemble import RandomForestClassifier\n",
        "from sklearn.feature_selection import chi2\n",
        "from tensorflow.keras import Sequential\n",
        "from tensorflow.keras.layers import Dense\n",
        "import seaborn as sns\n",
        "import matplotlib as mpl\n",
        "import matplotlib.pyplot as plt\n",
        "from IPython.display import display\n",
        "import category_encoders as ce\n",
        "from sklearn.metrics import accuracy_score\n",
        "from sklearn.metrics import roc_curve\n",
        "from sklearn.metrics import auc\n",
        "from sklearn.metrics import roc_auc_score\n",
        "from sklearn.preprocessing import StandardScaler\n",
        "from sklearn.feature_selection import mutual_info_classif\n",
        "from sklearn.feature_extraction import DictVectorizer\n",
        "from scipy.stats.mstats import winsorize\n",
        "#from category_encoders import TargetEncoder\n",
        "from feature_engine.outliers import Winsorizer\n",
        "from sklearn.preprocessing import TargetEncoder\n",
        "from sklearn.metrics import confusion_matrix, ConfusionMatrixDisplay, log_loss, classification_report, accuracy_score,  roc_auc_score, roc_curve, auc\n",
        "from pickle import dump\n",
        "from xgboost import XGBClassifier\n",
        "from sklearn.preprocessing import StandardScaler\n",
        "%matplotlib inline"
      ]
    },
    {
      "cell_type": "code",
      "execution_count": 254,
      "metadata": {
        "id": "tURgPErAvqpX",
        "colab": {
          "base_uri": "https://localhost:8080/",
          "height": 349
        },
        "outputId": "91daccca-c647-41a4-ec37-ce37ede18bff"
      },
      "outputs": [
        {
          "output_type": "stream",
          "name": "stdout",
          "text": [
            "CPU times: user 4 µs, sys: 0 ns, total: 4 µs\n",
            "Wall time: 9.78 µs\n"
          ]
        },
        {
          "output_type": "execute_result",
          "data": {
            "text/plain": [
              "Available line magics:\n",
              "%alias  %alias_magic  %autoawait  %autocall  %automagic  %autosave  %bookmark  %cat  %cd  %clear  %colors  %conda  %config  %connect_info  %cp  %debug  %dhist  %dirs  %doctest_mode  %ed  %edit  %env  %gui  %hist  %history  %killbgscripts  %ldir  %less  %lf  %lk  %ll  %load  %load_ext  %loadpy  %logoff  %logon  %logstart  %logstate  %logstop  %ls  %lsmagic  %lx  %macro  %magic  %man  %matplotlib  %mkdir  %more  %mv  %notebook  %page  %pastebin  %pdb  %pdef  %pdoc  %pfile  %pinfo  %pinfo2  %pip  %popd  %pprint  %precision  %prun  %psearch  %psource  %pushd  %pwd  %pycat  %pylab  %qtconsole  %quickref  %recall  %rehashx  %reload_ext  %rep  %rerun  %reset  %reset_selective  %rm  %rmdir  %run  %save  %sc  %set_env  %shell  %store  %sx  %system  %tb  %tensorflow_version  %time  %timeit  %unalias  %unload_ext  %who  %who_ls  %whos  %xdel  %xmode\n",
              "\n",
              "Available cell magics:\n",
              "%%!  %%HTML  %%SVG  %%bash  %%bigquery  %%capture  %%debug  %%file  %%html  %%javascript  %%js  %%latex  %%markdown  %%perl  %%prun  %%pypy  %%python  %%python2  %%python3  %%ruby  %%script  %%sh  %%shell  %%svg  %%sx  %%system  %%time  %%timeit  %%writefile\n",
              "\n",
              "Automagic is ON, % prefix IS NOT needed for line magics."
            ],
            "application/json": {
              "line": {
                "automagic": "AutoMagics",
                "autocall": "AutoMagics",
                "alias_magic": "BasicMagics",
                "lsmagic": "BasicMagics",
                "magic": "BasicMagics",
                "page": "BasicMagics",
                "pprint": "BasicMagics",
                "colors": "BasicMagics",
                "xmode": "BasicMagics",
                "quickref": "BasicMagics",
                "doctest_mode": "BasicMagics",
                "gui": "BasicMagics",
                "precision": "BasicMagics",
                "notebook": "BasicMagics",
                "save": "CodeMagics",
                "pastebin": "CodeMagics",
                "loadpy": "CodeMagics",
                "load": "CodeMagics",
                "edit": "KernelMagics",
                "config": "ConfigMagics",
                "prun": "ExecutionMagics",
                "pdb": "ExecutionMagics",
                "debug": "ExecutionMagics",
                "tb": "ExecutionMagics",
                "run": "ExecutionMagics",
                "timeit": "ExecutionMagics",
                "time": "ExecutionMagics",
                "macro": "ExecutionMagics",
                "load_ext": "ExtensionMagics",
                "unload_ext": "ExtensionMagics",
                "reload_ext": "ExtensionMagics",
                "history": "HistoryMagics",
                "recall": "HistoryMagics",
                "rerun": "HistoryMagics",
                "logstart": "LoggingMagics",
                "logstop": "LoggingMagics",
                "logoff": "LoggingMagics",
                "logon": "LoggingMagics",
                "logstate": "LoggingMagics",
                "pinfo": "NamespaceMagics",
                "pinfo2": "NamespaceMagics",
                "pdef": "NamespaceMagics",
                "pdoc": "NamespaceMagics",
                "psource": "NamespaceMagics",
                "pfile": "NamespaceMagics",
                "psearch": "NamespaceMagics",
                "who_ls": "NamespaceMagics",
                "who": "NamespaceMagics",
                "whos": "NamespaceMagics",
                "reset": "NamespaceMagics",
                "reset_selective": "NamespaceMagics",
                "xdel": "NamespaceMagics",
                "alias": "OSMagics",
                "unalias": "OSMagics",
                "rehashx": "OSMagics",
                "pwd": "OSMagics",
                "cd": "OSMagics",
                "env": "OSMagics",
                "set_env": "OSMagics",
                "pushd": "OSMagics",
                "popd": "OSMagics",
                "dirs": "OSMagics",
                "dhist": "OSMagics",
                "sc": "OSMagics",
                "sx": "OSMagics",
                "system": "OSMagics",
                "bookmark": "OSMagics",
                "pycat": "OSMagics",
                "pip": "Other",
                "conda": "PackagingMagics",
                "matplotlib": "PylabMagics",
                "pylab": "PylabMagics",
                "killbgscripts": "ScriptMagics",
                "autoawait": "AsyncMagics",
                "ed": "Other",
                "hist": "Other",
                "rep": "Other",
                "clear": "KernelMagics",
                "less": "KernelMagics",
                "more": "KernelMagics",
                "man": "KernelMagics",
                "connect_info": "KernelMagics",
                "qtconsole": "KernelMagics",
                "autosave": "KernelMagics",
                "mkdir": "Other",
                "rmdir": "Other",
                "mv": "Other",
                "rm": "Other",
                "cp": "Other",
                "cat": "Other",
                "ls": "Other",
                "ll": "Other",
                "lf": "Other",
                "lk": "Other",
                "ldir": "Other",
                "lx": "Other",
                "store": "StoreMagics",
                "shell": "Other",
                "tensorflow_version": "Other"
              },
              "cell": {
                "js": "DisplayMagics",
                "javascript": "DisplayMagics",
                "latex": "DisplayMagics",
                "svg": "DisplayMagics",
                "html": "DisplayMagics",
                "markdown": "DisplayMagics",
                "prun": "ExecutionMagics",
                "debug": "ExecutionMagics",
                "timeit": "ExecutionMagics",
                "time": "ExecutionMagics",
                "capture": "ExecutionMagics",
                "sx": "OSMagics",
                "system": "OSMagics",
                "!": "OSMagics",
                "writefile": "OSMagics",
                "script": "ScriptMagics",
                "sh": "Other",
                "bash": "Other",
                "perl": "Other",
                "ruby": "Other",
                "python": "Other",
                "python2": "Other",
                "python3": "Other",
                "pypy": "Other",
                "SVG": "Other",
                "HTML": "Other",
                "file": "Other",
                "bigquery": "Other",
                "shell": "Other"
              }
            }
          },
          "metadata": {},
          "execution_count": 254
        },
        {
          "output_type": "stream",
          "name": "stdout",
          "text": [
            "\n",
            " tensorflow: 2.12.0\n",
            "\n",
            " Numpy: 1.23.5\n",
            "\n",
            " sklearn: 1.3.1\n"
          ]
        }
      ],
      "source": [
        "%time\n",
        "# Set your environment in a notebook:\n",
        "# Set the Environment\n",
        "# Ignore Warnings\n",
        "import warnings\n",
        "warnings.simplefilter(action='ignore', category=FutureWarning)\n",
        "warnings.simplefilter(action='ignore', category=UserWarning)\n",
        "\n",
        "#Write out the versions of all packages to requirements.txt\n",
        "!pip freeze >> requirements.txt\n",
        "\n",
        "# Remove the restriction on Jupyter that limits the columns displayed (the ... in the middle)\n",
        "# pd.set_option('max_columns',None)\n",
        "pd.options.display.max_columns = None\n",
        "pd.options.display.max_rows = None\n",
        "# Docs: https://pandas.pydata.org/pandas-docs/stable/reference/api/pandas.set_option.html#\n",
        "\n",
        "# Pretty Display of variables.  for instance, you can call df.head() and df.tail() in the same cell and BOTH display w/o print\n",
        "from IPython.core.interactiveshell import InteractiveShell\n",
        "InteractiveShell.ast_node_interactivity = \"all\"\n",
        "\n",
        "# List of ALL Magic Commands.  To run a magic command %var  --- i.e.:  %env\n",
        "%lsmagic\n",
        "# %env  -- list environment variables\n",
        "# %%time  -- gives you information about how long a cel took to run\n",
        "# %%timeit -- runs a cell 100,000 times and then gives you the average time the cell will take to run (can be LONG)\n",
        "# %pdb -- python debugger\n",
        "\n",
        "# to display nice model diagram\n",
        "from sklearn import set_config\n",
        "set_config(display='diagram')\n",
        "\n",
        "# Python ≥3.5 is required\n",
        "import sys\n",
        "assert sys.version_info >= (3, 5)\n",
        "\n",
        "# Scikit-Learn ≥0.20 is required\n",
        "import sklearn\n",
        "assert sklearn.__version__ >= \"0.30\"\n",
        "\n",
        "import tensorflow\n",
        "print(\"\\n tensorflow: \" + tensorflow.__version__)\n",
        "\n",
        "print(\"\\n Numpy: \" + np.__version__)\n",
        "print(\"\\n sklearn: \" + sklearn.__version__)"
      ]
    },
    {
      "cell_type": "markdown",
      "metadata": {
        "id": "cIXjCB8KvfF7"
      },
      "source": [
        "# Methods"
      ]
    },
    {
      "cell_type": "code",
      "execution_count": 143,
      "metadata": {
        "id": "H_mnhD0BOIbf"
      },
      "outputs": [],
      "source": [
        "# prepare input data\n",
        "def prepare_inputs(feature, target):\n",
        "  #https://towardsdatascience.com/dealing-with-categorical-variables-by-using-target-encoder-a0f1733a4c69\n",
        "  #oe = ce.CountEncoder(return_df=True, normalize=True)\n",
        "  #oe.fit(feature)\n",
        "  encoder = TargetEncoder(smooth='auto', target_type='binary')\n",
        "  encoder.fit(feature, target)\n",
        "  feature_enc = encoder.transform(feature)\n",
        "  #X_train_enc = oe.transform(X_train.drop(columns='loan_default_status'))\n",
        "  #X_test_enc = X_test #pd.get_dummies(X_test)  #oe.transform(X_test)\n",
        "  # save the scaler\n",
        "  dump(encoder, open('encoder.pkl', 'wb'))\n",
        "  return feature_enc#, X_test_enc\n",
        "\n",
        " # prepare target\n",
        "def prepare_targets(y_train, y_test):\n",
        "  le = LabelEncoder()\n",
        "  le.fit(y_train)\n",
        "  y_train_enc = le.transform(y_train)\n",
        "  y_test_enc = le.transform(y_test)\n",
        "  return y_train_enc, y_test_enc\n",
        "\n",
        " # feature selection based on chi2\n",
        "def select_features(X_train, y_train, X_test):\n",
        "  fs = SelectKBest(score_func=chi2, k=1)\n",
        "  fs.fit(X_train, y_train)\n",
        "  X_train_fs = fs.transform(X_train)\n",
        "  X_test_fs = fs.transform(X_test)\n",
        "  return X_train_fs, X_test_fs, fs\n",
        "\n",
        " # feature selection based on Mutual Importance\n",
        "def select_features_mutual_info(X_train, y_train, X_test):\n",
        "  fs = SelectKBest(score_func=mutual_info_classif, k=1)\n",
        "  fs.fit(X_train, y_train)\n",
        "  X_train_fs = fs.transform(X_train)\n",
        "  X_test_fs = fs.transform(X_test)\n",
        "  return X_train_fs, X_test_fs, fs"
      ]
    },
    {
      "cell_type": "markdown",
      "metadata": {
        "id": "pAau4UBGwH6x"
      },
      "source": [
        "# Load Data"
      ]
    },
    {
      "cell_type": "code",
      "execution_count": 195,
      "metadata": {
        "colab": {
          "base_uri": "https://localhost:8080/",
          "height": 110
        },
        "id": "tLo37WbR2cYu",
        "outputId": "81dbeb16-dd14-4f6f-8c18-2a81ef5fa6f9"
      },
      "outputs": [
        {
          "output_type": "execute_result",
          "data": {
            "text/plain": [
              "\"\\nID: unique ID of representative\\nLoan Amount: loan amount applied\\nFunded Amount:The total amount committed to that loan at that point in time.\\nFunded Amount Investor: The total amount committed by investors for that loan at that point in time.\\nTerm: term of loan (in months)\\nBatch Enrolled: batch numbers to representatives\\nInterest Rate: interest rate (%) on loan\\nGrade: grade by the bank\\nSub Grade: sub-grade by the bank\\nDebit to Income: ratio of representative's total monthly debt repayment divided by self reported monthly income excluding mortgage\\nDelinquency - two years: The number of 30+ days past-due incidences of delinquency in the borrower's credit file for the past 2 years\\nInquires - six months: total number of inquiries in last 6 months\\nOpen Account: number of open credit line in representative's - credit line\\nPublic Record: number of derogatory public records\\nRevolving Balance: total credit revolving balance\\nRevolving Utilities: amount of credit a representative is using - relative to revolving_balance\\nTotal Accounts: total number of credit lines available in - representatives credit line\\nInitial List Status: unique listing status of the loan - - W(Waiting), F(Forwarded)\\nTotal Received Interest: total interest received till date\\nTotal Received Late Fee: total late fee received till date\\nRecoveries: post charge off gross recovery\\nCollection Recovery Fee: post charge off collection fee\\nCollection 12 months Medical: total collections in last 12 months - excluding medical collections\\nApplication Type: indicates when the representative is an individual or joint\\nLast week Pay: indicates how long (in weeks) a representative has paid EMI after batch enrolled\\nAccounts Delinquent: number of accounts on which the representative is delinquent\\nTotal Collection Amount: total collection amount ever owed\\nTotal Current Balance: total current balance from all accounts\\nTotal Revolving Credit Limit: total revolving credit limit\\nLoan Status: 1 = Defaulter, 0 = Non Defaulters\\nverification_status: Indicates if income was verified by LC, not verified, or if the income source was verified\\nHome Ownership: The home ownership status provided by the borrower during registration. Our values are: RENT, OWN, MORTGAGE, OTHER.\\n\""
            ],
            "application/vnd.google.colaboratory.intrinsic+json": {
              "type": "string"
            }
          },
          "metadata": {},
          "execution_count": 195
        },
        {
          "output_type": "execute_result",
          "data": {
            "text/plain": [
              "(67463, 35)"
            ]
          },
          "metadata": {},
          "execution_count": 195
        }
      ],
      "source": [
        "'''\n",
        "ID: unique ID of representative\n",
        "Loan Amount: loan amount applied\n",
        "Funded Amount:The total amount committed to that loan at that point in time.\n",
        "Funded Amount Investor: The total amount committed by investors for that loan at that point in time.\n",
        "Term: term of loan (in months)\n",
        "Batch Enrolled: batch numbers to representatives\n",
        "Interest Rate: interest rate (%) on loan\n",
        "Grade: grade by the bank\n",
        "Sub Grade: sub-grade by the bank\n",
        "Debit to Income: ratio of representative's total monthly debt repayment divided by self reported monthly income excluding mortgage\n",
        "Delinquency - two years: The number of 30+ days past-due incidences of delinquency in the borrower's credit file for the past 2 years\n",
        "Inquires - six months: total number of inquiries in last 6 months\n",
        "Open Account: number of open credit line in representative's - credit line\n",
        "Public Record: number of derogatory public records\n",
        "Revolving Balance: total credit revolving balance\n",
        "Revolving Utilities: amount of credit a representative is using - relative to revolving_balance\n",
        "Total Accounts: total number of credit lines available in - representatives credit line\n",
        "Initial List Status: unique listing status of the loan - - W(Waiting), F(Forwarded)\n",
        "Total Received Interest: total interest received till date\n",
        "Total Received Late Fee: total late fee received till date\n",
        "Recoveries: post charge off gross recovery\n",
        "Collection Recovery Fee: post charge off collection fee\n",
        "Collection 12 months Medical: total collections in last 12 months - excluding medical collections\n",
        "Application Type: indicates when the representative is an individual or joint\n",
        "Last week Pay: indicates how long (in weeks) a representative has paid EMI after batch enrolled\n",
        "Accounts Delinquent: number of accounts on which the representative is delinquent\n",
        "Total Collection Amount: total collection amount ever owed\n",
        "Total Current Balance: total current balance from all accounts\n",
        "Total Revolving Credit Limit: total revolving credit limit\n",
        "Loan Status: 1 = Defaulter, 0 = Non Defaulters\n",
        "verification_status: Indicates if income was verified by LC, not verified, or if the income source was verified\n",
        "Home Ownership: The home ownership status provided by the borrower during registration. Our values are: RENT, OWN, MORTGAGE, OTHER.\n",
        "'''\n",
        "\n",
        "path = 'https://raw.githubusercontent.com/skarskar/MLWorkshop/main/dataset/Loan%20Default%20prediction%20dataset%20Train.csv'\n",
        "df_test=pd.read_csv(\"https://raw.githubusercontent.com/skarskar/MLWorkshop/main/dataset/Loan%20Default%20prediction%20dataset%20Test.csv\")\n",
        "df= read_csv(path)\n",
        "df.shape\n"
      ]
    },
    {
      "cell_type": "code",
      "execution_count": null,
      "metadata": {
        "id": "WrsWV-otrlev"
      },
      "outputs": [],
      "source": [
        "df.info()"
      ]
    },
    {
      "cell_type": "code",
      "execution_count": null,
      "metadata": {
        "id": "GfASmHa_aU_o"
      },
      "outputs": [],
      "source": [
        "df.nunique()"
      ]
    },
    {
      "cell_type": "code",
      "execution_count": null,
      "metadata": {
        "id": "_zCFYr06aegl"
      },
      "outputs": [],
      "source": [
        "df.isna().sum()"
      ]
    },
    {
      "cell_type": "markdown",
      "metadata": {
        "id": "DenVJeiiL32V"
      },
      "source": [
        "# Preprocessing\n",
        "## split data into train, validation & test at the earliest so that bias is not introduced."
      ]
    },
    {
      "cell_type": "code",
      "execution_count": 196,
      "metadata": {
        "id": "6K5BxuWrdzOO",
        "colab": {
          "base_uri": "https://localhost:8080/"
        },
        "outputId": "1b6525f0-f092-4fd2-a159-6d3975582a3c"
      },
      "outputs": [
        {
          "output_type": "execute_result",
          "data": {
            "text/plain": [
              "(67463, 32)"
            ]
          },
          "metadata": {},
          "execution_count": 196
        }
      ],
      "source": [
        "df.rename(columns={'Loan Status': 'Loan Default Status', 'Employment Duration': 'Home Ownership','Home Ownership':'Annual Income'}, inplace=True)\n",
        "\n",
        "#drop columns as these only have 1 unique value\n",
        "df.drop(columns=['Payment Plan','Accounts Delinquent'], inplace=True)\n",
        "df.drop(columns=['ID'], inplace=True)\n",
        "df.shape"
      ]
    },
    {
      "cell_type": "code",
      "execution_count": 197,
      "metadata": {
        "id": "_gdzD-VBd2P0",
        "colab": {
          "base_uri": "https://localhost:8080/",
          "height": 1000
        },
        "outputId": "a2ced46e-5943-4203-b4b0-908872a704d6"
      },
      "outputs": [
        {
          "output_type": "execute_result",
          "data": {
            "text/plain": [
              "                                               0\n",
              "loan_amount                                10000\n",
              "funded_amount                              32236\n",
              "funded_amount_investor               12329.36286\n",
              "term                                          59\n",
              "batch_enrolled                        bat2522922\n",
              "interest_rate                          11.135007\n",
              "grade                                          b\n",
              "sub_grade                                     c4\n",
              "home_ownership                          mortgage\n",
              "annual_income                        176346.6267\n",
              "verification_status                 not_verified\n",
              "loan_title                    debt_consolidation\n",
              "debit_to_income                        16.284758\n",
              "delinquency_-_two_years                        1\n",
              "inquires_-_six_months                          0\n",
              "open_account                                  13\n",
              "public_record                                  0\n",
              "revolving_balance                          24246\n",
              "revolving_utilities                    74.932551\n",
              "total_accounts                                 7\n",
              "initial_list_status                            w\n",
              "total_received_interest              2929.646315\n",
              "total_received_late_fee                 0.102055\n",
              "recoveries                              2.498291\n",
              "collection_recovery_fee                 0.793724\n",
              "collection_12_months_medical                   0\n",
              "application_type                      individual\n",
              "last_week_pay                                 49\n",
              "total_collection_amount                       31\n",
              "total_current_balance                     311301\n",
              "total_revolving_credit_limit                6619\n",
              "loan_default_status                            0"
            ],
            "text/html": [
              "\n",
              "  <div id=\"df-647c5477-f310-4a43-84b2-027713d20413\" class=\"colab-df-container\">\n",
              "    <div>\n",
              "<style scoped>\n",
              "    .dataframe tbody tr th:only-of-type {\n",
              "        vertical-align: middle;\n",
              "    }\n",
              "\n",
              "    .dataframe tbody tr th {\n",
              "        vertical-align: top;\n",
              "    }\n",
              "\n",
              "    .dataframe thead th {\n",
              "        text-align: right;\n",
              "    }\n",
              "</style>\n",
              "<table border=\"1\" class=\"dataframe\">\n",
              "  <thead>\n",
              "    <tr style=\"text-align: right;\">\n",
              "      <th></th>\n",
              "      <th>0</th>\n",
              "    </tr>\n",
              "  </thead>\n",
              "  <tbody>\n",
              "    <tr>\n",
              "      <th>loan_amount</th>\n",
              "      <td>10000</td>\n",
              "    </tr>\n",
              "    <tr>\n",
              "      <th>funded_amount</th>\n",
              "      <td>32236</td>\n",
              "    </tr>\n",
              "    <tr>\n",
              "      <th>funded_amount_investor</th>\n",
              "      <td>12329.36286</td>\n",
              "    </tr>\n",
              "    <tr>\n",
              "      <th>term</th>\n",
              "      <td>59</td>\n",
              "    </tr>\n",
              "    <tr>\n",
              "      <th>batch_enrolled</th>\n",
              "      <td>bat2522922</td>\n",
              "    </tr>\n",
              "    <tr>\n",
              "      <th>interest_rate</th>\n",
              "      <td>11.135007</td>\n",
              "    </tr>\n",
              "    <tr>\n",
              "      <th>grade</th>\n",
              "      <td>b</td>\n",
              "    </tr>\n",
              "    <tr>\n",
              "      <th>sub_grade</th>\n",
              "      <td>c4</td>\n",
              "    </tr>\n",
              "    <tr>\n",
              "      <th>home_ownership</th>\n",
              "      <td>mortgage</td>\n",
              "    </tr>\n",
              "    <tr>\n",
              "      <th>annual_income</th>\n",
              "      <td>176346.6267</td>\n",
              "    </tr>\n",
              "    <tr>\n",
              "      <th>verification_status</th>\n",
              "      <td>not_verified</td>\n",
              "    </tr>\n",
              "    <tr>\n",
              "      <th>loan_title</th>\n",
              "      <td>debt_consolidation</td>\n",
              "    </tr>\n",
              "    <tr>\n",
              "      <th>debit_to_income</th>\n",
              "      <td>16.284758</td>\n",
              "    </tr>\n",
              "    <tr>\n",
              "      <th>delinquency_-_two_years</th>\n",
              "      <td>1</td>\n",
              "    </tr>\n",
              "    <tr>\n",
              "      <th>inquires_-_six_months</th>\n",
              "      <td>0</td>\n",
              "    </tr>\n",
              "    <tr>\n",
              "      <th>open_account</th>\n",
              "      <td>13</td>\n",
              "    </tr>\n",
              "    <tr>\n",
              "      <th>public_record</th>\n",
              "      <td>0</td>\n",
              "    </tr>\n",
              "    <tr>\n",
              "      <th>revolving_balance</th>\n",
              "      <td>24246</td>\n",
              "    </tr>\n",
              "    <tr>\n",
              "      <th>revolving_utilities</th>\n",
              "      <td>74.932551</td>\n",
              "    </tr>\n",
              "    <tr>\n",
              "      <th>total_accounts</th>\n",
              "      <td>7</td>\n",
              "    </tr>\n",
              "    <tr>\n",
              "      <th>initial_list_status</th>\n",
              "      <td>w</td>\n",
              "    </tr>\n",
              "    <tr>\n",
              "      <th>total_received_interest</th>\n",
              "      <td>2929.646315</td>\n",
              "    </tr>\n",
              "    <tr>\n",
              "      <th>total_received_late_fee</th>\n",
              "      <td>0.102055</td>\n",
              "    </tr>\n",
              "    <tr>\n",
              "      <th>recoveries</th>\n",
              "      <td>2.498291</td>\n",
              "    </tr>\n",
              "    <tr>\n",
              "      <th>collection_recovery_fee</th>\n",
              "      <td>0.793724</td>\n",
              "    </tr>\n",
              "    <tr>\n",
              "      <th>collection_12_months_medical</th>\n",
              "      <td>0</td>\n",
              "    </tr>\n",
              "    <tr>\n",
              "      <th>application_type</th>\n",
              "      <td>individual</td>\n",
              "    </tr>\n",
              "    <tr>\n",
              "      <th>last_week_pay</th>\n",
              "      <td>49</td>\n",
              "    </tr>\n",
              "    <tr>\n",
              "      <th>total_collection_amount</th>\n",
              "      <td>31</td>\n",
              "    </tr>\n",
              "    <tr>\n",
              "      <th>total_current_balance</th>\n",
              "      <td>311301</td>\n",
              "    </tr>\n",
              "    <tr>\n",
              "      <th>total_revolving_credit_limit</th>\n",
              "      <td>6619</td>\n",
              "    </tr>\n",
              "    <tr>\n",
              "      <th>loan_default_status</th>\n",
              "      <td>0</td>\n",
              "    </tr>\n",
              "  </tbody>\n",
              "</table>\n",
              "</div>\n",
              "    <div class=\"colab-df-buttons\">\n",
              "\n",
              "  <div class=\"colab-df-container\">\n",
              "    <button class=\"colab-df-convert\" onclick=\"convertToInteractive('df-647c5477-f310-4a43-84b2-027713d20413')\"\n",
              "            title=\"Convert this dataframe to an interactive table.\"\n",
              "            style=\"display:none;\">\n",
              "\n",
              "  <svg xmlns=\"http://www.w3.org/2000/svg\" height=\"24px\" viewBox=\"0 -960 960 960\">\n",
              "    <path d=\"M120-120v-720h720v720H120Zm60-500h600v-160H180v160Zm220 220h160v-160H400v160Zm0 220h160v-160H400v160ZM180-400h160v-160H180v160Zm440 0h160v-160H620v160ZM180-180h160v-160H180v160Zm440 0h160v-160H620v160Z\"/>\n",
              "  </svg>\n",
              "    </button>\n",
              "\n",
              "  <style>\n",
              "    .colab-df-container {\n",
              "      display:flex;\n",
              "      gap: 12px;\n",
              "    }\n",
              "\n",
              "    .colab-df-convert {\n",
              "      background-color: #E8F0FE;\n",
              "      border: none;\n",
              "      border-radius: 50%;\n",
              "      cursor: pointer;\n",
              "      display: none;\n",
              "      fill: #1967D2;\n",
              "      height: 32px;\n",
              "      padding: 0 0 0 0;\n",
              "      width: 32px;\n",
              "    }\n",
              "\n",
              "    .colab-df-convert:hover {\n",
              "      background-color: #E2EBFA;\n",
              "      box-shadow: 0px 1px 2px rgba(60, 64, 67, 0.3), 0px 1px 3px 1px rgba(60, 64, 67, 0.15);\n",
              "      fill: #174EA6;\n",
              "    }\n",
              "\n",
              "    .colab-df-buttons div {\n",
              "      margin-bottom: 4px;\n",
              "    }\n",
              "\n",
              "    [theme=dark] .colab-df-convert {\n",
              "      background-color: #3B4455;\n",
              "      fill: #D2E3FC;\n",
              "    }\n",
              "\n",
              "    [theme=dark] .colab-df-convert:hover {\n",
              "      background-color: #434B5C;\n",
              "      box-shadow: 0px 1px 3px 1px rgba(0, 0, 0, 0.15);\n",
              "      filter: drop-shadow(0px 1px 2px rgba(0, 0, 0, 0.3));\n",
              "      fill: #FFFFFF;\n",
              "    }\n",
              "  </style>\n",
              "\n",
              "    <script>\n",
              "      const buttonEl =\n",
              "        document.querySelector('#df-647c5477-f310-4a43-84b2-027713d20413 button.colab-df-convert');\n",
              "      buttonEl.style.display =\n",
              "        google.colab.kernel.accessAllowed ? 'block' : 'none';\n",
              "\n",
              "      async function convertToInteractive(key) {\n",
              "        const element = document.querySelector('#df-647c5477-f310-4a43-84b2-027713d20413');\n",
              "        const dataTable =\n",
              "          await google.colab.kernel.invokeFunction('convertToInteractive',\n",
              "                                                    [key], {});\n",
              "        if (!dataTable) return;\n",
              "\n",
              "        const docLinkHtml = 'Like what you see? Visit the ' +\n",
              "          '<a target=\"_blank\" href=https://colab.research.google.com/notebooks/data_table.ipynb>data table notebook</a>'\n",
              "          + ' to learn more about interactive tables.';\n",
              "        element.innerHTML = '';\n",
              "        dataTable['output_type'] = 'display_data';\n",
              "        await google.colab.output.renderOutput(dataTable, element);\n",
              "        const docLink = document.createElement('div');\n",
              "        docLink.innerHTML = docLinkHtml;\n",
              "        element.appendChild(docLink);\n",
              "      }\n",
              "    </script>\n",
              "  </div>\n",
              "\n",
              "\n",
              "<div id=\"df-13afb9e5-8998-4f8d-83d9-8994d1975a84\">\n",
              "  <button class=\"colab-df-quickchart\" onclick=\"quickchart('df-13afb9e5-8998-4f8d-83d9-8994d1975a84')\"\n",
              "            title=\"Suggest charts.\"\n",
              "            style=\"display:none;\">\n",
              "\n",
              "<svg xmlns=\"http://www.w3.org/2000/svg\" height=\"24px\"viewBox=\"0 0 24 24\"\n",
              "     width=\"24px\">\n",
              "    <g>\n",
              "        <path d=\"M19 3H5c-1.1 0-2 .9-2 2v14c0 1.1.9 2 2 2h14c1.1 0 2-.9 2-2V5c0-1.1-.9-2-2-2zM9 17H7v-7h2v7zm4 0h-2V7h2v10zm4 0h-2v-4h2v4z\"/>\n",
              "    </g>\n",
              "</svg>\n",
              "  </button>\n",
              "\n",
              "<style>\n",
              "  .colab-df-quickchart {\n",
              "      --bg-color: #E8F0FE;\n",
              "      --fill-color: #1967D2;\n",
              "      --hover-bg-color: #E2EBFA;\n",
              "      --hover-fill-color: #174EA6;\n",
              "      --disabled-fill-color: #AAA;\n",
              "      --disabled-bg-color: #DDD;\n",
              "  }\n",
              "\n",
              "  [theme=dark] .colab-df-quickchart {\n",
              "      --bg-color: #3B4455;\n",
              "      --fill-color: #D2E3FC;\n",
              "      --hover-bg-color: #434B5C;\n",
              "      --hover-fill-color: #FFFFFF;\n",
              "      --disabled-bg-color: #3B4455;\n",
              "      --disabled-fill-color: #666;\n",
              "  }\n",
              "\n",
              "  .colab-df-quickchart {\n",
              "    background-color: var(--bg-color);\n",
              "    border: none;\n",
              "    border-radius: 50%;\n",
              "    cursor: pointer;\n",
              "    display: none;\n",
              "    fill: var(--fill-color);\n",
              "    height: 32px;\n",
              "    padding: 0;\n",
              "    width: 32px;\n",
              "  }\n",
              "\n",
              "  .colab-df-quickchart:hover {\n",
              "    background-color: var(--hover-bg-color);\n",
              "    box-shadow: 0 1px 2px rgba(60, 64, 67, 0.3), 0 1px 3px 1px rgba(60, 64, 67, 0.15);\n",
              "    fill: var(--button-hover-fill-color);\n",
              "  }\n",
              "\n",
              "  .colab-df-quickchart-complete:disabled,\n",
              "  .colab-df-quickchart-complete:disabled:hover {\n",
              "    background-color: var(--disabled-bg-color);\n",
              "    fill: var(--disabled-fill-color);\n",
              "    box-shadow: none;\n",
              "  }\n",
              "\n",
              "  .colab-df-spinner {\n",
              "    border: 2px solid var(--fill-color);\n",
              "    border-color: transparent;\n",
              "    border-bottom-color: var(--fill-color);\n",
              "    animation:\n",
              "      spin 1s steps(1) infinite;\n",
              "  }\n",
              "\n",
              "  @keyframes spin {\n",
              "    0% {\n",
              "      border-color: transparent;\n",
              "      border-bottom-color: var(--fill-color);\n",
              "      border-left-color: var(--fill-color);\n",
              "    }\n",
              "    20% {\n",
              "      border-color: transparent;\n",
              "      border-left-color: var(--fill-color);\n",
              "      border-top-color: var(--fill-color);\n",
              "    }\n",
              "    30% {\n",
              "      border-color: transparent;\n",
              "      border-left-color: var(--fill-color);\n",
              "      border-top-color: var(--fill-color);\n",
              "      border-right-color: var(--fill-color);\n",
              "    }\n",
              "    40% {\n",
              "      border-color: transparent;\n",
              "      border-right-color: var(--fill-color);\n",
              "      border-top-color: var(--fill-color);\n",
              "    }\n",
              "    60% {\n",
              "      border-color: transparent;\n",
              "      border-right-color: var(--fill-color);\n",
              "    }\n",
              "    80% {\n",
              "      border-color: transparent;\n",
              "      border-right-color: var(--fill-color);\n",
              "      border-bottom-color: var(--fill-color);\n",
              "    }\n",
              "    90% {\n",
              "      border-color: transparent;\n",
              "      border-bottom-color: var(--fill-color);\n",
              "    }\n",
              "  }\n",
              "</style>\n",
              "\n",
              "  <script>\n",
              "    async function quickchart(key) {\n",
              "      const quickchartButtonEl =\n",
              "        document.querySelector('#' + key + ' button');\n",
              "      quickchartButtonEl.disabled = true;  // To prevent multiple clicks.\n",
              "      quickchartButtonEl.classList.add('colab-df-spinner');\n",
              "      try {\n",
              "        const charts = await google.colab.kernel.invokeFunction(\n",
              "            'suggestCharts', [key], {});\n",
              "      } catch (error) {\n",
              "        console.error('Error during call to suggestCharts:', error);\n",
              "      }\n",
              "      quickchartButtonEl.classList.remove('colab-df-spinner');\n",
              "      quickchartButtonEl.classList.add('colab-df-quickchart-complete');\n",
              "    }\n",
              "    (() => {\n",
              "      let quickchartButtonEl =\n",
              "        document.querySelector('#df-13afb9e5-8998-4f8d-83d9-8994d1975a84 button');\n",
              "      quickchartButtonEl.style.display =\n",
              "        google.colab.kernel.accessAllowed ? 'block' : 'none';\n",
              "    })();\n",
              "  </script>\n",
              "</div>\n",
              "    </div>\n",
              "  </div>\n"
            ]
          },
          "metadata": {},
          "execution_count": 197
        }
      ],
      "source": [
        "# change columns & categorical column values to lower case and replace space with hyphen\n",
        "df.columns = df.columns.str.lower().str.replace(' ', '_')\n",
        "string_columns = list(df.dtypes[df.dtypes == 'object'].index)\n",
        "\n",
        "for col in string_columns:\n",
        "    df[col] = df[col].str.lower().str.replace(' ', '_')\n",
        "df.head(1).T"
      ]
    },
    {
      "cell_type": "code",
      "source": [
        "loan_title_dict_cat = {'credit_card_refinancing':['credit_card_refinance_loan','credit_card_refi','cc_refi','cc-refinance','cc_refinance','credit_card_refinance'],\n",
        "                       'debt_consolidation':['debt_consolidation_2013','conso','consolidated','dept_consolidation','card_consolidation','credit_consolidation',\n",
        "                                             'cc_consolidation','consolidation_loan','credit_card_consolidation','debt_consolidation_loan','consolidate',\n",
        "                                             'consolidation','bill_consolidation','loan_consolidation'],\n",
        "                       'personal_loan':['getting_ahead','wedding_loan','loan1','loan_1','vacation','myloan','personal','lending_club','major_purchase','my_loan'],\n",
        "                       'home_loan':['home','home_buying','house','car_financing','car_loan'],\n",
        "                       'home_improvement_loan':['pool','bathroom','home_improvement'],\n",
        "                       'payoff_loan':['credit_pay_off','credit_card_pay_off','bill_payoff','pay_off','pay_off_bills','bills','get_debt_free','credit_payoff',\n",
        "                                      'debt_free','freedom','credit_card_payoff','payoff','debt_payoff','debt_reduction','credit_card_paydown',\n",
        "                                      'get_out_of_debt','relief'],\n",
        "                       'medical_loan':['medical_expenses','medical'],\n",
        "                       'other':['green_loan','moving_and_relocation'],\n",
        "                       'business_loan':['lending_loan'],\n",
        "                       'credit_loan':['credit','cc','cc_loan','credit_card_loan','credit_cards','credit_card_debt','cards',\n",
        "                                      'loan','debt_loan','debt','credit_card'],\n",
        "                       'refinance_loan':['refinance','refi']}"
      ],
      "metadata": {
        "id": "eiabT0E-K3Sk"
      },
      "execution_count": 10,
      "outputs": []
    },
    {
      "cell_type": "code",
      "source": [
        "#reducing the number of categories in loan_title\n",
        "df['loan_title']=df['loan_title'].replace(to_replace='payoff', value='payoff_loan')\n",
        "df['loan_title']=df['loan_title'].replace(to_replace='business', value='business_loan')\n",
        "\n",
        "for key, value in loan_title_dict_cat.items():\n",
        "  for item in value:\n",
        "    df['loan_title']=df['loan_title'].replace(to_replace=item, value=key)\n",
        "df['loan_title'].value_counts().sort_values()"
      ],
      "metadata": {
        "id": "zWL73GmvJct7"
      },
      "execution_count": null,
      "outputs": []
    },
    {
      "cell_type": "code",
      "source": [
        "#df[df.groupby(['loan_title'])['loan_title'].transform('count')]\n",
        "#df.groupby(['loan_title'])['loan_title'].agg('count').ge(100)\n",
        "#df.groupby(by=col).loan_default_status.agg(['mean'])\n",
        "#plt.figure(figsize=(26,40))\n",
        "#df[df.groupby(['loan_title'])['loan_title'].transform('count').ge(100)].loan_title.unique()\n",
        "#fig, ax = plt.subplots(figsize=(26,10))\n",
        "#sns.catplot(data=df[df.groupby(['loan_title'])['loan_title'].transform('count').ge(100)],x='loan_title',hue=\"loan_title\", kind=\"count\", height=5, aspect=2)\n",
        "#graph=sns.countplot(data=df[df.groupby(['loan_title'])['loan_title'].transform('count').ge(100)],ax=ax,x='loan_title')\n",
        "#graph.set_xticklabels(graph.get_xticklabels(),rotation=90)\n",
        "#plt.show()\n",
        "#df[df.groupby(['loan_title'])['loan_title'].transform('count').ge(100)]\n",
        "print(len(df[df.groupby(['loan_title'])['loan_title'].transform('count').ge(50)]))\n",
        "print(len(df))\n",
        "\n",
        "#excluding loan_title categories with count < 1000\n",
        "df=df[df.groupby(['loan_title'])['loan_title'].transform('count').ge(50)]\n",
        "df.head(5)"
      ],
      "metadata": {
        "id": "mcfTMta_hs3E"
      },
      "execution_count": null,
      "outputs": []
    },
    {
      "cell_type": "code",
      "execution_count": 191,
      "metadata": {
        "id": "LTBVx2IaL595"
      },
      "outputs": [],
      "source": [
        "#check for duplicates\n",
        "df.drop_duplicates(inplace=True)"
      ]
    },
    {
      "cell_type": "code",
      "execution_count": null,
      "metadata": {
        "id": "wKO3MT0EqCeY"
      },
      "outputs": [],
      "source": [
        "df.select_dtypes(exclude='object').drop(columns='loan_default_status').describe().T"
      ]
    },
    {
      "cell_type": "code",
      "execution_count": null,
      "metadata": {
        "id": "57s1MH0Xfndr"
      },
      "outputs": [],
      "source": [
        "## Outliers handling using Winsorizer IQR capping method\n",
        "# iterate over the numeric columns in the DataFrame and plot a boxplot for each column\n",
        "for col in df.drop(columns='loan_default_status').select_dtypes(exclude=['object']).columns:\n",
        "    #fig, (ax1) = plt.subplots(1,2,1, figsize=(3,3))\n",
        "      plt.figure(figsize=(12,6))\n",
        "      plt.subplot(1,2,1)\n",
        "      sns.boxplot(data=df[col])\n",
        "      plt.title(col)\n",
        "\n",
        "      plt.subplot(1,2,2)\n",
        "      sns.distplot(df[col], kde=True)\n",
        "      plt.title(col)\n",
        "      plt.show()"
      ]
    },
    {
      "cell_type": "code",
      "execution_count": null,
      "metadata": {
        "id": "oC5FJDfBjVv8"
      },
      "outputs": [],
      "source": [
        "for col in df.drop(columns='loan_default_status').select_dtypes(exclude=['object']).columns:\n",
        "  plt.figure(figsize=(3,3))\n",
        "  sns.boxplot(x='loan_default_status', y=col, data=df)"
      ]
    },
    {
      "cell_type": "code",
      "source": [
        "fig = plt.figure(figsize = (20, 25))\n",
        "j = 0\n",
        "for col in df.drop(columns='loan_default_status').select_dtypes(exclude=['object']).columns:\n",
        "  plt.subplot(6, 4, j+1)\n",
        "  j += 1\n",
        "  sns.set(rc={\"figure.figsize\":(6, 6)})\n",
        "  sns.boxplot(x='loan_default_status', y=col, data=df)\n",
        "  plt.legend(loc='best')\n",
        "fig.tight_layout()\n",
        "fig.subplots_adjust(top=0.95)\n",
        "plt.show()"
      ],
      "metadata": {
        "id": "7kUTbesTp3Tu"
      },
      "execution_count": null,
      "outputs": []
    },
    {
      "cell_type": "code",
      "source": [
        "import seaborn as sns\n",
        "sns.boxplot(x = 'loan_title', y = 'term', data=df)"
      ],
      "metadata": {
        "id": "qrPRgf8SrkqX"
      },
      "execution_count": null,
      "outputs": []
    },
    {
      "cell_type": "code",
      "execution_count": 198,
      "metadata": {
        "colab": {
          "base_uri": "https://localhost:8080/",
          "height": 201
        },
        "id": "7_N73RzEp8mx",
        "outputId": "7b70e83f-b1fc-449f-a682-6015a0d3a6d0"
      },
      "outputs": [
        {
          "output_type": "execute_result",
          "data": {
            "text/plain": [
              "Winsorizer(capping_method='iqr', tail='both',\n",
              "           variables=['funded_amount_investor', 'interest_rate',\n",
              "                      'annual_income', 'open_account', 'total_accounts',\n",
              "                      'revolving_balance', 'total_received_interest',\n",
              "                      'total_current_balance', 'total_revolving_credit_limit'])"
            ],
            "text/html": [
              "<style>#sk-container-id-510 {color: black;}#sk-container-id-510 pre{padding: 0;}#sk-container-id-510 div.sk-toggleable {background-color: white;}#sk-container-id-510 label.sk-toggleable__label {cursor: pointer;display: block;width: 100%;margin-bottom: 0;padding: 0.3em;box-sizing: border-box;text-align: center;}#sk-container-id-510 label.sk-toggleable__label-arrow:before {content: \"▸\";float: left;margin-right: 0.25em;color: #696969;}#sk-container-id-510 label.sk-toggleable__label-arrow:hover:before {color: black;}#sk-container-id-510 div.sk-estimator:hover label.sk-toggleable__label-arrow:before {color: black;}#sk-container-id-510 div.sk-toggleable__content {max-height: 0;max-width: 0;overflow: hidden;text-align: left;background-color: #f0f8ff;}#sk-container-id-510 div.sk-toggleable__content pre {margin: 0.2em;color: black;border-radius: 0.25em;background-color: #f0f8ff;}#sk-container-id-510 input.sk-toggleable__control:checked~div.sk-toggleable__content {max-height: 200px;max-width: 100%;overflow: auto;}#sk-container-id-510 input.sk-toggleable__control:checked~label.sk-toggleable__label-arrow:before {content: \"▾\";}#sk-container-id-510 div.sk-estimator input.sk-toggleable__control:checked~label.sk-toggleable__label {background-color: #d4ebff;}#sk-container-id-510 div.sk-label input.sk-toggleable__control:checked~label.sk-toggleable__label {background-color: #d4ebff;}#sk-container-id-510 input.sk-hidden--visually {border: 0;clip: rect(1px 1px 1px 1px);clip: rect(1px, 1px, 1px, 1px);height: 1px;margin: -1px;overflow: hidden;padding: 0;position: absolute;width: 1px;}#sk-container-id-510 div.sk-estimator {font-family: monospace;background-color: #f0f8ff;border: 1px dotted black;border-radius: 0.25em;box-sizing: border-box;margin-bottom: 0.5em;}#sk-container-id-510 div.sk-estimator:hover {background-color: #d4ebff;}#sk-container-id-510 div.sk-parallel-item::after {content: \"\";width: 100%;border-bottom: 1px solid gray;flex-grow: 1;}#sk-container-id-510 div.sk-label:hover label.sk-toggleable__label {background-color: #d4ebff;}#sk-container-id-510 div.sk-serial::before {content: \"\";position: absolute;border-left: 1px solid gray;box-sizing: border-box;top: 0;bottom: 0;left: 50%;z-index: 0;}#sk-container-id-510 div.sk-serial {display: flex;flex-direction: column;align-items: center;background-color: white;padding-right: 0.2em;padding-left: 0.2em;position: relative;}#sk-container-id-510 div.sk-item {position: relative;z-index: 1;}#sk-container-id-510 div.sk-parallel {display: flex;align-items: stretch;justify-content: center;background-color: white;position: relative;}#sk-container-id-510 div.sk-item::before, #sk-container-id-510 div.sk-parallel-item::before {content: \"\";position: absolute;border-left: 1px solid gray;box-sizing: border-box;top: 0;bottom: 0;left: 50%;z-index: -1;}#sk-container-id-510 div.sk-parallel-item {display: flex;flex-direction: column;z-index: 1;position: relative;background-color: white;}#sk-container-id-510 div.sk-parallel-item:first-child::after {align-self: flex-end;width: 50%;}#sk-container-id-510 div.sk-parallel-item:last-child::after {align-self: flex-start;width: 50%;}#sk-container-id-510 div.sk-parallel-item:only-child::after {width: 0;}#sk-container-id-510 div.sk-dashed-wrapped {border: 1px dashed gray;margin: 0 0.4em 0.5em 0.4em;box-sizing: border-box;padding-bottom: 0.4em;background-color: white;}#sk-container-id-510 div.sk-label label {font-family: monospace;font-weight: bold;display: inline-block;line-height: 1.2em;}#sk-container-id-510 div.sk-label-container {text-align: center;}#sk-container-id-510 div.sk-container {/* jupyter's `normalize.less` sets `[hidden] { display: none; }` but bootstrap.min.css set `[hidden] { display: none !important; }` so we also need the `!important` here to be able to override the default hidden behavior on the sphinx rendered scikit-learn.org. See: https://github.com/scikit-learn/scikit-learn/issues/21755 */display: inline-block !important;position: relative;}#sk-container-id-510 div.sk-text-repr-fallback {display: none;}</style><div id=\"sk-container-id-510\" class=\"sk-top-container\"><div class=\"sk-text-repr-fallback\"><pre>Winsorizer(capping_method=&#x27;iqr&#x27;, tail=&#x27;both&#x27;,\n",
              "           variables=[&#x27;funded_amount_investor&#x27;, &#x27;interest_rate&#x27;,\n",
              "                      &#x27;annual_income&#x27;, &#x27;open_account&#x27;, &#x27;total_accounts&#x27;,\n",
              "                      &#x27;revolving_balance&#x27;, &#x27;total_received_interest&#x27;,\n",
              "                      &#x27;total_current_balance&#x27;, &#x27;total_revolving_credit_limit&#x27;])</pre><b>In a Jupyter environment, please rerun this cell to show the HTML representation or trust the notebook. <br />On GitHub, the HTML representation is unable to render, please try loading this page with nbviewer.org.</b></div><div class=\"sk-container\" hidden><div class=\"sk-item\"><div class=\"sk-estimator sk-toggleable\"><input class=\"sk-toggleable__control sk-hidden--visually\" id=\"sk-estimator-id-510\" type=\"checkbox\" checked><label for=\"sk-estimator-id-510\" class=\"sk-toggleable__label sk-toggleable__label-arrow\">Winsorizer</label><div class=\"sk-toggleable__content\"><pre>Winsorizer(capping_method=&#x27;iqr&#x27;, tail=&#x27;both&#x27;,\n",
              "           variables=[&#x27;funded_amount_investor&#x27;, &#x27;interest_rate&#x27;,\n",
              "                      &#x27;annual_income&#x27;, &#x27;open_account&#x27;, &#x27;total_accounts&#x27;,\n",
              "                      &#x27;revolving_balance&#x27;, &#x27;total_received_interest&#x27;,\n",
              "                      &#x27;total_current_balance&#x27;, &#x27;total_revolving_credit_limit&#x27;])</pre></div></div></div></div></div>"
            ]
          },
          "metadata": {},
          "execution_count": 198
        },
        {
          "output_type": "stream",
          "name": "stdout",
          "text": [
            "{'funded_amount_investor': 41735.32152800001, 'interest_rate': 28.882690784500003, 'annual_income': 223423.76113499998, 'open_account': 34.0, 'total_accounts': 53.0, 'revolving_balance': 33067.0, 'total_received_interest': 8915.115904949998, 'total_current_balance': 762363.0, 'total_revolving_credit_limit': 104119.5}\n",
            "{'funded_amount_investor': -14096.042424000007, 'interest_rate': -5.392010561000003, 'annual_income': -77110.595015, 'open_account': -8.0, 'total_accounts': -17.0, 'revolving_balance': -20325.5, 'total_received_interest': -5687.2552535999985, 'total_current_balance': -483609.0, 'total_revolving_credit_limit': -63817.5}\n"
          ]
        }
      ],
      "source": [
        "capper = Winsorizer(capping_method='iqr',\n",
        "                    tail='both',\n",
        "                    fold=3,\n",
        "                    variables=['funded_amount_investor', 'interest_rate',\n",
        "                               'annual_income', 'open_account', 'total_accounts',\n",
        "                               'revolving_balance','total_received_interest','total_current_balance',\n",
        "                               'total_revolving_credit_limit'])\n",
        "capper.fit(df)\n",
        "print(capper.right_tail_caps_)\n",
        "print(capper.left_tail_caps_)\n",
        "# transform the data\n",
        "df = capper.transform(df)"
      ]
    },
    {
      "cell_type": "code",
      "execution_count": null,
      "metadata": {
        "id": "pxmsfbQ2SfOL"
      },
      "outputs": [],
      "source": [
        "# correlation between y and features\n",
        "##sns.set(rc={'figure.figsize':(30,10)})\n",
        "#sns.set_context(\"talk\", font_scale=0.7)\n",
        "fig, ax = plt.subplots(figsize=(30, 10))\n",
        "#corr_enc = pd.DataFrame(prepare_inputs(df, df.loan_default_status), columns=df.columns.tolist())\n",
        "sns.heatmap(df.iloc[:].corr(method='spearman'), cmap='rainbow_r', annot=True)"
      ]
    },
    {
      "cell_type": "code",
      "execution_count": null,
      "metadata": {
        "id": "wwuXtuQBaP9I"
      },
      "outputs": [],
      "source": [
        "df.drop(\"loan_default_status\", axis=1).apply(lambda x: x.corr(df.loan_default_status,method='spearman')).sort_values(ascending=False).plot(kind='barh', figsize=(14,8))"
      ]
    },
    {
      "cell_type": "code",
      "execution_count": 44,
      "metadata": {
        "colab": {
          "base_uri": "https://localhost:8080/"
        },
        "id": "fteAqaEUiXLx",
        "outputId": "136f2d77-547d-49bb-de38-cbc768729e79"
      },
      "outputs": [
        {
          "output_type": "execute_result",
          "data": {
            "text/plain": [
              "0    60324\n",
              "1     6121\n",
              "Name: loan_default_status, dtype: int64"
            ]
          },
          "metadata": {},
          "execution_count": 44
        }
      ],
      "source": [
        "#distribution of the target. There is data imbalance\n",
        "# Resample is required\n",
        "df.loan_default_status.value_counts()"
      ]
    },
    {
      "cell_type": "code",
      "execution_count": 149,
      "metadata": {
        "colab": {
          "base_uri": "https://localhost:8080/"
        },
        "id": "205hxSuAioJG",
        "outputId": "174825f8-598e-461f-b845-118450f4dd04"
      },
      "outputs": [
        {
          "output_type": "execute_result",
          "data": {
            "text/plain": [
              "9.250996842713784"
            ]
          },
          "metadata": {},
          "execution_count": 149
        }
      ],
      "source": [
        "# Rebalancing is required as bias toward Non-Defaulters\n",
        "(6241/(6241+61222))*100"
      ]
    },
    {
      "cell_type": "code",
      "execution_count": 46,
      "metadata": {
        "colab": {
          "base_uri": "https://localhost:8080/",
          "height": 485
        },
        "id": "4_U-RvBxj0IM",
        "outputId": "8554b16d-8b7a-4466-b4ac-ae4a453e56fc"
      },
      "outputs": [
        {
          "output_type": "execute_result",
          "data": {
            "text/plain": [
              "<Axes: title={'center': 'Target  Class'}, xlabel='loan_default_status', ylabel='Frequency'>"
            ]
          },
          "metadata": {},
          "execution_count": 46
        },
        {
          "output_type": "display_data",
          "data": {
            "text/plain": [
              "<Figure size 640x480 with 1 Axes>"
            ],
            "image/png": "[encoded data removed]"
          },
          "metadata": {}
        }
      ],
      "source": [
        "df[\"loan_default_status\"].value_counts(normalize=False).plot(\n",
        "    kind=\"bar\", xlabel=\"loan_default_status\", ylabel=\"Frequency\", title=\"Target  Class\"\n",
        ")"
      ]
    },
    {
      "cell_type": "code",
      "execution_count": 47,
      "metadata": {
        "colab": {
          "base_uri": "https://localhost:8080/"
        },
        "id": "1rZFcf7oe-zK",
        "outputId": "0e8c6993-b0f4-4335-c0b7-49d343eb294e"
      },
      "outputs": [
        {
          "output_type": "execute_result",
          "data": {
            "text/plain": [
              "0.09212130333358416"
            ]
          },
          "metadata": {},
          "execution_count": 47
        }
      ],
      "source": [
        "global_loan_default_status_mean = df.loan_default_status.mean()\n",
        "global_loan_default_status_mean"
      ]
    },
    {
      "cell_type": "code",
      "execution_count": 199,
      "metadata": {
        "colab": {
          "base_uri": "https://localhost:8080/"
        },
        "id": "n4zm-VbRVCa_",
        "outputId": "cf5dbf79-5e8d-4f3c-f974-299eab86c090"
      },
      "outputs": [
        {
          "output_type": "execute_result",
          "data": {
            "text/plain": [
              "(67463, 32)"
            ]
          },
          "metadata": {},
          "execution_count": 199
        }
      ],
      "source": [
        "# total_current_balance, total_revolving_credit_limit revolving_balance are highly skewed.  Log transformation is applied\n",
        "#var=[\"total_current_balance\", \"total_revolving_credit_limit\", \"revolving_balance\"]\n",
        "\n",
        "df[\"log_total_current_balance\"]=np.log(1+df.total_current_balance)\n",
        "df[\"log_total_revolving_credit_limit\"]=np.log(1+df.total_revolving_credit_limit)\n",
        "df[\"log_revolving_balance\"]=np.log(1+df.revolving_balance)\n",
        "df.drop(columns=['total_current_balance','total_revolving_credit_limit','revolving_balance'],inplace=True)\n",
        "df.shape"
      ]
    },
    {
      "cell_type": "code",
      "execution_count": 200,
      "metadata": {
        "colab": {
          "base_uri": "https://localhost:8080/"
        },
        "id": "X1scexy6dbQa",
        "outputId": "c0abf54c-1cf8-4e61-87a5-93b390822fdf"
      },
      "outputs": [
        {
          "output_type": "execute_result",
          "data": {
            "text/plain": [
              "(67463, 32)"
            ]
          },
          "metadata": {},
          "execution_count": 200
        },
        {
          "output_type": "execute_result",
          "data": {
            "text/plain": [
              "(67463, 32)"
            ]
          },
          "metadata": {},
          "execution_count": 200
        }
      ],
      "source": [
        "#\"collection_recovery_fee\"  \"total_received_late_fee\"  \"recoveries\", \"total_collection_amount\"\n",
        "# these features indicate high possibilities of defaults and data is nosiy; transform to dummuy variables using 90p as cutoffs becasue overall bad rate is around 10%\n",
        "df.shape\n",
        "df[\"collection_recovery_fee_ind\"]=0\n",
        "df.loc[df[\"collection_recovery_fee\"]>1.3,\"collection_recovery_fee_ind\"]=1\n",
        "#df_new[df_new[\"collection_recovery_fee\"]>1.3]=1\n",
        "df[\"total_received_late_fee_ind\"]=0\n",
        "df.loc[df[\"total_received_late_fee\"]>7.5,\"total_received_late_fee_ind\"]=1\n",
        "#df_new[df_new[\"total_received_late_fee\"]>7.5]=1\n",
        "df[\"recoveries_ind\"]=0\n",
        "df.loc[df[\"recoveries\"]>7.5,\"recoveries_ind\"]=1\n",
        "#df_new[df_new[\"recoveries\"]>7.5]=1\n",
        "#df_new[df_new[\"recoveries\"]>7.5]\n",
        "#df_new[df_new[\"recoveries_ind\"]==1].head(5)\n",
        "df.drop(columns=[\"collection_recovery_fee\",\"recoveries\",\n",
        "           \"total_received_late_fee\"], inplace=True)\n",
        "df.shape"
      ]
    },
    {
      "cell_type": "code",
      "source": [
        "#Feature Selection based on Chi2\n",
        "from sklearn.feature_selection import chi2\n",
        "from sklearn.feature_selection import mutual_info_classif\n",
        "from sklearn.feature_selection import f_classif\n",
        "\n",
        "features = df_new.drop(columns='loan_default_status',axis=1)\n",
        "print(features.shape)\n",
        "target = df_new.loan_default_status\n",
        "print(target.shape)\n",
        "cate = [i for i in features.select_dtypes(include='object').columns]\n",
        "num = [i for i in features.select_dtypes(exclude='object').columns]\n",
        "#X_train_enc = prepare_inputs(features, target)\n",
        "X_train_enc = pd.DataFrame(prepare_inputs(features, target), columns=features.columns.tolist())\n",
        "#y_train_enc, y_test_enc = prepare_targets(df.loan_default_status, df.loan_default_status)\n",
        "X_train, X_test, y_train, y_test = train_test_split(X_train_enc\n",
        ", target, test_size=0.20, random_state=42, shuffle=True, stratify=target)\n",
        "\n",
        "# create model instance\n",
        "bst = XGBClassifier(n_estimators=100, objective='binary:logistic')\n",
        "\n",
        "score_list = []\n",
        "for k in range(1, len(features.columns)+1):\n",
        "  k_best = SelectKBest(score_func=f_classif, k=k)\n",
        "  k_best.fit(X_train, y_train)\n",
        "#np.set_printoptions(precision=3)\n",
        "  k_features = k_best.transform(X_train)\n",
        "  k_features_test = k_best.transform(X_test)\n",
        "  bst.fit(k_features, y_train)\n",
        "  kbest_preds = bst.predict(k_features_test)\n",
        "  score_kbest = round(accuracy_score(y_test, kbest_preds), 3)\n",
        "  score_list.append(score_kbest)\n",
        "# filter down X based on kept columns\n",
        "#features = features[[val for i,val in enumerate(features.columns) if k_best.get_support()[i]]]\n",
        "#features.head(1)"
      ],
      "metadata": {
        "id": "GwJOqUYBIQGD"
      },
      "execution_count": null,
      "outputs": []
    },
    {
      "cell_type": "code",
      "source": [
        "fig, ax = plt.subplots(1, 1, figsize=(13, 10))\n",
        "x = np.arange(1, len(features.columns)+1)\n",
        "y = score_list\n",
        "\n",
        "ax.bar(x, y, width=0.2)\n",
        "ax.set_xlabel('Number of features selected using mutual information')\n",
        "ax.set_ylabel('Accuracy Score')\n",
        "ax.set_ylim(0, 1.0)\n",
        "ax.set_xticks(np.arange(1, 29))\n",
        "ax.set_xticklabels(np.arange(1, 29), fontsize=12)\n",
        "\n",
        "for i, v in enumerate(y):\n",
        "    plt.text(x=i+1, y=v+0.05, s=str(v), ha='center')\n",
        "\n",
        "plt.tight_layout()"
      ],
      "metadata": {
        "id": "LiS3rbINPKRX"
      },
      "execution_count": null,
      "outputs": []
    },
    {
      "cell_type": "code",
      "source": [
        "import statsmodels.api as sm\n",
        "ols = sm.OLS(target, X_train_enc).fit()\n",
        "print(ols.summary())"
      ],
      "metadata": {
        "colab": {
          "base_uri": "https://localhost:8080/"
        },
        "id": "42SpLJ-nKlKd",
        "outputId": "550611c6-3de8-4515-ac79-200e231f0a61"
      },
      "execution_count": 127,
      "outputs": [
        {
          "output_type": "stream",
          "name": "stdout",
          "text": [
            "                                 OLS Regression Results                                 \n",
            "========================================================================================\n",
            "Dep. Variable:     loan_default_status   R-squared (uncentered):                   1.000\n",
            "Model:                             OLS   Adj. R-squared (uncentered):              1.000\n",
            "Method:                  Least Squares   F-statistic:                          4.132e+07\n",
            "Date:                 Fri, 20 Oct 2023   Prob (F-statistic):                        0.00\n",
            "Time:                         22:55:11   Log-Likelihood:                      3.1689e+05\n",
            "No. Observations:                67463   AIC:                                 -6.337e+05\n",
            "Df Residuals:                    67432   BIC:                                 -6.334e+05\n",
            "Df Model:                           31                                                  \n",
            "Covariance Type:             nonrobust                                                  \n",
            "====================================================================================================\n",
            "                                       coef    std err          t      P>|t|      [0.025      0.975]\n",
            "----------------------------------------------------------------------------------------------------\n",
            "loan_amount                          0.0003   7.23e-05      3.970      0.000       0.000       0.000\n",
            "funded_amount                     9.507e-05   7.35e-05      1.294      0.196   -4.89e-05       0.000\n",
            "funded_amount_investor               0.1066      0.001     89.794      0.000       0.104       0.109\n",
            "term                                 0.0025      0.001      2.073      0.038       0.000       0.005\n",
            "batch_enrolled                       0.0011      0.001      0.925      0.355      -0.001       0.003\n",
            "interest_rate                        0.1775      0.001    120.754      0.000       0.175       0.180\n",
            "grade                               -0.0003      0.002     -0.150      0.881      -0.004       0.004\n",
            "sub_grade                           -0.0008      0.001     -0.580      0.562      -0.003       0.002\n",
            "home_ownership                       0.0022      0.002      1.151      0.250      -0.002       0.006\n",
            "annual_income                        0.0042      0.000     17.326      0.000       0.004       0.005\n",
            "verification_status                 -0.0067      0.009     -0.718      0.473      -0.025       0.012\n",
            "loan_title                          -0.0001      0.001     -0.136      0.892      -0.002       0.002\n",
            "debit_to_income                      0.1774      0.001    120.747      0.000       0.175       0.180\n",
            "delinquency_-_two_years             -0.0016      0.002     -0.712      0.477      -0.006       0.003\n",
            "inquires_-_six_months               -0.0025      0.006     -0.448      0.654      -0.014       0.008\n",
            "open_account                         0.0003      0.001      0.230      0.818      -0.002       0.003\n",
            "public_record                       -0.0011      0.003     -0.458      0.647      -0.006       0.004\n",
            "revolving_utilities                  0.5315      0.002    276.812      0.000       0.528       0.535\n",
            "total_accounts                      -0.0007      0.001     -0.781      0.435      -0.003       0.001\n",
            "initial_list_status                 -0.0017      0.002     -0.760      0.447      -0.006       0.003\n",
            "total_received_interest              0.0024      0.000     13.366      0.000       0.002       0.003\n",
            "collection_12_months_medical         0.0071      0.036      0.198      0.843      -0.064       0.078\n",
            "application_type                     0.0058      0.038      0.154      0.877      -0.068       0.080\n",
            "last_week_pay                        0.0005      0.001      0.873      0.382      -0.001       0.002\n",
            "total_collection_amount              0.0001      0.000      0.785      0.432      -0.000       0.000\n",
            "log_total_current_balance            0.0005   9.22e-05      5.388      0.000       0.000       0.001\n",
            "log_total_revolving_credit_limit     0.0003   6.54e-05      4.662      0.000       0.000       0.000\n",
            "log_revolving_balance               -0.0001   7.68e-05     -1.383      0.167      -0.000    4.43e-05\n",
            "collection_recovery_fee_ind         -0.0019      0.002     -0.877      0.380      -0.006       0.002\n",
            "total_received_late_fee_ind         -0.0015      0.003     -0.504      0.614      -0.008       0.004\n",
            "recoveries_ind                      -0.0011      0.011     -0.103      0.918      -0.023       0.021\n",
            "==============================================================================\n",
            "Omnibus:                   270425.185   Durbin-Watson:                   2.000\n",
            "Prob(Omnibus):                  0.000   Jarque-Bera (JB):     780600933578.142\n",
            "Skew:                         102.749   Prob(JB):                         0.00\n",
            "Kurtosis:                   16666.043   Cond. No.                     5.00e+03\n",
            "==============================================================================\n",
            "\n",
            "Notes:\n",
            "[1] R² is computed without centering (uncentered) since the model does not contain a constant.\n",
            "[2] Standard Errors assume that the covariance matrix of the errors is correctly specified.\n",
            "[3] The condition number is large,  5e+03. This might indicate that there are\n",
            "strong multicollinearity or other numerical problems.\n"
          ]
        }
      ]
    },
    {
      "cell_type": "code",
      "source": [],
      "metadata": {
        "id": "c4UpDgT9T7lf"
      },
      "execution_count": null,
      "outputs": []
    },
    {
      "cell_type": "markdown",
      "metadata": {
        "id": "GJlI0aBS20Zd"
      },
      "source": [
        "## Feature Importance/Selection based on Risk Ratio"
      ]
    },
    {
      "cell_type": "code",
      "execution_count": null,
      "metadata": {
        "id": "aNgkV17He21k"
      },
      "outputs": [],
      "source": [
        "#Mutual Information - https://triveratechvirtual6x.my.webex.com/recordingservice/sites/triveratechvirtual6x.my/recording/ccb27c09288d103cbbfdf2d7f7787d99/playback\n",
        "# Does Category mean vary widely from global mean?\n",
        "\n",
        "for col in df.select_dtypes(include='object').columns:\n",
        "    df_group = df.groupby(by=col).loan_default_status.agg(['mean'])\n",
        "    df_group['diff'] = df_group['mean'] - global_loan_default_status_mean\n",
        "\n",
        "    #Risk Ratio. Higher risk to default if ratio is significantly >1\n",
        "    df_group['risk'] = df_group['mean'] / global_loan_default_status_mean\n",
        "    df_group['count'] = df[col].value_counts()\n",
        "    display(df_group)"
      ]
    },
    {
      "cell_type": "code",
      "execution_count": 201,
      "metadata": {
        "colab": {
          "base_uri": "https://localhost:8080/"
        },
        "id": "aTvIS9UTJ16K",
        "outputId": "058f6066-36f2-4ca2-baa9-366e602d2067"
      },
      "outputs": [
        {
          "output_type": "execute_result",
          "data": {
            "text/plain": [
              "(67463, 29)"
            ]
          },
          "metadata": {},
          "execution_count": 201
        }
      ],
      "source": [
        "#Following features can be dropped based on Risk Ratio\n",
        "# initial_list_status, application_type, verification_status\n",
        "df.drop(columns=['initial_list_status','application_type','verification_status'], axis=1, inplace=True)\n",
        "df.shape"
      ]
    },
    {
      "cell_type": "code",
      "execution_count": 202,
      "metadata": {
        "colab": {
          "base_uri": "https://localhost:8080/"
        },
        "id": "8U5IxoaJcfsV",
        "outputId": "101b3397-0af5-4df2-e847-3d5e3dd57c44"
      },
      "outputs": [
        {
          "output_type": "stream",
          "name": "stdout",
          "text": [
            "['batch_enrolled', 'grade', 'sub_grade', 'home_ownership', 'loan_title']\n",
            "['loan_amount', 'funded_amount', 'funded_amount_investor', 'term', 'interest_rate', 'annual_income', 'debit_to_income', 'delinquency_-_two_years', 'inquires_-_six_months', 'open_account', 'public_record', 'revolving_utilities', 'total_accounts', 'total_received_interest', 'collection_12_months_medical', 'last_week_pay', 'total_collection_amount', 'loan_default_status', 'log_total_current_balance', 'log_total_revolving_credit_limit', 'log_revolving_balance', 'collection_recovery_fee_ind', 'total_received_late_fee_ind', 'recoveries_ind']\n"
          ]
        }
      ],
      "source": [
        "# Select object type data and numerical data columns seperately\n",
        "cate = [i for i in df.select_dtypes(include='object').columns]\n",
        "num = [i for i in df.select_dtypes(exclude='object').columns]\n",
        "print(cate)\n",
        "print(num)"
      ]
    },
    {
      "cell_type": "code",
      "execution_count": null,
      "metadata": {
        "id": "XADVtg9kp-0j"
      },
      "outputs": [],
      "source": [
        "#Categorical unique values\n",
        "df[cate].nunique()"
      ]
    },
    {
      "cell_type": "code",
      "execution_count": null,
      "metadata": {
        "id": "RxVgwQRemlXG"
      },
      "outputs": [],
      "source": []
    },
    {
      "cell_type": "markdown",
      "metadata": {
        "id": "fOrErQNHUjcA"
      },
      "source": [
        "## Feature Engineering transformation"
      ]
    },
    {
      "cell_type": "code",
      "execution_count": null,
      "metadata": {
        "colab": {
          "base_uri": "https://localhost:8080/"
        },
        "id": "OWjv5EzfUs0i",
        "outputId": "ca751eeb-8b98-494f-bc6e-101a87520c66"
      },
      "outputs": [
        {
          "name": "stdout",
          "output_type": "stream",
          "text": [
            "<class 'pandas.core.frame.DataFrame'>\n",
            "Int64Index: 67463 entries, 0 to 67462\n",
            "Data columns (total 29 columns):\n",
            " #   Column                        Non-Null Count  Dtype  \n",
            "---  ------                        --------------  -----  \n",
            " 0   loan_amount                   67463 non-null  int64  \n",
            " 1   funded_amount                 67463 non-null  int64  \n",
            " 2   funded_amount_investor        67463 non-null  float64\n",
            " 3   term                          67463 non-null  int64  \n",
            " 4   batch_enrolled                67463 non-null  object \n",
            " 5   interest_rate                 67463 non-null  float64\n",
            " 6   grade                         67463 non-null  object \n",
            " 7   sub_grade                     67463 non-null  object \n",
            " 8   home_ownership                67463 non-null  object \n",
            " 9   annual_income                 67463 non-null  float64\n",
            " 10  loan_title                    67463 non-null  object \n",
            " 11  debit_to_income               67463 non-null  float64\n",
            " 12  delinquency_-_two_years       67463 non-null  int64  \n",
            " 13  inquires_-_six_months         67463 non-null  int64  \n",
            " 14  open_account                  67463 non-null  int64  \n",
            " 15  public_record                 67463 non-null  int64  \n",
            " 16  revolving_balance             67463 non-null  int64  \n",
            " 17  revolving_utilities           67463 non-null  float64\n",
            " 18  total_accounts                67463 non-null  int64  \n",
            " 19  total_received_interest       67463 non-null  float64\n",
            " 20  total_received_late_fee       67463 non-null  float64\n",
            " 21  recoveries                    67463 non-null  float64\n",
            " 22  collection_recovery_fee       67463 non-null  float64\n",
            " 23  collection_12_months_medical  67463 non-null  int64  \n",
            " 24  last_week_pay                 67463 non-null  int64  \n",
            " 25  total_collection_amount       67463 non-null  int64  \n",
            " 26  total_current_balance         67463 non-null  int64  \n",
            " 27  total_revolving_credit_limit  67463 non-null  float64\n",
            " 28  loan_default_status           67463 non-null  int64  \n",
            "dtypes: float64(10), int64(14), object(5)\n",
            "memory usage: 15.4+ MB\n"
          ]
        }
      ],
      "source": [
        "df.info()"
      ]
    },
    {
      "cell_type": "code",
      "execution_count": null,
      "metadata": {
        "id": "xCFERos5VXey"
      },
      "outputs": [],
      "source": [
        "df.hist(bins=25, figsize=(15, 25), layout=(-1, 5), edgecolor=\"black\")\n",
        "plt.tight_layout();"
      ]
    },
    {
      "cell_type": "code",
      "execution_count": null,
      "metadata": {
        "id": "UKGUYoPYtrMt"
      },
      "outputs": [],
      "source": [
        "df.hist(bins=25, figsize=(15, 25), layout=(-1, 5), edgecolor=\"black\")\n",
        "plt.tight_layout();"
      ]
    },
    {
      "cell_type": "code",
      "execution_count": 103,
      "metadata": {
        "colab": {
          "base_uri": "https://localhost:8080/",
          "height": 770
        },
        "id": "reqGuU1BZliV",
        "outputId": "b422800c-afd5-467b-e80b-77b41bf381c5"
      },
      "outputs": [
        {
          "output_type": "execute_result",
          "data": {
            "text/plain": [
              "                                    count          mean           std  \\\n",
              "loan_amount                       67463.0  16848.902776   8367.865726   \n",
              "funded_amount                     67463.0  15770.599114   8150.992662   \n",
              "funded_amount_investor            67463.0  14621.799323   6785.345170   \n",
              "term                              67463.0     58.173814      3.327441   \n",
              "interest_rate                     67463.0     11.846258      3.718629   \n",
              "annual_income                     67463.0  79712.809346  41341.702207   \n",
              "debit_to_income                   67463.0     23.299241      8.451824   \n",
              "delinquency_-_two_years           67463.0      0.327127      0.800888   \n",
              "inquires_-_six_months             67463.0      0.145754      0.473291   \n",
              "open_account                      67463.0     14.254451      6.184520   \n",
              "public_record                     67463.0      0.081437      0.346606   \n",
              "revolving_utilities               67463.0     52.889443     22.539450   \n",
              "total_accounts                    67463.0     18.617983      8.272107   \n",
              "total_received_interest           67463.0   2026.013883   2057.046464   \n",
              "total_received_late_fee           67463.0      1.143969      5.244365   \n",
              "recoveries                        67463.0     59.691578    357.026346   \n",
              "collection_recovery_fee           67463.0      1.125141      3.489885   \n",
              "collection_12_months_medical      67463.0      0.021301      0.144385   \n",
              "last_week_pay                     67463.0     71.163260     43.315845   \n",
              "total_collection_amount           67463.0    146.467990    744.382233   \n",
              "log_total_current_balance         67463.0     11.554436      1.018444   \n",
              "log_total_revolving_credit_limit  67463.0      9.645119      0.956664   \n",
              "log_revolving_balance             67463.0      8.434242      1.173854   \n",
              "\n",
              "                                           min            1%            5%  \\\n",
              "loan_amount                        1014.000000   2358.240000   4485.100000   \n",
              "funded_amount                      1014.000000   4017.620000   5894.300000   \n",
              "funded_amount_investor             1114.590204   4224.114235   6327.979784   \n",
              "term                                 36.000000     36.000000     58.000000   \n",
              "interest_rate                         5.320006      5.493987      6.134823   \n",
              "annual_income                     14573.537170  24036.927676  33448.726146   \n",
              "debit_to_income                       0.675299      6.461818     10.205682   \n",
              "delinquency_-_two_years               0.000000      0.000000      0.000000   \n",
              "inquires_-_six_months                 0.000000      0.000000      0.000000   \n",
              "open_account                          2.000000      5.000000      7.000000   \n",
              "public_record                         0.000000      0.000000      0.000000   \n",
              "revolving_utilities                   0.005172      3.157961     11.714745   \n",
              "total_accounts                        4.000000      4.000000      6.000000   \n",
              "total_received_interest               4.736746     46.428515    160.096224   \n",
              "total_received_late_fee               0.000003      0.000841      0.004222   \n",
              "recoveries                            0.000036      0.064410      0.331312   \n",
              "collection_recovery_fee               0.000036      0.028869      0.130243   \n",
              "collection_12_months_medical          0.000000      0.000000      0.000000   \n",
              "last_week_pay                         0.000000      3.000000      9.000000   \n",
              "total_collection_amount               1.000000      3.000000      9.000000   \n",
              "log_total_current_balance             6.426488      8.847382      9.810072   \n",
              "log_total_revolving_credit_limit      6.908755      7.231012      7.909930   \n",
              "log_revolving_balance                 0.000000      4.682131      6.270988   \n",
              "\n",
              "                                           10%           25%           50%  \\\n",
              "loan_amount                        6053.000000  10012.000000  16073.000000   \n",
              "funded_amount                      6986.000000   9266.500000  13042.000000   \n",
              "funded_amount_investor             7591.177420   9831.684984  12793.682170   \n",
              "term                                 58.000000     58.000000     59.000000   \n",
              "interest_rate                         7.035958      9.297147     11.377696   \n",
              "annual_income                     39480.366016  51689.843335  69335.832680   \n",
              "debit_to_income                      12.472440     16.756416     22.656658   \n",
              "delinquency_-_two_years               0.000000      0.000000      0.000000   \n",
              "inquires_-_six_months                 0.000000      0.000000      0.000000   \n",
              "open_account                          8.000000     10.000000     13.000000   \n",
              "public_record                         0.000000      0.000000      0.000000   \n",
              "revolving_utilities                  19.781736     38.658825     54.082334   \n",
              "total_accounts                        8.000000     13.000000     18.000000   \n",
              "total_received_interest             270.065233    570.903814   1330.842771   \n",
              "total_received_late_fee               0.008447      0.021114      0.043398   \n",
              "recoveries                            0.661693      1.629818      3.344524   \n",
              "collection_recovery_fee               0.238418      0.476259      0.780141   \n",
              "collection_12_months_medical          0.000000      0.000000      0.000000   \n",
              "last_week_pay                        14.000000     35.000000     68.000000   \n",
              "total_collection_amount              14.000000     24.000000     36.000000   \n",
              "log_total_current_balance            10.205398     10.827350     11.681571   \n",
              "log_total_revolving_credit_limit      8.334760      9.006570      9.725198   \n",
              "log_revolving_balance                 6.942157      7.846981      8.615590   \n",
              "\n",
              "                                           75%            90%            99%  \\\n",
              "loan_amount                       22106.000000   29772.000000   34163.140000   \n",
              "funded_amount                     21793.000000   29309.800000   34077.000000   \n",
              "funded_amount_investor            17807.594120   24468.425468   33910.711728   \n",
              "term                                 59.000000      59.000000      59.000000   \n",
              "interest_rate                        14.193533      16.911372      21.910677   \n",
              "annual_income                     94623.322785  137477.166860  223423.761135   \n",
              "debit_to_income                      30.048400      35.464472      39.137538   \n",
              "delinquency_-_two_years               0.000000       1.000000       3.000000   \n",
              "inquires_-_six_months                 0.000000       1.000000       2.000000   \n",
              "open_account                         16.000000      24.000000      34.000000   \n",
              "public_record                         0.000000       0.000000       1.000000   \n",
              "revolving_utilities                  69.177117      82.504831      96.253751   \n",
              "total_accounts                       23.000000      29.000000      43.000000   \n",
              "total_received_interest            2656.956837    4858.221585    8915.115905   \n",
              "total_received_late_fee               0.071884       0.102983      30.745361   \n",
              "recoveries                            5.453727       7.569535    2304.239553   \n",
              "collection_recovery_fee               1.070566       1.298903      20.074287   \n",
              "collection_12_months_medical          0.000000       0.000000       1.000000   \n",
              "last_week_pay                       105.000000     135.000000     158.000000   \n",
              "total_collection_amount              46.000000      57.000000    2609.120000   \n",
              "log_total_current_balance            12.338749      12.766059      13.332088   \n",
              "log_total_revolving_credit_limit     10.378090      10.807272      11.497071   \n",
              "log_revolving_balance                 9.228720       9.734145      10.406321   \n",
              "\n",
              "                                            max  \n",
              "loan_amount                        35000.000000  \n",
              "funded_amount                      34999.000000  \n",
              "funded_amount_investor             34999.746430  \n",
              "term                                  59.000000  \n",
              "interest_rate                         27.182348  \n",
              "annual_income                     223423.761135  \n",
              "debit_to_income                       39.629862  \n",
              "delinquency_-_two_years                8.000000  \n",
              "inquires_-_six_months                  5.000000  \n",
              "open_account                          34.000000  \n",
              "public_record                          4.000000  \n",
              "revolving_utilities                  100.880050  \n",
              "total_accounts                        53.000000  \n",
              "total_received_interest             8915.115905  \n",
              "total_received_late_fee               42.618882  \n",
              "recoveries                          4354.467419  \n",
              "collection_recovery_fee              166.833000  \n",
              "collection_12_months_medical           1.000000  \n",
              "last_week_pay                        161.000000  \n",
              "total_collection_amount            16421.000000  \n",
              "log_total_current_balance             13.544179  \n",
              "log_total_revolving_credit_limit      11.553304  \n",
              "log_revolving_balance                 10.406321  "
            ],
            "text/html": [
              "\n",
              "  <div id=\"df-92baa561-7256-4e6d-a750-32d52161e71c\" class=\"colab-df-container\">\n",
              "    <div>\n",
              "<style scoped>\n",
              "    .dataframe tbody tr th:only-of-type {\n",
              "        vertical-align: middle;\n",
              "    }\n",
              "\n",
              "    .dataframe tbody tr th {\n",
              "        vertical-align: top;\n",
              "    }\n",
              "\n",
              "    .dataframe thead th {\n",
              "        text-align: right;\n",
              "    }\n",
              "</style>\n",
              "<table border=\"1\" class=\"dataframe\">\n",
              "  <thead>\n",
              "    <tr style=\"text-align: right;\">\n",
              "      <th></th>\n",
              "      <th>count</th>\n",
              "      <th>mean</th>\n",
              "      <th>std</th>\n",
              "      <th>min</th>\n",
              "      <th>1%</th>\n",
              "      <th>5%</th>\n",
              "      <th>10%</th>\n",
              "      <th>25%</th>\n",
              "      <th>50%</th>\n",
              "      <th>75%</th>\n",
              "      <th>90%</th>\n",
              "      <th>99%</th>\n",
              "      <th>max</th>\n",
              "    </tr>\n",
              "  </thead>\n",
              "  <tbody>\n",
              "    <tr>\n",
              "      <th>loan_amount</th>\n",
              "      <td>67463.0</td>\n",
              "      <td>16848.902776</td>\n",
              "      <td>8367.865726</td>\n",
              "      <td>1014.000000</td>\n",
              "      <td>2358.240000</td>\n",
              "      <td>4485.100000</td>\n",
              "      <td>6053.000000</td>\n",
              "      <td>10012.000000</td>\n",
              "      <td>16073.000000</td>\n",
              "      <td>22106.000000</td>\n",
              "      <td>29772.000000</td>\n",
              "      <td>34163.140000</td>\n",
              "      <td>35000.000000</td>\n",
              "    </tr>\n",
              "    <tr>\n",
              "      <th>funded_amount</th>\n",
              "      <td>67463.0</td>\n",
              "      <td>15770.599114</td>\n",
              "      <td>8150.992662</td>\n",
              "      <td>1014.000000</td>\n",
              "      <td>4017.620000</td>\n",
              "      <td>5894.300000</td>\n",
              "      <td>6986.000000</td>\n",
              "      <td>9266.500000</td>\n",
              "      <td>13042.000000</td>\n",
              "      <td>21793.000000</td>\n",
              "      <td>29309.800000</td>\n",
              "      <td>34077.000000</td>\n",
              "      <td>34999.000000</td>\n",
              "    </tr>\n",
              "    <tr>\n",
              "      <th>funded_amount_investor</th>\n",
              "      <td>67463.0</td>\n",
              "      <td>14621.799323</td>\n",
              "      <td>6785.345170</td>\n",
              "      <td>1114.590204</td>\n",
              "      <td>4224.114235</td>\n",
              "      <td>6327.979784</td>\n",
              "      <td>7591.177420</td>\n",
              "      <td>9831.684984</td>\n",
              "      <td>12793.682170</td>\n",
              "      <td>17807.594120</td>\n",
              "      <td>24468.425468</td>\n",
              "      <td>33910.711728</td>\n",
              "      <td>34999.746430</td>\n",
              "    </tr>\n",
              "    <tr>\n",
              "      <th>term</th>\n",
              "      <td>67463.0</td>\n",
              "      <td>58.173814</td>\n",
              "      <td>3.327441</td>\n",
              "      <td>36.000000</td>\n",
              "      <td>36.000000</td>\n",
              "      <td>58.000000</td>\n",
              "      <td>58.000000</td>\n",
              "      <td>58.000000</td>\n",
              "      <td>59.000000</td>\n",
              "      <td>59.000000</td>\n",
              "      <td>59.000000</td>\n",
              "      <td>59.000000</td>\n",
              "      <td>59.000000</td>\n",
              "    </tr>\n",
              "    <tr>\n",
              "      <th>interest_rate</th>\n",
              "      <td>67463.0</td>\n",
              "      <td>11.846258</td>\n",
              "      <td>3.718629</td>\n",
              "      <td>5.320006</td>\n",
              "      <td>5.493987</td>\n",
              "      <td>6.134823</td>\n",
              "      <td>7.035958</td>\n",
              "      <td>9.297147</td>\n",
              "      <td>11.377696</td>\n",
              "      <td>14.193533</td>\n",
              "      <td>16.911372</td>\n",
              "      <td>21.910677</td>\n",
              "      <td>27.182348</td>\n",
              "    </tr>\n",
              "    <tr>\n",
              "      <th>annual_income</th>\n",
              "      <td>67463.0</td>\n",
              "      <td>79712.809346</td>\n",
              "      <td>41341.702207</td>\n",
              "      <td>14573.537170</td>\n",
              "      <td>24036.927676</td>\n",
              "      <td>33448.726146</td>\n",
              "      <td>39480.366016</td>\n",
              "      <td>51689.843335</td>\n",
              "      <td>69335.832680</td>\n",
              "      <td>94623.322785</td>\n",
              "      <td>137477.166860</td>\n",
              "      <td>223423.761135</td>\n",
              "      <td>223423.761135</td>\n",
              "    </tr>\n",
              "    <tr>\n",
              "      <th>debit_to_income</th>\n",
              "      <td>67463.0</td>\n",
              "      <td>23.299241</td>\n",
              "      <td>8.451824</td>\n",
              "      <td>0.675299</td>\n",
              "      <td>6.461818</td>\n",
              "      <td>10.205682</td>\n",
              "      <td>12.472440</td>\n",
              "      <td>16.756416</td>\n",
              "      <td>22.656658</td>\n",
              "      <td>30.048400</td>\n",
              "      <td>35.464472</td>\n",
              "      <td>39.137538</td>\n",
              "      <td>39.629862</td>\n",
              "    </tr>\n",
              "    <tr>\n",
              "      <th>delinquency_-_two_years</th>\n",
              "      <td>67463.0</td>\n",
              "      <td>0.327127</td>\n",
              "      <td>0.800888</td>\n",
              "      <td>0.000000</td>\n",
              "      <td>0.000000</td>\n",
              "      <td>0.000000</td>\n",
              "      <td>0.000000</td>\n",
              "      <td>0.000000</td>\n",
              "      <td>0.000000</td>\n",
              "      <td>0.000000</td>\n",
              "      <td>1.000000</td>\n",
              "      <td>3.000000</td>\n",
              "      <td>8.000000</td>\n",
              "    </tr>\n",
              "    <tr>\n",
              "      <th>inquires_-_six_months</th>\n",
              "      <td>67463.0</td>\n",
              "      <td>0.145754</td>\n",
              "      <td>0.473291</td>\n",
              "      <td>0.000000</td>\n",
              "      <td>0.000000</td>\n",
              "      <td>0.000000</td>\n",
              "      <td>0.000000</td>\n",
              "      <td>0.000000</td>\n",
              "      <td>0.000000</td>\n",
              "      <td>0.000000</td>\n",
              "      <td>1.000000</td>\n",
              "      <td>2.000000</td>\n",
              "      <td>5.000000</td>\n",
              "    </tr>\n",
              "    <tr>\n",
              "      <th>open_account</th>\n",
              "      <td>67463.0</td>\n",
              "      <td>14.254451</td>\n",
              "      <td>6.184520</td>\n",
              "      <td>2.000000</td>\n",
              "      <td>5.000000</td>\n",
              "      <td>7.000000</td>\n",
              "      <td>8.000000</td>\n",
              "      <td>10.000000</td>\n",
              "      <td>13.000000</td>\n",
              "      <td>16.000000</td>\n",
              "      <td>24.000000</td>\n",
              "      <td>34.000000</td>\n",
              "      <td>34.000000</td>\n",
              "    </tr>\n",
              "    <tr>\n",
              "      <th>public_record</th>\n",
              "      <td>67463.0</td>\n",
              "      <td>0.081437</td>\n",
              "      <td>0.346606</td>\n",
              "      <td>0.000000</td>\n",
              "      <td>0.000000</td>\n",
              "      <td>0.000000</td>\n",
              "      <td>0.000000</td>\n",
              "      <td>0.000000</td>\n",
              "      <td>0.000000</td>\n",
              "      <td>0.000000</td>\n",
              "      <td>0.000000</td>\n",
              "      <td>1.000000</td>\n",
              "      <td>4.000000</td>\n",
              "    </tr>\n",
              "    <tr>\n",
              "      <th>revolving_utilities</th>\n",
              "      <td>67463.0</td>\n",
              "      <td>52.889443</td>\n",
              "      <td>22.539450</td>\n",
              "      <td>0.005172</td>\n",
              "      <td>3.157961</td>\n",
              "      <td>11.714745</td>\n",
              "      <td>19.781736</td>\n",
              "      <td>38.658825</td>\n",
              "      <td>54.082334</td>\n",
              "      <td>69.177117</td>\n",
              "      <td>82.504831</td>\n",
              "      <td>96.253751</td>\n",
              "      <td>100.880050</td>\n",
              "    </tr>\n",
              "    <tr>\n",
              "      <th>total_accounts</th>\n",
              "      <td>67463.0</td>\n",
              "      <td>18.617983</td>\n",
              "      <td>8.272107</td>\n",
              "      <td>4.000000</td>\n",
              "      <td>4.000000</td>\n",
              "      <td>6.000000</td>\n",
              "      <td>8.000000</td>\n",
              "      <td>13.000000</td>\n",
              "      <td>18.000000</td>\n",
              "      <td>23.000000</td>\n",
              "      <td>29.000000</td>\n",
              "      <td>43.000000</td>\n",
              "      <td>53.000000</td>\n",
              "    </tr>\n",
              "    <tr>\n",
              "      <th>total_received_interest</th>\n",
              "      <td>67463.0</td>\n",
              "      <td>2026.013883</td>\n",
              "      <td>2057.046464</td>\n",
              "      <td>4.736746</td>\n",
              "      <td>46.428515</td>\n",
              "      <td>160.096224</td>\n",
              "      <td>270.065233</td>\n",
              "      <td>570.903814</td>\n",
              "      <td>1330.842771</td>\n",
              "      <td>2656.956837</td>\n",
              "      <td>4858.221585</td>\n",
              "      <td>8915.115905</td>\n",
              "      <td>8915.115905</td>\n",
              "    </tr>\n",
              "    <tr>\n",
              "      <th>total_received_late_fee</th>\n",
              "      <td>67463.0</td>\n",
              "      <td>1.143969</td>\n",
              "      <td>5.244365</td>\n",
              "      <td>0.000003</td>\n",
              "      <td>0.000841</td>\n",
              "      <td>0.004222</td>\n",
              "      <td>0.008447</td>\n",
              "      <td>0.021114</td>\n",
              "      <td>0.043398</td>\n",
              "      <td>0.071884</td>\n",
              "      <td>0.102983</td>\n",
              "      <td>30.745361</td>\n",
              "      <td>42.618882</td>\n",
              "    </tr>\n",
              "    <tr>\n",
              "      <th>recoveries</th>\n",
              "      <td>67463.0</td>\n",
              "      <td>59.691578</td>\n",
              "      <td>357.026346</td>\n",
              "      <td>0.000036</td>\n",
              "      <td>0.064410</td>\n",
              "      <td>0.331312</td>\n",
              "      <td>0.661693</td>\n",
              "      <td>1.629818</td>\n",
              "      <td>3.344524</td>\n",
              "      <td>5.453727</td>\n",
              "      <td>7.569535</td>\n",
              "      <td>2304.239553</td>\n",
              "      <td>4354.467419</td>\n",
              "    </tr>\n",
              "    <tr>\n",
              "      <th>collection_recovery_fee</th>\n",
              "      <td>67463.0</td>\n",
              "      <td>1.125141</td>\n",
              "      <td>3.489885</td>\n",
              "      <td>0.000036</td>\n",
              "      <td>0.028869</td>\n",
              "      <td>0.130243</td>\n",
              "      <td>0.238418</td>\n",
              "      <td>0.476259</td>\n",
              "      <td>0.780141</td>\n",
              "      <td>1.070566</td>\n",
              "      <td>1.298903</td>\n",
              "      <td>20.074287</td>\n",
              "      <td>166.833000</td>\n",
              "    </tr>\n",
              "    <tr>\n",
              "      <th>collection_12_months_medical</th>\n",
              "      <td>67463.0</td>\n",
              "      <td>0.021301</td>\n",
              "      <td>0.144385</td>\n",
              "      <td>0.000000</td>\n",
              "      <td>0.000000</td>\n",
              "      <td>0.000000</td>\n",
              "      <td>0.000000</td>\n",
              "      <td>0.000000</td>\n",
              "      <td>0.000000</td>\n",
              "      <td>0.000000</td>\n",
              "      <td>0.000000</td>\n",
              "      <td>1.000000</td>\n",
              "      <td>1.000000</td>\n",
              "    </tr>\n",
              "    <tr>\n",
              "      <th>last_week_pay</th>\n",
              "      <td>67463.0</td>\n",
              "      <td>71.163260</td>\n",
              "      <td>43.315845</td>\n",
              "      <td>0.000000</td>\n",
              "      <td>3.000000</td>\n",
              "      <td>9.000000</td>\n",
              "      <td>14.000000</td>\n",
              "      <td>35.000000</td>\n",
              "      <td>68.000000</td>\n",
              "      <td>105.000000</td>\n",
              "      <td>135.000000</td>\n",
              "      <td>158.000000</td>\n",
              "      <td>161.000000</td>\n",
              "    </tr>\n",
              "    <tr>\n",
              "      <th>total_collection_amount</th>\n",
              "      <td>67463.0</td>\n",
              "      <td>146.467990</td>\n",
              "      <td>744.382233</td>\n",
              "      <td>1.000000</td>\n",
              "      <td>3.000000</td>\n",
              "      <td>9.000000</td>\n",
              "      <td>14.000000</td>\n",
              "      <td>24.000000</td>\n",
              "      <td>36.000000</td>\n",
              "      <td>46.000000</td>\n",
              "      <td>57.000000</td>\n",
              "      <td>2609.120000</td>\n",
              "      <td>16421.000000</td>\n",
              "    </tr>\n",
              "    <tr>\n",
              "      <th>log_total_current_balance</th>\n",
              "      <td>67463.0</td>\n",
              "      <td>11.554436</td>\n",
              "      <td>1.018444</td>\n",
              "      <td>6.426488</td>\n",
              "      <td>8.847382</td>\n",
              "      <td>9.810072</td>\n",
              "      <td>10.205398</td>\n",
              "      <td>10.827350</td>\n",
              "      <td>11.681571</td>\n",
              "      <td>12.338749</td>\n",
              "      <td>12.766059</td>\n",
              "      <td>13.332088</td>\n",
              "      <td>13.544179</td>\n",
              "    </tr>\n",
              "    <tr>\n",
              "      <th>log_total_revolving_credit_limit</th>\n",
              "      <td>67463.0</td>\n",
              "      <td>9.645119</td>\n",
              "      <td>0.956664</td>\n",
              "      <td>6.908755</td>\n",
              "      <td>7.231012</td>\n",
              "      <td>7.909930</td>\n",
              "      <td>8.334760</td>\n",
              "      <td>9.006570</td>\n",
              "      <td>9.725198</td>\n",
              "      <td>10.378090</td>\n",
              "      <td>10.807272</td>\n",
              "      <td>11.497071</td>\n",
              "      <td>11.553304</td>\n",
              "    </tr>\n",
              "    <tr>\n",
              "      <th>log_revolving_balance</th>\n",
              "      <td>67463.0</td>\n",
              "      <td>8.434242</td>\n",
              "      <td>1.173854</td>\n",
              "      <td>0.000000</td>\n",
              "      <td>4.682131</td>\n",
              "      <td>6.270988</td>\n",
              "      <td>6.942157</td>\n",
              "      <td>7.846981</td>\n",
              "      <td>8.615590</td>\n",
              "      <td>9.228720</td>\n",
              "      <td>9.734145</td>\n",
              "      <td>10.406321</td>\n",
              "      <td>10.406321</td>\n",
              "    </tr>\n",
              "  </tbody>\n",
              "</table>\n",
              "</div>\n",
              "    <div class=\"colab-df-buttons\">\n",
              "\n",
              "  <div class=\"colab-df-container\">\n",
              "    <button class=\"colab-df-convert\" onclick=\"convertToInteractive('df-92baa561-7256-4e6d-a750-32d52161e71c')\"\n",
              "            title=\"Convert this dataframe to an interactive table.\"\n",
              "            style=\"display:none;\">\n",
              "\n",
              "  <svg xmlns=\"http://www.w3.org/2000/svg\" height=\"24px\" viewBox=\"0 -960 960 960\">\n",
              "    <path d=\"M120-120v-720h720v720H120Zm60-500h600v-160H180v160Zm220 220h160v-160H400v160Zm0 220h160v-160H400v160ZM180-400h160v-160H180v160Zm440 0h160v-160H620v160ZM180-180h160v-160H180v160Zm440 0h160v-160H620v160Z\"/>\n",
              "  </svg>\n",
              "    </button>\n",
              "\n",
              "  <style>\n",
              "    .colab-df-container {\n",
              "      display:flex;\n",
              "      gap: 12px;\n",
              "    }\n",
              "\n",
              "    .colab-df-convert {\n",
              "      background-color: #E8F0FE;\n",
              "      border: none;\n",
              "      border-radius: 50%;\n",
              "      cursor: pointer;\n",
              "      display: none;\n",
              "      fill: #1967D2;\n",
              "      height: 32px;\n",
              "      padding: 0 0 0 0;\n",
              "      width: 32px;\n",
              "    }\n",
              "\n",
              "    .colab-df-convert:hover {\n",
              "      background-color: #E2EBFA;\n",
              "      box-shadow: 0px 1px 2px rgba(60, 64, 67, 0.3), 0px 1px 3px 1px rgba(60, 64, 67, 0.15);\n",
              "      fill: #174EA6;\n",
              "    }\n",
              "\n",
              "    .colab-df-buttons div {\n",
              "      margin-bottom: 4px;\n",
              "    }\n",
              "\n",
              "    [theme=dark] .colab-df-convert {\n",
              "      background-color: #3B4455;\n",
              "      fill: #D2E3FC;\n",
              "    }\n",
              "\n",
              "    [theme=dark] .colab-df-convert:hover {\n",
              "      background-color: #434B5C;\n",
              "      box-shadow: 0px 1px 3px 1px rgba(0, 0, 0, 0.15);\n",
              "      filter: drop-shadow(0px 1px 2px rgba(0, 0, 0, 0.3));\n",
              "      fill: #FFFFFF;\n",
              "    }\n",
              "  </style>\n",
              "\n",
              "    <script>\n",
              "      const buttonEl =\n",
              "        document.querySelector('#df-92baa561-7256-4e6d-a750-32d52161e71c button.colab-df-convert');\n",
              "      buttonEl.style.display =\n",
              "        google.colab.kernel.accessAllowed ? 'block' : 'none';\n",
              "\n",
              "      async function convertToInteractive(key) {\n",
              "        const element = document.querySelector('#df-92baa561-7256-4e6d-a750-32d52161e71c');\n",
              "        const dataTable =\n",
              "          await google.colab.kernel.invokeFunction('convertToInteractive',\n",
              "                                                    [key], {});\n",
              "        if (!dataTable) return;\n",
              "\n",
              "        const docLinkHtml = 'Like what you see? Visit the ' +\n",
              "          '<a target=\"_blank\" href=https://colab.research.google.com/notebooks/data_table.ipynb>data table notebook</a>'\n",
              "          + ' to learn more about interactive tables.';\n",
              "        element.innerHTML = '';\n",
              "        dataTable['output_type'] = 'display_data';\n",
              "        await google.colab.output.renderOutput(dataTable, element);\n",
              "        const docLink = document.createElement('div');\n",
              "        docLink.innerHTML = docLinkHtml;\n",
              "        element.appendChild(docLink);\n",
              "      }\n",
              "    </script>\n",
              "  </div>\n",
              "\n",
              "\n",
              "<div id=\"df-9437d26f-96f9-401b-b8ff-4bae10a391db\">\n",
              "  <button class=\"colab-df-quickchart\" onclick=\"quickchart('df-9437d26f-96f9-401b-b8ff-4bae10a391db')\"\n",
              "            title=\"Suggest charts.\"\n",
              "            style=\"display:none;\">\n",
              "\n",
              "<svg xmlns=\"http://www.w3.org/2000/svg\" height=\"24px\"viewBox=\"0 0 24 24\"\n",
              "     width=\"24px\">\n",
              "    <g>\n",
              "        <path d=\"M19 3H5c-1.1 0-2 .9-2 2v14c0 1.1.9 2 2 2h14c1.1 0 2-.9 2-2V5c0-1.1-.9-2-2-2zM9 17H7v-7h2v7zm4 0h-2V7h2v10zm4 0h-2v-4h2v4z\"/>\n",
              "    </g>\n",
              "</svg>\n",
              "  </button>\n",
              "\n",
              "<style>\n",
              "  .colab-df-quickchart {\n",
              "      --bg-color: #E8F0FE;\n",
              "      --fill-color: #1967D2;\n",
              "      --hover-bg-color: #E2EBFA;\n",
              "      --hover-fill-color: #174EA6;\n",
              "      --disabled-fill-color: #AAA;\n",
              "      --disabled-bg-color: #DDD;\n",
              "  }\n",
              "\n",
              "  [theme=dark] .colab-df-quickchart {\n",
              "      --bg-color: #3B4455;\n",
              "      --fill-color: #D2E3FC;\n",
              "      --hover-bg-color: #434B5C;\n",
              "      --hover-fill-color: #FFFFFF;\n",
              "      --disabled-bg-color: #3B4455;\n",
              "      --disabled-fill-color: #666;\n",
              "  }\n",
              "\n",
              "  .colab-df-quickchart {\n",
              "    background-color: var(--bg-color);\n",
              "    border: none;\n",
              "    border-radius: 50%;\n",
              "    cursor: pointer;\n",
              "    display: none;\n",
              "    fill: var(--fill-color);\n",
              "    height: 32px;\n",
              "    padding: 0;\n",
              "    width: 32px;\n",
              "  }\n",
              "\n",
              "  .colab-df-quickchart:hover {\n",
              "    background-color: var(--hover-bg-color);\n",
              "    box-shadow: 0 1px 2px rgba(60, 64, 67, 0.3), 0 1px 3px 1px rgba(60, 64, 67, 0.15);\n",
              "    fill: var(--button-hover-fill-color);\n",
              "  }\n",
              "\n",
              "  .colab-df-quickchart-complete:disabled,\n",
              "  .colab-df-quickchart-complete:disabled:hover {\n",
              "    background-color: var(--disabled-bg-color);\n",
              "    fill: var(--disabled-fill-color);\n",
              "    box-shadow: none;\n",
              "  }\n",
              "\n",
              "  .colab-df-spinner {\n",
              "    border: 2px solid var(--fill-color);\n",
              "    border-color: transparent;\n",
              "    border-bottom-color: var(--fill-color);\n",
              "    animation:\n",
              "      spin 1s steps(1) infinite;\n",
              "  }\n",
              "\n",
              "  @keyframes spin {\n",
              "    0% {\n",
              "      border-color: transparent;\n",
              "      border-bottom-color: var(--fill-color);\n",
              "      border-left-color: var(--fill-color);\n",
              "    }\n",
              "    20% {\n",
              "      border-color: transparent;\n",
              "      border-left-color: var(--fill-color);\n",
              "      border-top-color: var(--fill-color);\n",
              "    }\n",
              "    30% {\n",
              "      border-color: transparent;\n",
              "      border-left-color: var(--fill-color);\n",
              "      border-top-color: var(--fill-color);\n",
              "      border-right-color: var(--fill-color);\n",
              "    }\n",
              "    40% {\n",
              "      border-color: transparent;\n",
              "      border-right-color: var(--fill-color);\n",
              "      border-top-color: var(--fill-color);\n",
              "    }\n",
              "    60% {\n",
              "      border-color: transparent;\n",
              "      border-right-color: var(--fill-color);\n",
              "    }\n",
              "    80% {\n",
              "      border-color: transparent;\n",
              "      border-right-color: var(--fill-color);\n",
              "      border-bottom-color: var(--fill-color);\n",
              "    }\n",
              "    90% {\n",
              "      border-color: transparent;\n",
              "      border-bottom-color: var(--fill-color);\n",
              "    }\n",
              "  }\n",
              "</style>\n",
              "\n",
              "  <script>\n",
              "    async function quickchart(key) {\n",
              "      const quickchartButtonEl =\n",
              "        document.querySelector('#' + key + ' button');\n",
              "      quickchartButtonEl.disabled = true;  // To prevent multiple clicks.\n",
              "      quickchartButtonEl.classList.add('colab-df-spinner');\n",
              "      try {\n",
              "        const charts = await google.colab.kernel.invokeFunction(\n",
              "            'suggestCharts', [key], {});\n",
              "      } catch (error) {\n",
              "        console.error('Error during call to suggestCharts:', error);\n",
              "      }\n",
              "      quickchartButtonEl.classList.remove('colab-df-spinner');\n",
              "      quickchartButtonEl.classList.add('colab-df-quickchart-complete');\n",
              "    }\n",
              "    (() => {\n",
              "      let quickchartButtonEl =\n",
              "        document.querySelector('#df-9437d26f-96f9-401b-b8ff-4bae10a391db button');\n",
              "      quickchartButtonEl.style.display =\n",
              "        google.colab.kernel.accessAllowed ? 'block' : 'none';\n",
              "    })();\n",
              "  </script>\n",
              "</div>\n",
              "    </div>\n",
              "  </div>\n"
            ]
          },
          "metadata": {},
          "execution_count": 103
        }
      ],
      "source": [
        "df.select_dtypes(exclude='object').drop(columns='loan_default_status').describe(percentiles=[0.01,0.05,0.10,0.25,0.50,0.75,0.9,0.99]).T"
      ]
    },
    {
      "cell_type": "code",
      "execution_count": 203,
      "metadata": {
        "colab": {
          "base_uri": "https://localhost:8080/"
        },
        "id": "Sj2QZsi2d-Gd",
        "outputId": "c0c767ba-1200-42e9-9722-ccf96edce9eb"
      },
      "outputs": [
        {
          "output_type": "execute_result",
          "data": {
            "text/plain": [
              "(67463, 28)"
            ]
          },
          "metadata": {},
          "execution_count": 203
        }
      ],
      "source": [
        "drop_list=[\"batch_enrolled\"]\n",
        "\n",
        "df_mr=df.drop(columns=drop_list,axis=1)\n",
        "df_mr.shape\n",
        "\n"
      ]
    },
    {
      "cell_type": "code",
      "execution_count": 204,
      "metadata": {
        "colab": {
          "base_uri": "https://localhost:8080/"
        },
        "id": "D_5yJC6JfNar",
        "outputId": "bec0783c-2e71-442b-9962-6f58b05ce8d1"
      },
      "outputs": [
        {
          "output_type": "stream",
          "name": "stdout",
          "text": [
            "['grade', 'sub_grade', 'home_ownership', 'loan_title']\n",
            "['loan_amount', 'funded_amount', 'funded_amount_investor', 'term', 'interest_rate', 'annual_income', 'debit_to_income', 'delinquency_-_two_years', 'inquires_-_six_months', 'open_account', 'public_record', 'revolving_utilities', 'total_accounts', 'total_received_interest', 'collection_12_months_medical', 'last_week_pay', 'total_collection_amount', 'loan_default_status', 'log_total_current_balance', 'log_total_revolving_credit_limit', 'log_revolving_balance', 'collection_recovery_fee_ind', 'total_received_late_fee_ind', 'recoveries_ind']\n"
          ]
        }
      ],
      "source": [
        "# Select object type data and numerical data columns seperately\n",
        "\n",
        "cate = [i for i in df_mr.select_dtypes(include='object').columns]\n",
        "num = [i for i in df_mr.select_dtypes(exclude='object').columns]\n",
        "print(cate)\n",
        "print(num)"
      ]
    },
    {
      "cell_type": "code",
      "execution_count": 25,
      "metadata": {
        "colab": {
          "base_uri": "https://localhost:8080/"
        },
        "id": "ckXtSixztywE",
        "outputId": "8e30fc90-cc58-4e57-b5d6-faf35ed6ef1d"
      },
      "outputs": [
        {
          "output_type": "execute_result",
          "data": {
            "text/plain": [
              "(67463, 28)"
            ]
          },
          "metadata": {},
          "execution_count": 25
        },
        {
          "output_type": "execute_result",
          "data": {
            "text/plain": [
              "(67463, 28)"
            ]
          },
          "metadata": {},
          "execution_count": 25
        }
      ],
      "source": [
        "#One-Hot Encoding of Categorical Column\n",
        "df_mr.shape\n",
        "cat=['grade', 'sub_grade', 'home_ownership', 'loan_title']\n",
        "#df_mr= pd.get_dummies(df_mr, columns = cate)\n",
        "\n",
        "df_mr.shape"
      ]
    },
    {
      "cell_type": "code",
      "source": [
        "df_mr.head(5)"
      ],
      "metadata": {
        "colab": {
          "base_uri": "https://localhost:8080/",
          "height": 243
        },
        "id": "20_HBayfpLq8",
        "outputId": "7e642f0d-0c3a-4145-a460-06f120d38213"
      },
      "execution_count": 26,
      "outputs": [
        {
          "output_type": "execute_result",
          "data": {
            "text/plain": [
              "   loan_amount  funded_amount  funded_amount_investor  term  interest_rate  \\\n",
              "0        10000          32236             12329.36286    59      11.135007   \n",
              "1         3609          11940             12191.99692    59      12.237563   \n",
              "2        28276           9311             21603.22455    59      12.545884   \n",
              "3        11170           6954             17877.15585    59      16.731201   \n",
              "4        16890          13226             13539.92667    59      15.008300   \n",
              "\n",
              "  grade sub_grade home_ownership  annual_income               loan_title  \\\n",
              "0     b        c4       mortgage   176346.62670       debt_consolidation   \n",
              "1     c        d3           rent    39833.92100       debt_consolidation   \n",
              "2     f        d4       mortgage    91506.69105       debt_consolidation   \n",
              "3     c        c3       mortgage   108286.57590       debt_consolidation   \n",
              "4     c        d4       mortgage    44234.82545  credit_card_refinancing   \n",
              "\n",
              "   debit_to_income  delinquency_-_two_years  inquires_-_six_months  \\\n",
              "0        16.284758                        1                      0   \n",
              "1        15.412409                        0                      0   \n",
              "2        28.137619                        0                      0   \n",
              "3        18.043730                        1                      0   \n",
              "4        17.209886                        1                      3   \n",
              "\n",
              "   open_account  public_record  revolving_utilities  total_accounts  \\\n",
              "0            13              0            74.932551               7   \n",
              "1            12              0            78.297186              13   \n",
              "2            14              0             2.073040              20   \n",
              "3             7              0            67.467951              12   \n",
              "4            13              1            85.250761              22   \n",
              "\n",
              "   total_received_interest  collection_12_months_medical  last_week_pay  \\\n",
              "0              2929.646315                             0             49   \n",
              "1               772.769385                             0            109   \n",
              "2               863.324396                             0             66   \n",
              "3               288.173196                             0             39   \n",
              "4               129.239553                             0             18   \n",
              "\n",
              "   total_collection_amount  loan_default_status  log_total_current_balance  \\\n",
              "0                       31                    0                  12.648519   \n",
              "1                       53                    0                  12.115113   \n",
              "2                       34                    0                  11.405363   \n",
              "3                       40                    0                   9.125871   \n",
              "4                      430                    0                  11.744275   \n",
              "\n",
              "   log_total_revolving_credit_limit  log_revolving_balance  \\\n",
              "0                          8.797851              10.096048   \n",
              "1                          9.946834               6.700731   \n",
              "2                         10.171834               7.519692   \n",
              "3                         11.005677               9.533872   \n",
              "4                         10.024820               7.342779   \n",
              "\n",
              "   collection_recovery_fee_ind  total_received_late_fee_ind  recoveries_ind  \n",
              "0                            0                            0               0  \n",
              "1                            0                            0               0  \n",
              "2                            0                            1               0  \n",
              "3                            0                            0               0  \n",
              "4                            0                            1               1  "
            ],
            "text/html": [
              "\n",
              "  <div id=\"df-f337e3b7-1ed2-44e7-a880-2e079994f11a\" class=\"colab-df-container\">\n",
              "    <div>\n",
              "<style scoped>\n",
              "    .dataframe tbody tr th:only-of-type {\n",
              "        vertical-align: middle;\n",
              "    }\n",
              "\n",
              "    .dataframe tbody tr th {\n",
              "        vertical-align: top;\n",
              "    }\n",
              "\n",
              "    .dataframe thead th {\n",
              "        text-align: right;\n",
              "    }\n",
              "</style>\n",
              "<table border=\"1\" class=\"dataframe\">\n",
              "  <thead>\n",
              "    <tr style=\"text-align: right;\">\n",
              "      <th></th>\n",
              "      <th>loan_amount</th>\n",
              "      <th>funded_amount</th>\n",
              "      <th>funded_amount_investor</th>\n",
              "      <th>term</th>\n",
              "      <th>interest_rate</th>\n",
              "      <th>grade</th>\n",
              "      <th>sub_grade</th>\n",
              "      <th>home_ownership</th>\n",
              "      <th>annual_income</th>\n",
              "      <th>loan_title</th>\n",
              "      <th>debit_to_income</th>\n",
              "      <th>delinquency_-_two_years</th>\n",
              "      <th>inquires_-_six_months</th>\n",
              "      <th>open_account</th>\n",
              "      <th>public_record</th>\n",
              "      <th>revolving_utilities</th>\n",
              "      <th>total_accounts</th>\n",
              "      <th>total_received_interest</th>\n",
              "      <th>collection_12_months_medical</th>\n",
              "      <th>last_week_pay</th>\n",
              "      <th>total_collection_amount</th>\n",
              "      <th>loan_default_status</th>\n",
              "      <th>log_total_current_balance</th>\n",
              "      <th>log_total_revolving_credit_limit</th>\n",
              "      <th>log_revolving_balance</th>\n",
              "      <th>collection_recovery_fee_ind</th>\n",
              "      <th>total_received_late_fee_ind</th>\n",
              "      <th>recoveries_ind</th>\n",
              "    </tr>\n",
              "  </thead>\n",
              "  <tbody>\n",
              "    <tr>\n",
              "      <th>0</th>\n",
              "      <td>10000</td>\n",
              "      <td>32236</td>\n",
              "      <td>12329.36286</td>\n",
              "      <td>59</td>\n",
              "      <td>11.135007</td>\n",
              "      <td>b</td>\n",
              "      <td>c4</td>\n",
              "      <td>mortgage</td>\n",
              "      <td>176346.62670</td>\n",
              "      <td>debt_consolidation</td>\n",
              "      <td>16.284758</td>\n",
              "      <td>1</td>\n",
              "      <td>0</td>\n",
              "      <td>13</td>\n",
              "      <td>0</td>\n",
              "      <td>74.932551</td>\n",
              "      <td>7</td>\n",
              "      <td>2929.646315</td>\n",
              "      <td>0</td>\n",
              "      <td>49</td>\n",
              "      <td>31</td>\n",
              "      <td>0</td>\n",
              "      <td>12.648519</td>\n",
              "      <td>8.797851</td>\n",
              "      <td>10.096048</td>\n",
              "      <td>0</td>\n",
              "      <td>0</td>\n",
              "      <td>0</td>\n",
              "    </tr>\n",
              "    <tr>\n",
              "      <th>1</th>\n",
              "      <td>3609</td>\n",
              "      <td>11940</td>\n",
              "      <td>12191.99692</td>\n",
              "      <td>59</td>\n",
              "      <td>12.237563</td>\n",
              "      <td>c</td>\n",
              "      <td>d3</td>\n",
              "      <td>rent</td>\n",
              "      <td>39833.92100</td>\n",
              "      <td>debt_consolidation</td>\n",
              "      <td>15.412409</td>\n",
              "      <td>0</td>\n",
              "      <td>0</td>\n",
              "      <td>12</td>\n",
              "      <td>0</td>\n",
              "      <td>78.297186</td>\n",
              "      <td>13</td>\n",
              "      <td>772.769385</td>\n",
              "      <td>0</td>\n",
              "      <td>109</td>\n",
              "      <td>53</td>\n",
              "      <td>0</td>\n",
              "      <td>12.115113</td>\n",
              "      <td>9.946834</td>\n",
              "      <td>6.700731</td>\n",
              "      <td>0</td>\n",
              "      <td>0</td>\n",
              "      <td>0</td>\n",
              "    </tr>\n",
              "    <tr>\n",
              "      <th>2</th>\n",
              "      <td>28276</td>\n",
              "      <td>9311</td>\n",
              "      <td>21603.22455</td>\n",
              "      <td>59</td>\n",
              "      <td>12.545884</td>\n",
              "      <td>f</td>\n",
              "      <td>d4</td>\n",
              "      <td>mortgage</td>\n",
              "      <td>91506.69105</td>\n",
              "      <td>debt_consolidation</td>\n",
              "      <td>28.137619</td>\n",
              "      <td>0</td>\n",
              "      <td>0</td>\n",
              "      <td>14</td>\n",
              "      <td>0</td>\n",
              "      <td>2.073040</td>\n",
              "      <td>20</td>\n",
              "      <td>863.324396</td>\n",
              "      <td>0</td>\n",
              "      <td>66</td>\n",
              "      <td>34</td>\n",
              "      <td>0</td>\n",
              "      <td>11.405363</td>\n",
              "      <td>10.171834</td>\n",
              "      <td>7.519692</td>\n",
              "      <td>0</td>\n",
              "      <td>1</td>\n",
              "      <td>0</td>\n",
              "    </tr>\n",
              "    <tr>\n",
              "      <th>3</th>\n",
              "      <td>11170</td>\n",
              "      <td>6954</td>\n",
              "      <td>17877.15585</td>\n",
              "      <td>59</td>\n",
              "      <td>16.731201</td>\n",
              "      <td>c</td>\n",
              "      <td>c3</td>\n",
              "      <td>mortgage</td>\n",
              "      <td>108286.57590</td>\n",
              "      <td>debt_consolidation</td>\n",
              "      <td>18.043730</td>\n",
              "      <td>1</td>\n",
              "      <td>0</td>\n",
              "      <td>7</td>\n",
              "      <td>0</td>\n",
              "      <td>67.467951</td>\n",
              "      <td>12</td>\n",
              "      <td>288.173196</td>\n",
              "      <td>0</td>\n",
              "      <td>39</td>\n",
              "      <td>40</td>\n",
              "      <td>0</td>\n",
              "      <td>9.125871</td>\n",
              "      <td>11.005677</td>\n",
              "      <td>9.533872</td>\n",
              "      <td>0</td>\n",
              "      <td>0</td>\n",
              "      <td>0</td>\n",
              "    </tr>\n",
              "    <tr>\n",
              "      <th>4</th>\n",
              "      <td>16890</td>\n",
              "      <td>13226</td>\n",
              "      <td>13539.92667</td>\n",
              "      <td>59</td>\n",
              "      <td>15.008300</td>\n",
              "      <td>c</td>\n",
              "      <td>d4</td>\n",
              "      <td>mortgage</td>\n",
              "      <td>44234.82545</td>\n",
              "      <td>credit_card_refinancing</td>\n",
              "      <td>17.209886</td>\n",
              "      <td>1</td>\n",
              "      <td>3</td>\n",
              "      <td>13</td>\n",
              "      <td>1</td>\n",
              "      <td>85.250761</td>\n",
              "      <td>22</td>\n",
              "      <td>129.239553</td>\n",
              "      <td>0</td>\n",
              "      <td>18</td>\n",
              "      <td>430</td>\n",
              "      <td>0</td>\n",
              "      <td>11.744275</td>\n",
              "      <td>10.024820</td>\n",
              "      <td>7.342779</td>\n",
              "      <td>0</td>\n",
              "      <td>1</td>\n",
              "      <td>1</td>\n",
              "    </tr>\n",
              "  </tbody>\n",
              "</table>\n",
              "</div>\n",
              "    <div class=\"colab-df-buttons\">\n",
              "\n",
              "  <div class=\"colab-df-container\">\n",
              "    <button class=\"colab-df-convert\" onclick=\"convertToInteractive('df-f337e3b7-1ed2-44e7-a880-2e079994f11a')\"\n",
              "            title=\"Convert this dataframe to an interactive table.\"\n",
              "            style=\"display:none;\">\n",
              "\n",
              "  <svg xmlns=\"http://www.w3.org/2000/svg\" height=\"24px\" viewBox=\"0 -960 960 960\">\n",
              "    <path d=\"M120-120v-720h720v720H120Zm60-500h600v-160H180v160Zm220 220h160v-160H400v160Zm0 220h160v-160H400v160ZM180-400h160v-160H180v160Zm440 0h160v-160H620v160ZM180-180h160v-160H180v160Zm440 0h160v-160H620v160Z\"/>\n",
              "  </svg>\n",
              "    </button>\n",
              "\n",
              "  <style>\n",
              "    .colab-df-container {\n",
              "      display:flex;\n",
              "      gap: 12px;\n",
              "    }\n",
              "\n",
              "    .colab-df-convert {\n",
              "      background-color: #E8F0FE;\n",
              "      border: none;\n",
              "      border-radius: 50%;\n",
              "      cursor: pointer;\n",
              "      display: none;\n",
              "      fill: #1967D2;\n",
              "      height: 32px;\n",
              "      padding: 0 0 0 0;\n",
              "      width: 32px;\n",
              "    }\n",
              "\n",
              "    .colab-df-convert:hover {\n",
              "      background-color: #E2EBFA;\n",
              "      box-shadow: 0px 1px 2px rgba(60, 64, 67, 0.3), 0px 1px 3px 1px rgba(60, 64, 67, 0.15);\n",
              "      fill: #174EA6;\n",
              "    }\n",
              "\n",
              "    .colab-df-buttons div {\n",
              "      margin-bottom: 4px;\n",
              "    }\n",
              "\n",
              "    [theme=dark] .colab-df-convert {\n",
              "      background-color: #3B4455;\n",
              "      fill: #D2E3FC;\n",
              "    }\n",
              "\n",
              "    [theme=dark] .colab-df-convert:hover {\n",
              "      background-color: #434B5C;\n",
              "      box-shadow: 0px 1px 3px 1px rgba(0, 0, 0, 0.15);\n",
              "      filter: drop-shadow(0px 1px 2px rgba(0, 0, 0, 0.3));\n",
              "      fill: #FFFFFF;\n",
              "    }\n",
              "  </style>\n",
              "\n",
              "    <script>\n",
              "      const buttonEl =\n",
              "        document.querySelector('#df-f337e3b7-1ed2-44e7-a880-2e079994f11a button.colab-df-convert');\n",
              "      buttonEl.style.display =\n",
              "        google.colab.kernel.accessAllowed ? 'block' : 'none';\n",
              "\n",
              "      async function convertToInteractive(key) {\n",
              "        const element = document.querySelector('#df-f337e3b7-1ed2-44e7-a880-2e079994f11a');\n",
              "        const dataTable =\n",
              "          await google.colab.kernel.invokeFunction('convertToInteractive',\n",
              "                                                    [key], {});\n",
              "        if (!dataTable) return;\n",
              "\n",
              "        const docLinkHtml = 'Like what you see? Visit the ' +\n",
              "          '<a target=\"_blank\" href=https://colab.research.google.com/notebooks/data_table.ipynb>data table notebook</a>'\n",
              "          + ' to learn more about interactive tables.';\n",
              "        element.innerHTML = '';\n",
              "        dataTable['output_type'] = 'display_data';\n",
              "        await google.colab.output.renderOutput(dataTable, element);\n",
              "        const docLink = document.createElement('div');\n",
              "        docLink.innerHTML = docLinkHtml;\n",
              "        element.appendChild(docLink);\n",
              "      }\n",
              "    </script>\n",
              "  </div>\n",
              "\n",
              "\n",
              "<div id=\"df-0f80893a-7bc8-4e8f-bc14-90fc531ecbff\">\n",
              "  <button class=\"colab-df-quickchart\" onclick=\"quickchart('df-0f80893a-7bc8-4e8f-bc14-90fc531ecbff')\"\n",
              "            title=\"Suggest charts.\"\n",
              "            style=\"display:none;\">\n",
              "\n",
              "<svg xmlns=\"http://www.w3.org/2000/svg\" height=\"24px\"viewBox=\"0 0 24 24\"\n",
              "     width=\"24px\">\n",
              "    <g>\n",
              "        <path d=\"M19 3H5c-1.1 0-2 .9-2 2v14c0 1.1.9 2 2 2h14c1.1 0 2-.9 2-2V5c0-1.1-.9-2-2-2zM9 17H7v-7h2v7zm4 0h-2V7h2v10zm4 0h-2v-4h2v4z\"/>\n",
              "    </g>\n",
              "</svg>\n",
              "  </button>\n",
              "\n",
              "<style>\n",
              "  .colab-df-quickchart {\n",
              "      --bg-color: #E8F0FE;\n",
              "      --fill-color: #1967D2;\n",
              "      --hover-bg-color: #E2EBFA;\n",
              "      --hover-fill-color: #174EA6;\n",
              "      --disabled-fill-color: #AAA;\n",
              "      --disabled-bg-color: #DDD;\n",
              "  }\n",
              "\n",
              "  [theme=dark] .colab-df-quickchart {\n",
              "      --bg-color: #3B4455;\n",
              "      --fill-color: #D2E3FC;\n",
              "      --hover-bg-color: #434B5C;\n",
              "      --hover-fill-color: #FFFFFF;\n",
              "      --disabled-bg-color: #3B4455;\n",
              "      --disabled-fill-color: #666;\n",
              "  }\n",
              "\n",
              "  .colab-df-quickchart {\n",
              "    background-color: var(--bg-color);\n",
              "    border: none;\n",
              "    border-radius: 50%;\n",
              "    cursor: pointer;\n",
              "    display: none;\n",
              "    fill: var(--fill-color);\n",
              "    height: 32px;\n",
              "    padding: 0;\n",
              "    width: 32px;\n",
              "  }\n",
              "\n",
              "  .colab-df-quickchart:hover {\n",
              "    background-color: var(--hover-bg-color);\n",
              "    box-shadow: 0 1px 2px rgba(60, 64, 67, 0.3), 0 1px 3px 1px rgba(60, 64, 67, 0.15);\n",
              "    fill: var(--button-hover-fill-color);\n",
              "  }\n",
              "\n",
              "  .colab-df-quickchart-complete:disabled,\n",
              "  .colab-df-quickchart-complete:disabled:hover {\n",
              "    background-color: var(--disabled-bg-color);\n",
              "    fill: var(--disabled-fill-color);\n",
              "    box-shadow: none;\n",
              "  }\n",
              "\n",
              "  .colab-df-spinner {\n",
              "    border: 2px solid var(--fill-color);\n",
              "    border-color: transparent;\n",
              "    border-bottom-color: var(--fill-color);\n",
              "    animation:\n",
              "      spin 1s steps(1) infinite;\n",
              "  }\n",
              "\n",
              "  @keyframes spin {\n",
              "    0% {\n",
              "      border-color: transparent;\n",
              "      border-bottom-color: var(--fill-color);\n",
              "      border-left-color: var(--fill-color);\n",
              "    }\n",
              "    20% {\n",
              "      border-color: transparent;\n",
              "      border-left-color: var(--fill-color);\n",
              "      border-top-color: var(--fill-color);\n",
              "    }\n",
              "    30% {\n",
              "      border-color: transparent;\n",
              "      border-left-color: var(--fill-color);\n",
              "      border-top-color: var(--fill-color);\n",
              "      border-right-color: var(--fill-color);\n",
              "    }\n",
              "    40% {\n",
              "      border-color: transparent;\n",
              "      border-right-color: var(--fill-color);\n",
              "      border-top-color: var(--fill-color);\n",
              "    }\n",
              "    60% {\n",
              "      border-color: transparent;\n",
              "      border-right-color: var(--fill-color);\n",
              "    }\n",
              "    80% {\n",
              "      border-color: transparent;\n",
              "      border-right-color: var(--fill-color);\n",
              "      border-bottom-color: var(--fill-color);\n",
              "    }\n",
              "    90% {\n",
              "      border-color: transparent;\n",
              "      border-bottom-color: var(--fill-color);\n",
              "    }\n",
              "  }\n",
              "</style>\n",
              "\n",
              "  <script>\n",
              "    async function quickchart(key) {\n",
              "      const quickchartButtonEl =\n",
              "        document.querySelector('#' + key + ' button');\n",
              "      quickchartButtonEl.disabled = true;  // To prevent multiple clicks.\n",
              "      quickchartButtonEl.classList.add('colab-df-spinner');\n",
              "      try {\n",
              "        const charts = await google.colab.kernel.invokeFunction(\n",
              "            'suggestCharts', [key], {});\n",
              "      } catch (error) {\n",
              "        console.error('Error during call to suggestCharts:', error);\n",
              "      }\n",
              "      quickchartButtonEl.classList.remove('colab-df-spinner');\n",
              "      quickchartButtonEl.classList.add('colab-df-quickchart-complete');\n",
              "    }\n",
              "    (() => {\n",
              "      let quickchartButtonEl =\n",
              "        document.querySelector('#df-0f80893a-7bc8-4e8f-bc14-90fc531ecbff button');\n",
              "      quickchartButtonEl.style.display =\n",
              "        google.colab.kernel.accessAllowed ? 'block' : 'none';\n",
              "    })();\n",
              "  </script>\n",
              "</div>\n",
              "    </div>\n",
              "  </div>\n"
            ]
          },
          "metadata": {},
          "execution_count": 26
        }
      ]
    },
    {
      "cell_type": "code",
      "source": [
        "#Encode using Target Encoder\n",
        "#TargetEncode\n",
        "\n",
        "features = df_mr.drop(columns='loan_default_status',axis=1)\n",
        "target = df_mr.loan_default_status\n",
        "cate = [i for i in features.select_dtypes(include='object').columns]\n",
        "num = [i for i in features.select_dtypes(exclude='object').columns]\n",
        "print(cate)\n",
        "print(num)\n",
        "#X_train_enc = prepare_inputs(features, target)\n",
        "X_train_enc = pd.DataFrame(prepare_inputs(features, target), columns=features.columns.tolist())\n",
        "#y_train_enc, y_test_enc = prepare_targets(df.loan_default_status, df.loan_default_status)\n",
        "\n",
        "features.head(1)"
      ],
      "metadata": {
        "id": "RGiWDnQ4uw_U",
        "colab": {
          "base_uri": "https://localhost:8080/",
          "height": 155
        },
        "outputId": "328bd0fa-37ba-48dc-e218-cafd4ca6f28d"
      },
      "execution_count": 236,
      "outputs": [
        {
          "output_type": "stream",
          "name": "stdout",
          "text": [
            "['grade', 'sub_grade', 'home_ownership', 'loan_title']\n",
            "['loan_amount', 'funded_amount', 'funded_amount_investor', 'term', 'interest_rate', 'annual_income', 'debit_to_income', 'delinquency_-_two_years', 'inquires_-_six_months', 'open_account', 'public_record', 'revolving_utilities', 'total_accounts', 'total_received_interest', 'collection_12_months_medical', 'last_week_pay', 'total_collection_amount', 'log_total_current_balance', 'log_total_revolving_credit_limit', 'log_revolving_balance', 'collection_recovery_fee_ind', 'total_received_late_fee_ind', 'recoveries_ind']\n"
          ]
        },
        {
          "output_type": "execute_result",
          "data": {
            "text/plain": [
              "   loan_amount  funded_amount  funded_amount_investor  term  interest_rate  \\\n",
              "0        10000          32236             12329.36286    59      11.135007   \n",
              "\n",
              "  grade sub_grade home_ownership  annual_income          loan_title  \\\n",
              "0     b        c4       mortgage    176346.6267  debt_consolidation   \n",
              "\n",
              "   debit_to_income  delinquency_-_two_years  inquires_-_six_months  \\\n",
              "0        16.284758                        1                      0   \n",
              "\n",
              "   open_account  public_record  revolving_utilities  total_accounts  \\\n",
              "0            13              0            74.932551               7   \n",
              "\n",
              "   total_received_interest  collection_12_months_medical  last_week_pay  \\\n",
              "0              2929.646315                             0             49   \n",
              "\n",
              "   total_collection_amount  log_total_current_balance  \\\n",
              "0                       31                  12.648519   \n",
              "\n",
              "   log_total_revolving_credit_limit  log_revolving_balance  \\\n",
              "0                          8.797851              10.096048   \n",
              "\n",
              "   collection_recovery_fee_ind  total_received_late_fee_ind  recoveries_ind  \n",
              "0                            0                            0               0  "
            ],
            "text/html": [
              "\n",
              "  <div id=\"df-dcfd3438-1e94-4db1-b16b-60b60544e7fe\" class=\"colab-df-container\">\n",
              "    <div>\n",
              "<style scoped>\n",
              "    .dataframe tbody tr th:only-of-type {\n",
              "        vertical-align: middle;\n",
              "    }\n",
              "\n",
              "    .dataframe tbody tr th {\n",
              "        vertical-align: top;\n",
              "    }\n",
              "\n",
              "    .dataframe thead th {\n",
              "        text-align: right;\n",
              "    }\n",
              "</style>\n",
              "<table border=\"1\" class=\"dataframe\">\n",
              "  <thead>\n",
              "    <tr style=\"text-align: right;\">\n",
              "      <th></th>\n",
              "      <th>loan_amount</th>\n",
              "      <th>funded_amount</th>\n",
              "      <th>funded_amount_investor</th>\n",
              "      <th>term</th>\n",
              "      <th>interest_rate</th>\n",
              "      <th>grade</th>\n",
              "      <th>sub_grade</th>\n",
              "      <th>home_ownership</th>\n",
              "      <th>annual_income</th>\n",
              "      <th>loan_title</th>\n",
              "      <th>debit_to_income</th>\n",
              "      <th>delinquency_-_two_years</th>\n",
              "      <th>inquires_-_six_months</th>\n",
              "      <th>open_account</th>\n",
              "      <th>public_record</th>\n",
              "      <th>revolving_utilities</th>\n",
              "      <th>total_accounts</th>\n",
              "      <th>total_received_interest</th>\n",
              "      <th>collection_12_months_medical</th>\n",
              "      <th>last_week_pay</th>\n",
              "      <th>total_collection_amount</th>\n",
              "      <th>log_total_current_balance</th>\n",
              "      <th>log_total_revolving_credit_limit</th>\n",
              "      <th>log_revolving_balance</th>\n",
              "      <th>collection_recovery_fee_ind</th>\n",
              "      <th>total_received_late_fee_ind</th>\n",
              "      <th>recoveries_ind</th>\n",
              "    </tr>\n",
              "  </thead>\n",
              "  <tbody>\n",
              "    <tr>\n",
              "      <th>0</th>\n",
              "      <td>10000</td>\n",
              "      <td>32236</td>\n",
              "      <td>12329.36286</td>\n",
              "      <td>59</td>\n",
              "      <td>11.135007</td>\n",
              "      <td>b</td>\n",
              "      <td>c4</td>\n",
              "      <td>mortgage</td>\n",
              "      <td>176346.6267</td>\n",
              "      <td>debt_consolidation</td>\n",
              "      <td>16.284758</td>\n",
              "      <td>1</td>\n",
              "      <td>0</td>\n",
              "      <td>13</td>\n",
              "      <td>0</td>\n",
              "      <td>74.932551</td>\n",
              "      <td>7</td>\n",
              "      <td>2929.646315</td>\n",
              "      <td>0</td>\n",
              "      <td>49</td>\n",
              "      <td>31</td>\n",
              "      <td>12.648519</td>\n",
              "      <td>8.797851</td>\n",
              "      <td>10.096048</td>\n",
              "      <td>0</td>\n",
              "      <td>0</td>\n",
              "      <td>0</td>\n",
              "    </tr>\n",
              "  </tbody>\n",
              "</table>\n",
              "</div>\n",
              "    <div class=\"colab-df-buttons\">\n",
              "\n",
              "  <div class=\"colab-df-container\">\n",
              "    <button class=\"colab-df-convert\" onclick=\"convertToInteractive('df-dcfd3438-1e94-4db1-b16b-60b60544e7fe')\"\n",
              "            title=\"Convert this dataframe to an interactive table.\"\n",
              "            style=\"display:none;\">\n",
              "\n",
              "  <svg xmlns=\"http://www.w3.org/2000/svg\" height=\"24px\" viewBox=\"0 -960 960 960\">\n",
              "    <path d=\"M120-120v-720h720v720H120Zm60-500h600v-160H180v160Zm220 220h160v-160H400v160Zm0 220h160v-160H400v160ZM180-400h160v-160H180v160Zm440 0h160v-160H620v160ZM180-180h160v-160H180v160Zm440 0h160v-160H620v160Z\"/>\n",
              "  </svg>\n",
              "    </button>\n",
              "\n",
              "  <style>\n",
              "    .colab-df-container {\n",
              "      display:flex;\n",
              "      gap: 12px;\n",
              "    }\n",
              "\n",
              "    .colab-df-convert {\n",
              "      background-color: #E8F0FE;\n",
              "      border: none;\n",
              "      border-radius: 50%;\n",
              "      cursor: pointer;\n",
              "      display: none;\n",
              "      fill: #1967D2;\n",
              "      height: 32px;\n",
              "      padding: 0 0 0 0;\n",
              "      width: 32px;\n",
              "    }\n",
              "\n",
              "    .colab-df-convert:hover {\n",
              "      background-color: #E2EBFA;\n",
              "      box-shadow: 0px 1px 2px rgba(60, 64, 67, 0.3), 0px 1px 3px 1px rgba(60, 64, 67, 0.15);\n",
              "      fill: #174EA6;\n",
              "    }\n",
              "\n",
              "    .colab-df-buttons div {\n",
              "      margin-bottom: 4px;\n",
              "    }\n",
              "\n",
              "    [theme=dark] .colab-df-convert {\n",
              "      background-color: #3B4455;\n",
              "      fill: #D2E3FC;\n",
              "    }\n",
              "\n",
              "    [theme=dark] .colab-df-convert:hover {\n",
              "      background-color: #434B5C;\n",
              "      box-shadow: 0px 1px 3px 1px rgba(0, 0, 0, 0.15);\n",
              "      filter: drop-shadow(0px 1px 2px rgba(0, 0, 0, 0.3));\n",
              "      fill: #FFFFFF;\n",
              "    }\n",
              "  </style>\n",
              "\n",
              "    <script>\n",
              "      const buttonEl =\n",
              "        document.querySelector('#df-dcfd3438-1e94-4db1-b16b-60b60544e7fe button.colab-df-convert');\n",
              "      buttonEl.style.display =\n",
              "        google.colab.kernel.accessAllowed ? 'block' : 'none';\n",
              "\n",
              "      async function convertToInteractive(key) {\n",
              "        const element = document.querySelector('#df-dcfd3438-1e94-4db1-b16b-60b60544e7fe');\n",
              "        const dataTable =\n",
              "          await google.colab.kernel.invokeFunction('convertToInteractive',\n",
              "                                                    [key], {});\n",
              "        if (!dataTable) return;\n",
              "\n",
              "        const docLinkHtml = 'Like what you see? Visit the ' +\n",
              "          '<a target=\"_blank\" href=https://colab.research.google.com/notebooks/data_table.ipynb>data table notebook</a>'\n",
              "          + ' to learn more about interactive tables.';\n",
              "        element.innerHTML = '';\n",
              "        dataTable['output_type'] = 'display_data';\n",
              "        await google.colab.output.renderOutput(dataTable, element);\n",
              "        const docLink = document.createElement('div');\n",
              "        docLink.innerHTML = docLinkHtml;\n",
              "        element.appendChild(docLink);\n",
              "      }\n",
              "    </script>\n",
              "  </div>\n",
              "\n",
              "    </div>\n",
              "  </div>\n"
            ]
          },
          "metadata": {},
          "execution_count": 236
        }
      ]
    },
    {
      "cell_type": "code",
      "execution_count": 206,
      "metadata": {
        "colab": {
          "base_uri": "https://localhost:8080/"
        },
        "id": "DsIsT0UffUGl",
        "outputId": "618bbb92-6dbe-411b-f6a0-2168d4fabf1b"
      },
      "outputs": [
        {
          "output_type": "stream",
          "name": "stdout",
          "text": [
            "(53970, 27)\n",
            "(53970,)\n",
            "(13493, 27)\n",
            "(13493,)\n"
          ]
        },
        {
          "output_type": "execute_result",
          "data": {
            "text/plain": [
              "(53970, 27)"
            ]
          },
          "metadata": {},
          "execution_count": 206
        }
      ],
      "source": [
        "# split into train and test sets\n",
        "\n",
        "X_train, X_test, y_train, y_test = train_test_split(X_train_enc\n",
        ", target, test_size=0.20, random_state=42, shuffle=True, stratify=target)\n",
        "# Scale the features\n",
        "scaler = StandardScaler()\n",
        "X_train_scaled = scaler.fit_transform(X_train)\n",
        "X_test_scaled = scaler.transform(X_test)\n",
        "print(X_train_scaled.shape)\n",
        "print(y_train.shape)\n",
        "print(X_test_scaled.shape)\n",
        "print(y_test.shape)\n",
        "X_train_scaled.shape\n"
      ]
    },
    {
      "cell_type": "code",
      "execution_count": 207,
      "metadata": {
        "colab": {
          "base_uri": "https://localhost:8080/",
          "height": 93
        },
        "id": "1aDZ5OFIRpWT",
        "outputId": "3286a877-e05a-43d2-90f8-cfc34507d1ea"
      },
      "outputs": [
        {
          "output_type": "execute_result",
          "data": {
            "text/plain": [
              "LogisticRegression(random_state=42, solver='liblinear')"
            ],
            "text/html": [
              "<style>#sk-container-id-511 {color: black;}#sk-container-id-511 pre{padding: 0;}#sk-container-id-511 div.sk-toggleable {background-color: white;}#sk-container-id-511 label.sk-toggleable__label {cursor: pointer;display: block;width: 100%;margin-bottom: 0;padding: 0.3em;box-sizing: border-box;text-align: center;}#sk-container-id-511 label.sk-toggleable__label-arrow:before {content: \"▸\";float: left;margin-right: 0.25em;color: #696969;}#sk-container-id-511 label.sk-toggleable__label-arrow:hover:before {color: black;}#sk-container-id-511 div.sk-estimator:hover label.sk-toggleable__label-arrow:before {color: black;}#sk-container-id-511 div.sk-toggleable__content {max-height: 0;max-width: 0;overflow: hidden;text-align: left;background-color: #f0f8ff;}#sk-container-id-511 div.sk-toggleable__content pre {margin: 0.2em;color: black;border-radius: 0.25em;background-color: #f0f8ff;}#sk-container-id-511 input.sk-toggleable__control:checked~div.sk-toggleable__content {max-height: 200px;max-width: 100%;overflow: auto;}#sk-container-id-511 input.sk-toggleable__control:checked~label.sk-toggleable__label-arrow:before {content: \"▾\";}#sk-container-id-511 div.sk-estimator input.sk-toggleable__control:checked~label.sk-toggleable__label {background-color: #d4ebff;}#sk-container-id-511 div.sk-label input.sk-toggleable__control:checked~label.sk-toggleable__label {background-color: #d4ebff;}#sk-container-id-511 input.sk-hidden--visually {border: 0;clip: rect(1px 1px 1px 1px);clip: rect(1px, 1px, 1px, 1px);height: 1px;margin: -1px;overflow: hidden;padding: 0;position: absolute;width: 1px;}#sk-container-id-511 div.sk-estimator {font-family: monospace;background-color: #f0f8ff;border: 1px dotted black;border-radius: 0.25em;box-sizing: border-box;margin-bottom: 0.5em;}#sk-container-id-511 div.sk-estimator:hover {background-color: #d4ebff;}#sk-container-id-511 div.sk-parallel-item::after {content: \"\";width: 100%;border-bottom: 1px solid gray;flex-grow: 1;}#sk-container-id-511 div.sk-label:hover label.sk-toggleable__label {background-color: #d4ebff;}#sk-container-id-511 div.sk-serial::before {content: \"\";position: absolute;border-left: 1px solid gray;box-sizing: border-box;top: 0;bottom: 0;left: 50%;z-index: 0;}#sk-container-id-511 div.sk-serial {display: flex;flex-direction: column;align-items: center;background-color: white;padding-right: 0.2em;padding-left: 0.2em;position: relative;}#sk-container-id-511 div.sk-item {position: relative;z-index: 1;}#sk-container-id-511 div.sk-parallel {display: flex;align-items: stretch;justify-content: center;background-color: white;position: relative;}#sk-container-id-511 div.sk-item::before, #sk-container-id-511 div.sk-parallel-item::before {content: \"\";position: absolute;border-left: 1px solid gray;box-sizing: border-box;top: 0;bottom: 0;left: 50%;z-index: -1;}#sk-container-id-511 div.sk-parallel-item {display: flex;flex-direction: column;z-index: 1;position: relative;background-color: white;}#sk-container-id-511 div.sk-parallel-item:first-child::after {align-self: flex-end;width: 50%;}#sk-container-id-511 div.sk-parallel-item:last-child::after {align-self: flex-start;width: 50%;}#sk-container-id-511 div.sk-parallel-item:only-child::after {width: 0;}#sk-container-id-511 div.sk-dashed-wrapped {border: 1px dashed gray;margin: 0 0.4em 0.5em 0.4em;box-sizing: border-box;padding-bottom: 0.4em;background-color: white;}#sk-container-id-511 div.sk-label label {font-family: monospace;font-weight: bold;display: inline-block;line-height: 1.2em;}#sk-container-id-511 div.sk-label-container {text-align: center;}#sk-container-id-511 div.sk-container {/* jupyter's `normalize.less` sets `[hidden] { display: none; }` but bootstrap.min.css set `[hidden] { display: none !important; }` so we also need the `!important` here to be able to override the default hidden behavior on the sphinx rendered scikit-learn.org. See: https://github.com/scikit-learn/scikit-learn/issues/21755 */display: inline-block !important;position: relative;}#sk-container-id-511 div.sk-text-repr-fallback {display: none;}</style><div id=\"sk-container-id-511\" class=\"sk-top-container\"><div class=\"sk-text-repr-fallback\"><pre>LogisticRegression(random_state=42, solver=&#x27;liblinear&#x27;)</pre><b>In a Jupyter environment, please rerun this cell to show the HTML representation or trust the notebook. <br />On GitHub, the HTML representation is unable to render, please try loading this page with nbviewer.org.</b></div><div class=\"sk-container\" hidden><div class=\"sk-item\"><div class=\"sk-estimator sk-toggleable\"><input class=\"sk-toggleable__control sk-hidden--visually\" id=\"sk-estimator-id-511\" type=\"checkbox\" checked><label for=\"sk-estimator-id-511\" class=\"sk-toggleable__label sk-toggleable__label-arrow\">LogisticRegression</label><div class=\"sk-toggleable__content\"><pre>LogisticRegression(random_state=42, solver=&#x27;liblinear&#x27;)</pre></div></div></div></div></div>"
            ]
          },
          "metadata": {},
          "execution_count": 207
        },
        {
          "output_type": "stream",
          "name": "stdout",
          "text": [
            "Accuracy: 100.0000\n"
          ]
        }
      ],
      "source": [
        "#Accuracy Score\n",
        "model =  LogisticRegression(solver='liblinear', random_state=42)\n",
        "model.fit(X_train_scaled, y_train)\n",
        "# evaluate the model\n",
        "yhat = model.predict(X_test_scaled)\n",
        "# evaluate predictions\n",
        "accuracy = accuracy_score(y_test, yhat)\n",
        "print('Accuracy: %.4f' % (accuracy*100))"
      ]
    },
    {
      "cell_type": "code",
      "source": [
        "from xgboost import XGBClassifier\n",
        "# create model instance\n",
        "bst = XGBClassifier(n_estimators=100, objective='binary:logistic')\n",
        "# fit model\n",
        "bst.fit(X_train_scaled, y_train)\n",
        "# make predictions\n",
        "preds = bst.predict(X_test_scaled)\n",
        "accuracy = accuracy_score(y_test, preds)\n",
        "print('Accuracy: %.4f' % (accuracy*100))"
      ],
      "metadata": {
        "colab": {
          "base_uri": "https://localhost:8080/",
          "height": 267
        },
        "id": "hFUp2M4ubJKw",
        "outputId": "38a66f16-0585-4579-d21b-44902cfe6d0b"
      },
      "execution_count": 208,
      "outputs": [
        {
          "output_type": "execute_result",
          "data": {
            "text/plain": [
              "XGBClassifier(base_score=None, booster=None, callbacks=None,\n",
              "              colsample_bylevel=None, colsample_bynode=None,\n",
              "              colsample_bytree=None, device=None, early_stopping_rounds=None,\n",
              "              enable_categorical=False, eval_metric=None, feature_types=None,\n",
              "              gamma=None, grow_policy=None, importance_type=None,\n",
              "              interaction_constraints=None, learning_rate=None, max_bin=None,\n",
              "              max_cat_threshold=None, max_cat_to_onehot=None,\n",
              "              max_delta_step=None, max_depth=None, max_leaves=None,\n",
              "              min_child_weight=None, missing=nan, monotone_constraints=None,\n",
              "              multi_strategy=None, n_estimators=100, n_jobs=None,\n",
              "              num_parallel_tree=None, random_state=None, ...)"
            ],
            "text/html": [
              "<style>#sk-container-id-512 {color: black;}#sk-container-id-512 pre{padding: 0;}#sk-container-id-512 div.sk-toggleable {background-color: white;}#sk-container-id-512 label.sk-toggleable__label {cursor: pointer;display: block;width: 100%;margin-bottom: 0;padding: 0.3em;box-sizing: border-box;text-align: center;}#sk-container-id-512 label.sk-toggleable__label-arrow:before {content: \"▸\";float: left;margin-right: 0.25em;color: #696969;}#sk-container-id-512 label.sk-toggleable__label-arrow:hover:before {color: black;}#sk-container-id-512 div.sk-estimator:hover label.sk-toggleable__label-arrow:before {color: black;}#sk-container-id-512 div.sk-toggleable__content {max-height: 0;max-width: 0;overflow: hidden;text-align: left;background-color: #f0f8ff;}#sk-container-id-512 div.sk-toggleable__content pre {margin: 0.2em;color: black;border-radius: 0.25em;background-color: #f0f8ff;}#sk-container-id-512 input.sk-toggleable__control:checked~div.sk-toggleable__content {max-height: 200px;max-width: 100%;overflow: auto;}#sk-container-id-512 input.sk-toggleable__control:checked~label.sk-toggleable__label-arrow:before {content: \"▾\";}#sk-container-id-512 div.sk-estimator input.sk-toggleable__control:checked~label.sk-toggleable__label {background-color: #d4ebff;}#sk-container-id-512 div.sk-label input.sk-toggleable__control:checked~label.sk-toggleable__label {background-color: #d4ebff;}#sk-container-id-512 input.sk-hidden--visually {border: 0;clip: rect(1px 1px 1px 1px);clip: rect(1px, 1px, 1px, 1px);height: 1px;margin: -1px;overflow: hidden;padding: 0;position: absolute;width: 1px;}#sk-container-id-512 div.sk-estimator {font-family: monospace;background-color: #f0f8ff;border: 1px dotted black;border-radius: 0.25em;box-sizing: border-box;margin-bottom: 0.5em;}#sk-container-id-512 div.sk-estimator:hover {background-color: #d4ebff;}#sk-container-id-512 div.sk-parallel-item::after {content: \"\";width: 100%;border-bottom: 1px solid gray;flex-grow: 1;}#sk-container-id-512 div.sk-label:hover label.sk-toggleable__label {background-color: #d4ebff;}#sk-container-id-512 div.sk-serial::before {content: \"\";position: absolute;border-left: 1px solid gray;box-sizing: border-box;top: 0;bottom: 0;left: 50%;z-index: 0;}#sk-container-id-512 div.sk-serial {display: flex;flex-direction: column;align-items: center;background-color: white;padding-right: 0.2em;padding-left: 0.2em;position: relative;}#sk-container-id-512 div.sk-item {position: relative;z-index: 1;}#sk-container-id-512 div.sk-parallel {display: flex;align-items: stretch;justify-content: center;background-color: white;position: relative;}#sk-container-id-512 div.sk-item::before, #sk-container-id-512 div.sk-parallel-item::before {content: \"\";position: absolute;border-left: 1px solid gray;box-sizing: border-box;top: 0;bottom: 0;left: 50%;z-index: -1;}#sk-container-id-512 div.sk-parallel-item {display: flex;flex-direction: column;z-index: 1;position: relative;background-color: white;}#sk-container-id-512 div.sk-parallel-item:first-child::after {align-self: flex-end;width: 50%;}#sk-container-id-512 div.sk-parallel-item:last-child::after {align-self: flex-start;width: 50%;}#sk-container-id-512 div.sk-parallel-item:only-child::after {width: 0;}#sk-container-id-512 div.sk-dashed-wrapped {border: 1px dashed gray;margin: 0 0.4em 0.5em 0.4em;box-sizing: border-box;padding-bottom: 0.4em;background-color: white;}#sk-container-id-512 div.sk-label label {font-family: monospace;font-weight: bold;display: inline-block;line-height: 1.2em;}#sk-container-id-512 div.sk-label-container {text-align: center;}#sk-container-id-512 div.sk-container {/* jupyter's `normalize.less` sets `[hidden] { display: none; }` but bootstrap.min.css set `[hidden] { display: none !important; }` so we also need the `!important` here to be able to override the default hidden behavior on the sphinx rendered scikit-learn.org. See: https://github.com/scikit-learn/scikit-learn/issues/21755 */display: inline-block !important;position: relative;}#sk-container-id-512 div.sk-text-repr-fallback {display: none;}</style><div id=\"sk-container-id-512\" class=\"sk-top-container\"><div class=\"sk-text-repr-fallback\"><pre>XGBClassifier(base_score=None, booster=None, callbacks=None,\n",
              "              colsample_bylevel=None, colsample_bynode=None,\n",
              "              colsample_bytree=None, device=None, early_stopping_rounds=None,\n",
              "              enable_categorical=False, eval_metric=None, feature_types=None,\n",
              "              gamma=None, grow_policy=None, importance_type=None,\n",
              "              interaction_constraints=None, learning_rate=None, max_bin=None,\n",
              "              max_cat_threshold=None, max_cat_to_onehot=None,\n",
              "              max_delta_step=None, max_depth=None, max_leaves=None,\n",
              "              min_child_weight=None, missing=nan, monotone_constraints=None,\n",
              "              multi_strategy=None, n_estimators=100, n_jobs=None,\n",
              "              num_parallel_tree=None, random_state=None, ...)</pre><b>In a Jupyter environment, please rerun this cell to show the HTML representation or trust the notebook. <br />On GitHub, the HTML representation is unable to render, please try loading this page with nbviewer.org.</b></div><div class=\"sk-container\" hidden><div class=\"sk-item\"><div class=\"sk-estimator sk-toggleable\"><input class=\"sk-toggleable__control sk-hidden--visually\" id=\"sk-estimator-id-512\" type=\"checkbox\" checked><label for=\"sk-estimator-id-512\" class=\"sk-toggleable__label sk-toggleable__label-arrow\">XGBClassifier</label><div class=\"sk-toggleable__content\"><pre>XGBClassifier(base_score=None, booster=None, callbacks=None,\n",
              "              colsample_bylevel=None, colsample_bynode=None,\n",
              "              colsample_bytree=None, device=None, early_stopping_rounds=None,\n",
              "              enable_categorical=False, eval_metric=None, feature_types=None,\n",
              "              gamma=None, grow_policy=None, importance_type=None,\n",
              "              interaction_constraints=None, learning_rate=None, max_bin=None,\n",
              "              max_cat_threshold=None, max_cat_to_onehot=None,\n",
              "              max_delta_step=None, max_depth=None, max_leaves=None,\n",
              "              min_child_weight=None, missing=nan, monotone_constraints=None,\n",
              "              multi_strategy=None, n_estimators=100, n_jobs=None,\n",
              "              num_parallel_tree=None, random_state=None, ...)</pre></div></div></div></div></div>"
            ]
          },
          "metadata": {},
          "execution_count": 208
        },
        {
          "output_type": "stream",
          "name": "stdout",
          "text": [
            "Accuracy: 100.0000\n"
          ]
        }
      ]
    },
    {
      "cell_type": "markdown",
      "metadata": {
        "id": "oCiYZqYnzyRM"
      },
      "source": [
        "##Feature Coeffiecients"
      ]
    },
    {
      "cell_type": "code",
      "execution_count": 209,
      "metadata": {
        "colab": {
          "base_uri": "https://localhost:8080/",
          "height": 1000
        },
        "id": "njt-lw9QUqxx",
        "outputId": "97d97b2a-b5f5-472b-92d0-5c86940a1942"
      },
      "outputs": [
        {
          "output_type": "stream",
          "name": "stdout",
          "text": [
            "['loan_amount', 'funded_amount', 'funded_amount_investor', 'term', 'interest_rate', 'grade', 'sub_grade', 'home_ownership', 'annual_income', 'loan_title', 'debit_to_income', 'delinquency_-_two_years', 'inquires_-_six_months', 'open_account', 'public_record', 'revolving_utilities', 'total_accounts', 'total_received_interest', 'collection_12_months_medical', 'last_week_pay', 'total_collection_amount', 'log_total_current_balance', 'log_total_revolving_credit_limit', 'log_revolving_balance', 'collection_recovery_fee_ind', 'total_received_late_fee_ind', 'recoveries_ind']\n",
            "Feature: 0, Score: 0.35126\n",
            "Feature: 1, Score: 0.30159\n",
            "Feature: 2, Score: 1.68122\n",
            "Feature: 3, Score: 0.01059\n",
            "Feature: 4, Score: 1.68173\n",
            "Feature: 5, Score: 0.00143\n",
            "Feature: 6, Score: 0.00163\n",
            "Feature: 7, Score: 0.00134\n",
            "Feature: 8, Score: 1.65769\n",
            "Feature: 9, Score: 0.01046\n",
            "Feature: 10, Score: 1.68129\n",
            "Feature: 11, Score: 0.00737\n",
            "Feature: 12, Score: -0.00236\n",
            "Feature: 13, Score: 0.00402\n",
            "Feature: 14, Score: 0.00164\n",
            "Feature: 15, Score: 1.68201\n",
            "Feature: 16, Score: -0.00190\n",
            "Feature: 17, Score: 1.63440\n",
            "Feature: 18, Score: 0.00165\n",
            "Feature: 19, Score: 0.01032\n",
            "Feature: 20, Score: 0.11206\n",
            "Feature: 21, Score: 1.38784\n",
            "Feature: 22, Score: 0.59627\n",
            "Feature: 23, Score: 0.24628\n",
            "Feature: 24, Score: 0.00376\n",
            "Feature: 25, Score: -0.00034\n",
            "Feature: 26, Score: -0.00182\n"
          ]
        },
        {
          "output_type": "execute_result",
          "data": {
            "text/plain": [
              "Text(0.5, 1.0, 'Feature Coefficient')"
            ]
          },
          "metadata": {},
          "execution_count": 209
        },
        {
          "output_type": "execute_result",
          "data": {
            "text/plain": [
              "Text(0.5, 0, 'index')"
            ]
          },
          "metadata": {},
          "execution_count": 209
        },
        {
          "output_type": "execute_result",
          "data": {
            "text/plain": [
              "Text(0, 0.5, 'coefficient')"
            ]
          },
          "metadata": {},
          "execution_count": 209
        },
        {
          "output_type": "execute_result",
          "data": {
            "text/plain": [
              "<BarContainer object of 27 artists>"
            ]
          },
          "metadata": {},
          "execution_count": 209
        },
        {
          "output_type": "display_data",
          "data": {
            "text/plain": [
              "<Figure size 640x480 with 1 Axes>"
            ],
            "image/png": "[encoded data removed]"
          },
          "metadata": {}
        }
      ],
      "source": [
        "\n",
        "coeffs = model.coef_.reshape(-1)\n",
        "# visualizing coefficients\n",
        "index = pd.DataFrame(X_train_scaled, columns = features.columns.tolist()).columns.tolist()\n",
        "print(index)\n",
        "#(pd.DataFrame(coeffs, index = index, columns = ['coeff']).sort_values(by = 'coeff')\n",
        " #.plot(kind='barh', figsize=(8,24)))\n",
        "# summarize feature importance\n",
        "for i,v in enumerate(coeffs):\n",
        " print('Feature: %0d, Score: %.5f' % (i,v))\n",
        "# plot feature importance\n",
        "plt.title('Feature Coefficient')\n",
        "plt.xlabel('index')\n",
        "plt.ylabel('coefficient')\n",
        "plt.bar([x for x in range(len(coeffs))], coeffs)\n",
        "plt.show()"
      ]
    },
    {
      "cell_type": "code",
      "execution_count": null,
      "metadata": {
        "id": "ttIlKVL9pJx7"
      },
      "outputs": [],
      "source": [
        "'''\n",
        "# filter variables near zero coefficient value\n",
        "temp = pd.DataFrame(coeffs, index = index, columns = ['coeff']).sort_values(by = 'coeff')\n",
        "temp = temp[(temp['coeff']>1) | (temp['coeff']< -1)]\n",
        "# drop those features\n",
        "cols_coeff = temp.index.to_list()\n",
        "X_train = pd.DataFrame(X_train, columns = df.drop(columns='loan_default_status', axis=1).columns.tolist())[cols_coeff]\n",
        "X_test = pd.DataFrame(X_test, columns = df.drop(columns='loan_default_status', axis=1).columns.tolist())[cols_coeff]\n",
        "X_train.head(5)\n",
        "X_train.shape\n",
        "'''"
      ]
    },
    {
      "cell_type": "code",
      "execution_count": 210,
      "metadata": {
        "colab": {
          "base_uri": "https://localhost:8080/",
          "height": 93
        },
        "id": "CK5wFzIiu-1r",
        "outputId": "3ad64bef-0bc5-4b72-fbfe-0c3eb5b71f0c"
      },
      "outputs": [
        {
          "output_type": "execute_result",
          "data": {
            "text/plain": [
              "LogisticRegression(random_state=12, solver='liblinear')"
            ],
            "text/html": [
              "<style>#sk-container-id-513 {color: black;}#sk-container-id-513 pre{padding: 0;}#sk-container-id-513 div.sk-toggleable {background-color: white;}#sk-container-id-513 label.sk-toggleable__label {cursor: pointer;display: block;width: 100%;margin-bottom: 0;padding: 0.3em;box-sizing: border-box;text-align: center;}#sk-container-id-513 label.sk-toggleable__label-arrow:before {content: \"▸\";float: left;margin-right: 0.25em;color: #696969;}#sk-container-id-513 label.sk-toggleable__label-arrow:hover:before {color: black;}#sk-container-id-513 div.sk-estimator:hover label.sk-toggleable__label-arrow:before {color: black;}#sk-container-id-513 div.sk-toggleable__content {max-height: 0;max-width: 0;overflow: hidden;text-align: left;background-color: #f0f8ff;}#sk-container-id-513 div.sk-toggleable__content pre {margin: 0.2em;color: black;border-radius: 0.25em;background-color: #f0f8ff;}#sk-container-id-513 input.sk-toggleable__control:checked~div.sk-toggleable__content {max-height: 200px;max-width: 100%;overflow: auto;}#sk-container-id-513 input.sk-toggleable__control:checked~label.sk-toggleable__label-arrow:before {content: \"▾\";}#sk-container-id-513 div.sk-estimator input.sk-toggleable__control:checked~label.sk-toggleable__label {background-color: #d4ebff;}#sk-container-id-513 div.sk-label input.sk-toggleable__control:checked~label.sk-toggleable__label {background-color: #d4ebff;}#sk-container-id-513 input.sk-hidden--visually {border: 0;clip: rect(1px 1px 1px 1px);clip: rect(1px, 1px, 1px, 1px);height: 1px;margin: -1px;overflow: hidden;padding: 0;position: absolute;width: 1px;}#sk-container-id-513 div.sk-estimator {font-family: monospace;background-color: #f0f8ff;border: 1px dotted black;border-radius: 0.25em;box-sizing: border-box;margin-bottom: 0.5em;}#sk-container-id-513 div.sk-estimator:hover {background-color: #d4ebff;}#sk-container-id-513 div.sk-parallel-item::after {content: \"\";width: 100%;border-bottom: 1px solid gray;flex-grow: 1;}#sk-container-id-513 div.sk-label:hover label.sk-toggleable__label {background-color: #d4ebff;}#sk-container-id-513 div.sk-serial::before {content: \"\";position: absolute;border-left: 1px solid gray;box-sizing: border-box;top: 0;bottom: 0;left: 50%;z-index: 0;}#sk-container-id-513 div.sk-serial {display: flex;flex-direction: column;align-items: center;background-color: white;padding-right: 0.2em;padding-left: 0.2em;position: relative;}#sk-container-id-513 div.sk-item {position: relative;z-index: 1;}#sk-container-id-513 div.sk-parallel {display: flex;align-items: stretch;justify-content: center;background-color: white;position: relative;}#sk-container-id-513 div.sk-item::before, #sk-container-id-513 div.sk-parallel-item::before {content: \"\";position: absolute;border-left: 1px solid gray;box-sizing: border-box;top: 0;bottom: 0;left: 50%;z-index: -1;}#sk-container-id-513 div.sk-parallel-item {display: flex;flex-direction: column;z-index: 1;position: relative;background-color: white;}#sk-container-id-513 div.sk-parallel-item:first-child::after {align-self: flex-end;width: 50%;}#sk-container-id-513 div.sk-parallel-item:last-child::after {align-self: flex-start;width: 50%;}#sk-container-id-513 div.sk-parallel-item:only-child::after {width: 0;}#sk-container-id-513 div.sk-dashed-wrapped {border: 1px dashed gray;margin: 0 0.4em 0.5em 0.4em;box-sizing: border-box;padding-bottom: 0.4em;background-color: white;}#sk-container-id-513 div.sk-label label {font-family: monospace;font-weight: bold;display: inline-block;line-height: 1.2em;}#sk-container-id-513 div.sk-label-container {text-align: center;}#sk-container-id-513 div.sk-container {/* jupyter's `normalize.less` sets `[hidden] { display: none; }` but bootstrap.min.css set `[hidden] { display: none !important; }` so we also need the `!important` here to be able to override the default hidden behavior on the sphinx rendered scikit-learn.org. See: https://github.com/scikit-learn/scikit-learn/issues/21755 */display: inline-block !important;position: relative;}#sk-container-id-513 div.sk-text-repr-fallback {display: none;}</style><div id=\"sk-container-id-513\" class=\"sk-top-container\"><div class=\"sk-text-repr-fallback\"><pre>LogisticRegression(random_state=12, solver=&#x27;liblinear&#x27;)</pre><b>In a Jupyter environment, please rerun this cell to show the HTML representation or trust the notebook. <br />On GitHub, the HTML representation is unable to render, please try loading this page with nbviewer.org.</b></div><div class=\"sk-container\" hidden><div class=\"sk-item\"><div class=\"sk-estimator sk-toggleable\"><input class=\"sk-toggleable__control sk-hidden--visually\" id=\"sk-estimator-id-513\" type=\"checkbox\" checked><label for=\"sk-estimator-id-513\" class=\"sk-toggleable__label sk-toggleable__label-arrow\">LogisticRegression</label><div class=\"sk-toggleable__content\"><pre>LogisticRegression(random_state=12, solver=&#x27;liblinear&#x27;)</pre></div></div></div></div></div>"
            ]
          },
          "metadata": {},
          "execution_count": 210
        },
        {
          "output_type": "stream",
          "name": "stdout",
          "text": [
            "Accuracy: 100.00\n"
          ]
        }
      ],
      "source": [
        "#Recheck Accuracy Score\n",
        "model = LogisticRegression(solver='liblinear', random_state=12)\n",
        "model.fit(X_train_scaled, y_train)\n",
        "# evaluate the model\n",
        "yhat = model.predict(X_test_scaled)\n",
        "# evaluate predictions\n",
        "accuracy = accuracy_score(y_test, yhat)\n",
        "print('Accuracy: %.2f' % (accuracy*100))"
      ]
    },
    {
      "cell_type": "code",
      "execution_count": 162,
      "metadata": {
        "colab": {
          "base_uri": "https://localhost:8080/",
          "height": 670
        },
        "id": "ukoPC-rO10sm",
        "outputId": "578a3c96-e062-430d-8bd4-2795b5c12b5a"
      },
      "outputs": [
        {
          "output_type": "stream",
          "name": "stdout",
          "text": [
            "[[12245     0]\n",
            " [    0  1248]]\n"
          ]
        },
        {
          "output_type": "execute_result",
          "data": {
            "text/plain": [
              "<sklearn.metrics._plot.confusion_matrix.ConfusionMatrixDisplay at 0x7d31d61136d0>"
            ]
          },
          "metadata": {},
          "execution_count": 162
        },
        {
          "output_type": "display_data",
          "data": {
            "text/plain": [
              "<Figure size 640x480 with 2 Axes>"
            ],
            "image/png": "[encoded data removed]"
          },
          "metadata": {}
        },
        {
          "output_type": "stream",
          "name": "stdout",
          "text": [
            "              precision    recall  f1-score   support\n",
            "\n",
            "           0       1.00      1.00      1.00     12245\n",
            "           1       1.00      1.00      1.00      1248\n",
            "\n",
            "    accuracy                           1.00     13493\n",
            "   macro avg       1.00      1.00      1.00     13493\n",
            "weighted avg       1.00      1.00      1.00     13493\n",
            "\n"
          ]
        }
      ],
      "source": [
        "# Compute confusion matrix\n",
        "cm = confusion_matrix(y_test, yhat)\n",
        "print(cm)\n",
        "# Plot confusion matrix using ConfusionMatrixDisplay\n",
        "disp = ConfusionMatrixDisplay(confusion_matrix=cm)\n",
        "disp.plot()\n",
        "\n",
        "plt.show()\n",
        "print(classification_report(y_test, yhat))"
      ]
    },
    {
      "cell_type": "code",
      "execution_count": 163,
      "metadata": {
        "colab": {
          "base_uri": "https://localhost:8080/"
        },
        "id": "wDOCGQYHMD39",
        "outputId": "6f49c6e2-c120-4c01-f399-b09fb61f6a84"
      },
      "outputs": [
        {
          "output_type": "stream",
          "name": "stdout",
          "text": [
            "Percentage of Non Defaulters : 0    90.748564\n",
            "Name: loan_default_status, dtype: float64\n",
            "Percentage of Defaulters : 1    9.251436\n",
            "Name: loan_default_status, dtype: float64\n"
          ]
        }
      ],
      "source": [
        "print('Percentage of Non Defaulters :',(y_train[y_train==0].value_counts()/len(y_train) ) * 100)\n",
        "print('Percentage of Defaulters :',(y_train[y_train==1].value_counts()/len(y_train) ) * 100)"
      ]
    },
    {
      "cell_type": "code",
      "execution_count": 164,
      "metadata": {
        "colab": {
          "base_uri": "https://localhost:8080/"
        },
        "id": "HV2ygTRx3LjC",
        "outputId": "b88dae15-b666-43f0-c5f4-0f6c89e9a8ca"
      },
      "outputs": [
        {
          "output_type": "stream",
          "name": "stdout",
          "text": [
            "[0. 0. 1.] [0. 1. 1.] [inf  1.  0.]\n"
          ]
        }
      ],
      "source": [
        "fpr, tpr, thresholds = roc_curve(y_test, yhat)\n",
        "print(fpr, tpr, thresholds)"
      ]
    },
    {
      "cell_type": "code",
      "execution_count": 165,
      "metadata": {
        "colab": {
          "base_uri": "https://localhost:8080/"
        },
        "id": "2axHpXq53i1u",
        "outputId": "2006ce17-20ca-4d85-aaaf-8d2b8ae38584"
      },
      "outputs": [
        {
          "output_type": "execute_result",
          "data": {
            "text/plain": [
              "1.0"
            ]
          },
          "metadata": {},
          "execution_count": 165
        }
      ],
      "source": [
        "from sklearn.metrics import roc_auc_score\n",
        "roc_auc_score=roc_auc_score(y_test, yhat)\n",
        "roc_auc_score"
      ]
    },
    {
      "cell_type": "code",
      "execution_count": 166,
      "metadata": {
        "colab": {
          "base_uri": "https://localhost:8080/"
        },
        "id": "2-0WkawF3fpC",
        "outputId": "b1e3cec5-69d2-452d-a584-b8c816041dfd"
      },
      "outputs": [
        {
          "output_type": "execute_result",
          "data": {
            "text/plain": [
              "1.0"
            ]
          },
          "metadata": {},
          "execution_count": 166
        }
      ],
      "source": [
        "roc_auc = auc(fpr, tpr)\n",
        "roc_auc"
      ]
    },
    {
      "cell_type": "code",
      "execution_count": 167,
      "metadata": {
        "colab": {
          "base_uri": "https://localhost:8080/",
          "height": 524
        },
        "id": "SQ7xiE053XS_",
        "outputId": "3d633585-0c7f-4fba-ef63-c40802e60ae0"
      },
      "outputs": [
        {
          "output_type": "execute_result",
          "data": {
            "text/plain": [
              "<Figure size 500x500 with 0 Axes>"
            ]
          },
          "metadata": {},
          "execution_count": 167
        },
        {
          "output_type": "execute_result",
          "data": {
            "text/plain": [
              "[<matplotlib.lines.Line2D at 0x7d31d2bbf400>]"
            ]
          },
          "metadata": {},
          "execution_count": 167
        },
        {
          "output_type": "execute_result",
          "data": {
            "text/plain": [
              "[<matplotlib.lines.Line2D at 0x7d31d2bbf6a0>]"
            ]
          },
          "metadata": {},
          "execution_count": 167
        },
        {
          "output_type": "execute_result",
          "data": {
            "text/plain": [
              "(-0.02, 1.02)"
            ]
          },
          "metadata": {},
          "execution_count": 167
        },
        {
          "output_type": "execute_result",
          "data": {
            "text/plain": [
              "(-0.02, 1.02)"
            ]
          },
          "metadata": {},
          "execution_count": 167
        },
        {
          "output_type": "execute_result",
          "data": {
            "text/plain": [
              "Text(0.5, 0, 'False Positive Rate')"
            ]
          },
          "metadata": {},
          "execution_count": 167
        },
        {
          "output_type": "execute_result",
          "data": {
            "text/plain": [
              "Text(0, 0.5, 'True Positive Rate')"
            ]
          },
          "metadata": {},
          "execution_count": 167
        },
        {
          "output_type": "execute_result",
          "data": {
            "text/plain": [
              "Text(0.5, 1.0, 'ROC curve')"
            ]
          },
          "metadata": {},
          "execution_count": 167
        },
        {
          "output_type": "execute_result",
          "data": {
            "text/plain": [
              "<matplotlib.legend.Legend at 0x7d31d2bbf8b0>"
            ]
          },
          "metadata": {},
          "execution_count": 167
        },
        {
          "output_type": "display_data",
          "data": {
            "text/plain": [
              "<Figure size 500x500 with 1 Axes>"
            ],
            "image/png": "[encoded data removed]"
          },
          "metadata": {}
        }
      ],
      "source": [
        "#plot roc curve\n",
        "\n",
        "plt.figure(figsize=(5, 5))\n",
        "plt.plot(fpr, tpr, color='lightblue', lw=2, label='ROC curve (AUC = %0.2f)' % roc_auc)\n",
        "plt.plot([0, 1], [0, 1], color='red', lw=2, linestyle='dashed', alpha=0.5)\n",
        "\n",
        "plt.xlim([-0.02, 1.02])\n",
        "plt.ylim([-0.02, 1.02])\n",
        "plt.xlabel('False Positive Rate')\n",
        "plt.ylabel('True Positive Rate')\n",
        "\n",
        "plt.title('ROC curve')\n",
        "plt.legend(loc=\"lower right\")\n",
        "plt.show()"
      ]
    },
    {
      "cell_type": "markdown",
      "metadata": {
        "id": "D0tQCZqIhFBf"
      },
      "source": [
        "##  Neural Network"
      ]
    },
    {
      "cell_type": "code",
      "execution_count": null,
      "metadata": {
        "id": "KYx-yNbclnkg"
      },
      "outputs": [],
      "source": [
        "# keras - tensorflow\n",
        "# check version\n",
        "!pip install keras-tuner --upgrade\n",
        "import tensorflow\n",
        "print(tensorflow.__version__)\n",
        "from tensorflow import keras\n",
        "# mlp for binary classification\n",
        "import pandas as pd\n",
        "from pandas import read_csv\n",
        "from sklearn.model_selection import train_test_split\n",
        "from sklearn.preprocessing import LabelEncoder\n",
        "from tensorflow.keras import Sequential\n",
        "from tensorflow.keras.layers import Dense\n",
        "import seaborn as sns\n",
        "import matplotlib.pyplot as plt\n",
        "from keras.layers import Dropout\n",
        "%matplotlib inline\n",
        "import keras_tuner\n"
      ]
    },
    {
      "cell_type": "code",
      "source": [
        "df_mr.info()"
      ],
      "metadata": {
        "id": "pYG3Bz5aubTZ"
      },
      "execution_count": null,
      "outputs": []
    },
    {
      "cell_type": "code",
      "execution_count": 211,
      "metadata": {
        "colab": {
          "base_uri": "https://localhost:8080/"
        },
        "id": "BBfAcdqbJVvt",
        "outputId": "2f11abcc-2ef6-48b2-c0cf-57a296f4f878"
      },
      "outputs": [
        {
          "output_type": "stream",
          "name": "stdout",
          "text": [
            "(53970, 27) (13493, 27) (53970,) (13493,)\n"
          ]
        }
      ],
      "source": [
        "#df_mr_enc = prepare_inputs(df_mr, df_mr)\n",
        "X_train_scaled_v1, X_test_scaled_v1, y_train_v1, y_test_v1 = X_train_scaled.copy(),X_test_scaled.copy(),y_train.copy(),y_test.copy()\n",
        "#X_train_scaled.shape\n",
        "#X=X_train_enc\n",
        "#y=target\n",
        "X_train_scaled_v1=X_train_scaled_v1.astype('float32')\n",
        "X_test_scaled_v1=X_test_scaled_v1.astype('float32')\n",
        "#X_train, X_test, y_train, y_test = train_test_split(X, y, test_size=0.20, random_state=42, shuffle=True, stratify=target)\n",
        "print(X_train_scaled_v1.shape, X_test_scaled_v1.shape, y_train_v1.shape, y_test_v1.shape)"
      ]
    },
    {
      "cell_type": "code",
      "execution_count": 212,
      "metadata": {
        "colab": {
          "base_uri": "https://localhost:8080/"
        },
        "id": "fZi8cr48hNlB",
        "outputId": "d972b8b3-95a8-40c7-d782-4642fb90c45a"
      },
      "outputs": [
        {
          "output_type": "execute_result",
          "data": {
            "text/plain": [
              "(53970, 27)"
            ]
          },
          "metadata": {},
          "execution_count": 212
        },
        {
          "output_type": "stream",
          "name": "stdout",
          "text": [
            "num of features:27\n"
          ]
        }
      ],
      "source": [
        "X_train_scaled_v1.shape\n",
        "n_features = X_train_scaled_v1.shape[1]\n",
        "print(\"num of features:\" + str(n_features))\n"
      ]
    },
    {
      "cell_type": "code",
      "execution_count": 213,
      "metadata": {
        "id": "hnWb_2BK_bE_"
      },
      "outputs": [],
      "source": [
        "#hyperparameter Tunning\n",
        "def nn_builder(hp) :\n",
        "  model = keras.Sequential()\n",
        " # Tune the number of layers.\n",
        "  for i in range(hp.Int(\"num_layers\", 2,5)):\n",
        "    model.add(keras.layers.Dense(\n",
        "        hp.Choice('units', [16,32,48,60,72]),\n",
        "        activation='relu', input_shape=(n_features,)))\n",
        "    model.add(keras.layers.Dense(hp.Choice('units', [16,32,48,60,72]), activation='relu'))\n",
        "    opt = keras.optimizers.Adam(learning_rate=0.01)\n",
        "    model.compile(optimizer=opt , loss='binary_crossentropy')\n",
        "  return model\n",
        "tuner = keras_tuner.RandomSearch(\n",
        "    hypermodel=nn_builder,\n",
        "    objective=\"val_loss\",\n",
        "    max_trials=3,\n",
        "    executions_per_trial=2,\n",
        "    overwrite=True,\n",
        "\n",
        ")"
      ]
    },
    {
      "cell_type": "code",
      "execution_count": 214,
      "metadata": {
        "colab": {
          "base_uri": "https://localhost:8080/"
        },
        "id": "1W3Zp_p6Fcou",
        "outputId": "464ba922-e6f3-44ec-a5b9-2729a16a4ab4"
      },
      "outputs": [
        {
          "output_type": "stream",
          "name": "stdout",
          "text": [
            "Trial 3 Complete [00h 00m 30s]\n",
            "val_loss: 0.5114717483520508\n",
            "\n",
            "Best val_loss So Far: 0.3120889663696289\n",
            "Total elapsed time: 00h 01m 27s\n",
            "Search space summary\n",
            "Default search space size: 2\n",
            "num_layers (Int)\n",
            "{'default': None, 'conditions': [], 'min_value': 2, 'max_value': 5, 'step': 1, 'sampling': 'linear'}\n",
            "units (Choice)\n",
            "{'default': 16, 'conditions': [], 'values': [16, 32, 48, 60, 72], 'ordered': True}\n"
          ]
        }
      ],
      "source": [
        "tuner.search(X_train_scaled_v1, y_train_v1, epochs=1, validation_data=(X_test_scaled_v1, y_test_v1))\n",
        "tuner.search_space_summary()"
      ]
    },
    {
      "cell_type": "code",
      "execution_count": 215,
      "metadata": {
        "colab": {
          "base_uri": "https://localhost:8080/"
        },
        "id": "JSmcctUOMqFg",
        "outputId": "847fc245-1af2-4169-9337-d3831405d63d"
      },
      "outputs": [
        {
          "output_type": "stream",
          "name": "stdout",
          "text": [
            "Model: \"sequential\"\n",
            "_________________________________________________________________\n",
            " Layer (type)                Output Shape              Param #   \n",
            "=================================================================\n",
            " dense (Dense)               (None, 16)                448       \n",
            "                                                                 \n",
            " dense_1 (Dense)             (None, 16)                272       \n",
            "                                                                 \n",
            " dense_2 (Dense)             (None, 16)                272       \n",
            "                                                                 \n",
            " dense_3 (Dense)             (None, 16)                272       \n",
            "                                                                 \n",
            " dense_4 (Dense)             (None, 16)                272       \n",
            "                                                                 \n",
            " dense_5 (Dense)             (None, 16)                272       \n",
            "                                                                 \n",
            "=================================================================\n",
            "Total params: 1,808\n",
            "Trainable params: 1,808\n",
            "Non-trainable params: 0\n",
            "_________________________________________________________________\n"
          ]
        }
      ],
      "source": [
        "# Get the top 2 models.\n",
        "models = tuner.get_best_models(num_models=1)\n",
        "best_model = models[0]\n",
        "# Build the model.\n",
        "# Needed for `Sequential` without specified `input_shape`.\n",
        "best_model.build(input_shape=(None, 28, 28))\n",
        "best_model.summary()"
      ]
    },
    {
      "cell_type": "code",
      "execution_count": 217,
      "metadata": {
        "id": "0x5cC0VNh2Ol",
        "colab": {
          "base_uri": "https://localhost:8080/"
        },
        "outputId": "e9ed4be4-99b0-441c-ce64-cd9c7218fe6d"
      },
      "outputs": [
        {
          "output_type": "stream",
          "name": "stdout",
          "text": [
            "Epoch 1/50\n",
            "1687/1687 [==============================] - 14s 4ms/step - loss: 0.0035 - cross entropy: 0.0035 - Brier score: 0.0010 - tp: 4990.0000 - fp: 30.0000 - tn: 48947.0000 - fn: 3.0000 - accuracy: 0.9994 - precision: 0.9940 - recall: 0.9994 - auc: 1.0000 - prc: 1.0000\n",
            "Epoch 2/50\n",
            "1687/1687 [==============================] - 8s 5ms/step - loss: 1.0653e-06 - cross entropy: 1.0653e-06 - Brier score: 1.1785e-10 - tp: 4993.0000 - fp: 0.0000e+00 - tn: 48977.0000 - fn: 0.0000e+00 - accuracy: 1.0000 - precision: 1.0000 - recall: 1.0000 - auc: 1.0000 - prc: 1.0000\n",
            "Epoch 3/50\n",
            "1687/1687 [==============================] - 6s 4ms/step - loss: 3.3524e-07 - cross entropy: 3.3524e-07 - Brier score: 6.4254e-11 - tp: 4993.0000 - fp: 0.0000e+00 - tn: 48977.0000 - fn: 0.0000e+00 - accuracy: 1.0000 - precision: 1.0000 - recall: 1.0000 - auc: 1.0000 - prc: 1.0000\n",
            "Epoch 4/50\n",
            "1687/1687 [==============================] - 5s 3ms/step - loss: 1.2556e-07 - cross entropy: 1.2556e-07 - Brier score: 1.3187e-11 - tp: 4993.0000 - fp: 0.0000e+00 - tn: 48977.0000 - fn: 0.0000e+00 - accuracy: 1.0000 - precision: 1.0000 - recall: 1.0000 - auc: 1.0000 - prc: 1.0000\n",
            "Epoch 5/50\n",
            "1687/1687 [==============================] - 8s 5ms/step - loss: 4.0532e-08 - cross entropy: 4.0532e-08 - Brier score: 2.6210e-13 - tp: 4993.0000 - fp: 0.0000e+00 - tn: 48977.0000 - fn: 0.0000e+00 - accuracy: 1.0000 - precision: 1.0000 - recall: 1.0000 - auc: 1.0000 - prc: 1.0000\n",
            "Epoch 6/50\n",
            "1687/1687 [==============================] - 7s 4ms/step - loss: 1.6219e-08 - cross entropy: 1.6219e-08 - Brier score: 6.2573e-14 - tp: 4993.0000 - fp: 0.0000e+00 - tn: 48977.0000 - fn: 0.0000e+00 - accuracy: 1.0000 - precision: 1.0000 - recall: 1.0000 - auc: 1.0000 - prc: 1.0000\n",
            "Epoch 7/50\n",
            "1687/1687 [==============================] - 5s 3ms/step - loss: 7.3703e-09 - cross entropy: 7.3703e-09 - Brier score: 2.4843e-14 - tp: 4993.0000 - fp: 0.0000e+00 - tn: 48977.0000 - fn: 0.0000e+00 - accuracy: 1.0000 - precision: 1.0000 - recall: 1.0000 - auc: 1.0000 - prc: 1.0000\n",
            "Epoch 8/50\n",
            "1687/1687 [==============================] - 8s 5ms/step - loss: 2.8411e-09 - cross entropy: 2.8411e-09 - Brier score: 4.3609e-15 - tp: 4993.0000 - fp: 0.0000e+00 - tn: 48977.0000 - fn: 0.0000e+00 - accuracy: 1.0000 - precision: 1.0000 - recall: 1.0000 - auc: 1.0000 - prc: 1.0000\n",
            "Epoch 9/50\n",
            "1687/1687 [==============================] - 8s 4ms/step - loss: 1.2384e-09 - cross entropy: 1.2384e-09 - Brier score: 4.8884e-16 - tp: 4993.0000 - fp: 0.0000e+00 - tn: 48977.0000 - fn: 0.0000e+00 - accuracy: 1.0000 - precision: 1.0000 - recall: 1.0000 - auc: 1.0000 - prc: 1.0000\n",
            "Epoch 10/50\n",
            "1687/1687 [==============================] - 6s 4ms/step - loss: 1.7673e-09 - cross entropy: 1.7673e-09 - Brier score: 8.4901e-14 - tp: 4993.0000 - fp: 0.0000e+00 - tn: 48977.0000 - fn: 0.0000e+00 - accuracy: 1.0000 - precision: 1.0000 - recall: 1.0000 - auc: 1.0000 - prc: 1.0000\n",
            "Epoch 11/50\n",
            "1687/1687 [==============================] - 9s 5ms/step - loss: 2.5990e-10 - cross entropy: 2.5990e-10 - Brier score: 5.4545e-17 - tp: 4993.0000 - fp: 0.0000e+00 - tn: 48977.0000 - fn: 0.0000e+00 - accuracy: 1.0000 - precision: 1.0000 - recall: 1.0000 - auc: 1.0000 - prc: 1.0000\n",
            "Epoch 12/50\n",
            "1687/1687 [==============================] - 6s 3ms/step - loss: 1.4687e-10 - cross entropy: 1.4687e-10 - Brier score: 7.6728e-17 - tp: 4993.0000 - fp: 0.0000e+00 - tn: 48977.0000 - fn: 0.0000e+00 - accuracy: 1.0000 - precision: 1.0000 - recall: 1.0000 - auc: 1.0000 - prc: 1.0000\n",
            "Epoch 13/50\n",
            "1687/1687 [==============================] - 5s 3ms/step - loss: 6.4636e-11 - cross entropy: 6.4636e-11 - Brier score: 3.0554e-18 - tp: 4993.0000 - fp: 0.0000e+00 - tn: 48977.0000 - fn: 0.0000e+00 - accuracy: 1.0000 - precision: 1.0000 - recall: 1.0000 - auc: 1.0000 - prc: 1.0000\n",
            "Epoch 14/50\n",
            "1687/1687 [==============================] - 10s 6ms/step - loss: 3.9234e-11 - cross entropy: 3.9234e-11 - Brier score: 9.5609e-19 - tp: 4993.0000 - fp: 0.0000e+00 - tn: 48977.0000 - fn: 0.0000e+00 - accuracy: 1.0000 - precision: 1.0000 - recall: 1.0000 - auc: 1.0000 - prc: 1.0000\n",
            "Epoch 15/50\n",
            "1687/1687 [==============================] - 5s 3ms/step - loss: 3.3398e-11 - cross entropy: 3.3398e-11 - Brier score: 1.0992e-17 - tp: 4993.0000 - fp: 0.0000e+00 - tn: 48977.0000 - fn: 0.0000e+00 - accuracy: 1.0000 - precision: 1.0000 - recall: 1.0000 - auc: 1.0000 - prc: 1.0000\n",
            "Epoch 16/50\n",
            "1687/1687 [==============================] - 6s 3ms/step - loss: 1.9487e-11 - cross entropy: 1.9487e-11 - Brier score: 4.3484e-19 - tp: 4993.0000 - fp: 0.0000e+00 - tn: 48977.0000 - fn: 0.0000e+00 - accuracy: 1.0000 - precision: 1.0000 - recall: 1.0000 - auc: 1.0000 - prc: 1.0000\n",
            "Epoch 17/50\n",
            "1687/1687 [==============================] - 9s 5ms/step - loss: 1.5103e-11 - cross entropy: 1.5103e-11 - Brier score: 6.3739e-19 - tp: 4993.0000 - fp: 0.0000e+00 - tn: 48977.0000 - fn: 0.0000e+00 - accuracy: 1.0000 - precision: 1.0000 - recall: 1.0000 - auc: 1.0000 - prc: 1.0000\n",
            "Epoch 18/50\n",
            "1687/1687 [==============================] - 6s 3ms/step - loss: 1.0901e-11 - cross entropy: 1.0901e-11 - Brier score: 2.0663e-19 - tp: 4993.0000 - fp: 0.0000e+00 - tn: 48977.0000 - fn: 0.0000e+00 - accuracy: 1.0000 - precision: 1.0000 - recall: 1.0000 - auc: 1.0000 - prc: 1.0000\n",
            "Epoch 19/50\n",
            "1687/1687 [==============================] - 6s 4ms/step - loss: 8.8992e-12 - cross entropy: 8.8992e-12 - Brier score: 5.2478e-20 - tp: 4993.0000 - fp: 0.0000e+00 - tn: 48977.0000 - fn: 0.0000e+00 - accuracy: 1.0000 - precision: 1.0000 - recall: 1.0000 - auc: 1.0000 - prc: 1.0000\n",
            "Epoch 20/50\n",
            "1687/1687 [==============================] - 9s 5ms/step - loss: 1.0991e-11 - cross entropy: 1.0991e-11 - Brier score: 1.8499e-19 - tp: 4993.0000 - fp: 0.0000e+00 - tn: 48977.0000 - fn: 0.0000e+00 - accuracy: 1.0000 - precision: 1.0000 - recall: 1.0000 - auc: 1.0000 - prc: 1.0000\n",
            "Epoch 21/50\n",
            "1687/1687 [==============================] - 5s 3ms/step - loss: 8.2479e-12 - cross entropy: 8.2479e-12 - Brier score: 1.8341e-19 - tp: 4993.0000 - fp: 0.0000e+00 - tn: 48977.0000 - fn: 0.0000e+00 - accuracy: 1.0000 - precision: 1.0000 - recall: 1.0000 - auc: 1.0000 - prc: 1.0000\n",
            "Epoch 22/50\n",
            "1687/1687 [==============================] - 6s 4ms/step - loss: 9.5470e-12 - cross entropy: 9.5470e-12 - Brier score: 6.2857e-19 - tp: 4993.0000 - fp: 0.0000e+00 - tn: 48977.0000 - fn: 0.0000e+00 - accuracy: 1.0000 - precision: 1.0000 - recall: 1.0000 - auc: 1.0000 - prc: 1.0000\n",
            "Epoch 23/50\n",
            "1687/1687 [==============================] - 8s 5ms/step - loss: 6.6888e-12 - cross entropy: 6.6888e-12 - Brier score: 7.6488e-20 - tp: 4993.0000 - fp: 0.0000e+00 - tn: 48977.0000 - fn: 0.0000e+00 - accuracy: 1.0000 - precision: 1.0000 - recall: 1.0000 - auc: 1.0000 - prc: 1.0000\n",
            "Epoch 24/50\n",
            "1687/1687 [==============================] - 5s 3ms/step - loss: 5.0343e-12 - cross entropy: 5.0343e-12 - Brier score: 5.8227e-20 - tp: 4993.0000 - fp: 0.0000e+00 - tn: 48977.0000 - fn: 0.0000e+00 - accuracy: 1.0000 - precision: 1.0000 - recall: 1.0000 - auc: 1.0000 - prc: 1.0000\n",
            "Epoch 25/50\n",
            "1687/1687 [==============================] - 7s 4ms/step - loss: 5.7360e-12 - cross entropy: 5.7360e-12 - Brier score: 1.0934e-19 - tp: 4993.0000 - fp: 0.0000e+00 - tn: 48977.0000 - fn: 0.0000e+00 - accuracy: 1.0000 - precision: 1.0000 - recall: 1.0000 - auc: 1.0000 - prc: 1.0000\n",
            "Epoch 26/50\n",
            "1687/1687 [==============================] - 8s 5ms/step - loss: 9.9445e-12 - cross entropy: 9.9445e-12 - Brier score: 1.6571e-18 - tp: 4993.0000 - fp: 0.0000e+00 - tn: 48977.0000 - fn: 0.0000e+00 - accuracy: 1.0000 - precision: 1.0000 - recall: 1.0000 - auc: 1.0000 - prc: 1.0000\n",
            "Epoch 27/50\n",
            "1687/1687 [==============================] - 6s 3ms/step - loss: 2.8307e-12 - cross entropy: 2.8307e-12 - Brier score: 3.9975e-21 - tp: 4993.0000 - fp: 0.0000e+00 - tn: 48977.0000 - fn: 0.0000e+00 - accuracy: 1.0000 - precision: 1.0000 - recall: 1.0000 - auc: 1.0000 - prc: 1.0000\n",
            "Epoch 28/50\n",
            "1687/1687 [==============================] - 6s 4ms/step - loss: 5.9963e-11 - cross entropy: 5.9963e-11 - Brier score: 1.1890e-16 - tp: 4993.0000 - fp: 0.0000e+00 - tn: 48977.0000 - fn: 0.0000e+00 - accuracy: 1.0000 - precision: 1.0000 - recall: 1.0000 - auc: 1.0000 - prc: 1.0000\n",
            "Epoch 29/50\n",
            "1687/1687 [==============================] - 8s 5ms/step - loss: 3.0781e-12 - cross entropy: 3.0781e-12 - Brier score: 1.1609e-20 - tp: 4993.0000 - fp: 0.0000e+00 - tn: 48977.0000 - fn: 0.0000e+00 - accuracy: 1.0000 - precision: 1.0000 - recall: 1.0000 - auc: 1.0000 - prc: 1.0000\n",
            "Epoch 30/50\n",
            "1687/1687 [==============================] - 7s 4ms/step - loss: 3.5564e-12 - cross entropy: 3.5564e-12 - Brier score: 6.9736e-21 - tp: 4993.0000 - fp: 0.0000e+00 - tn: 48977.0000 - fn: 0.0000e+00 - accuracy: 1.0000 - precision: 1.0000 - recall: 1.0000 - auc: 1.0000 - prc: 1.0000\n",
            "Epoch 31/50\n",
            "1687/1687 [==============================] - 7s 4ms/step - loss: 1.5443e-11 - cross entropy: 1.5443e-11 - Brier score: 7.9842e-18 - tp: 4993.0000 - fp: 0.0000e+00 - tn: 48977.0000 - fn: 0.0000e+00 - accuracy: 1.0000 - precision: 1.0000 - recall: 1.0000 - auc: 1.0000 - prc: 1.0000\n",
            "Epoch 32/50\n",
            "1687/1687 [==============================] - 8s 4ms/step - loss: 4.7285e-12 - cross entropy: 4.7285e-12 - Brier score: 1.1340e-19 - tp: 4993.0000 - fp: 0.0000e+00 - tn: 48977.0000 - fn: 0.0000e+00 - accuracy: 1.0000 - precision: 1.0000 - recall: 1.0000 - auc: 1.0000 - prc: 1.0000\n",
            "Epoch 33/50\n",
            "1687/1687 [==============================] - 6s 3ms/step - loss: 2.4030e-12 - cross entropy: 2.4030e-12 - Brier score: 3.7002e-21 - tp: 4993.0000 - fp: 0.0000e+00 - tn: 48977.0000 - fn: 0.0000e+00 - accuracy: 1.0000 - precision: 1.0000 - recall: 1.0000 - auc: 1.0000 - prc: 1.0000\n",
            "Epoch 34/50\n",
            "1687/1687 [==============================] - 7s 4ms/step - loss: 2.8081e-12 - cross entropy: 2.8081e-12 - Brier score: 2.1767e-20 - tp: 4993.0000 - fp: 0.0000e+00 - tn: 48977.0000 - fn: 0.0000e+00 - accuracy: 1.0000 - precision: 1.0000 - recall: 1.0000 - auc: 1.0000 - prc: 1.0000\n",
            "Epoch 35/50\n",
            "1687/1687 [==============================] - 8s 5ms/step - loss: 2.8600e-12 - cross entropy: 2.8600e-12 - Brier score: 2.5803e-20 - tp: 4993.0000 - fp: 0.0000e+00 - tn: 48977.0000 - fn: 0.0000e+00 - accuracy: 1.0000 - precision: 1.0000 - recall: 1.0000 - auc: 1.0000 - prc: 1.0000\n",
            "Epoch 36/50\n",
            "1687/1687 [==============================] - 6s 3ms/step - loss: 2.8982e-11 - cross entropy: 2.8982e-11 - Brier score: 3.4877e-17 - tp: 4993.0000 - fp: 0.0000e+00 - tn: 48977.0000 - fn: 0.0000e+00 - accuracy: 1.0000 - precision: 1.0000 - recall: 1.0000 - auc: 1.0000 - prc: 1.0000\n",
            "Epoch 37/50\n",
            "1687/1687 [==============================] - 7s 4ms/step - loss: 2.6021e-12 - cross entropy: 2.6021e-12 - Brier score: 1.6559e-20 - tp: 4993.0000 - fp: 0.0000e+00 - tn: 48977.0000 - fn: 0.0000e+00 - accuracy: 1.0000 - precision: 1.0000 - recall: 1.0000 - auc: 1.0000 - prc: 1.0000\n",
            "Epoch 38/50\n",
            "1687/1687 [==============================] - 8s 5ms/step - loss: 3.4300e-12 - cross entropy: 3.4300e-12 - Brier score: 6.9148e-20 - tp: 4993.0000 - fp: 0.0000e+00 - tn: 48977.0000 - fn: 0.0000e+00 - accuracy: 1.0000 - precision: 1.0000 - recall: 1.0000 - auc: 1.0000 - prc: 1.0000\n",
            "Epoch 39/50\n",
            "1687/1687 [==============================] - 5s 3ms/step - loss: 2.7390e-12 - cross entropy: 2.7390e-12 - Brier score: 1.9346e-20 - tp: 4993.0000 - fp: 0.0000e+00 - tn: 48977.0000 - fn: 0.0000e+00 - accuracy: 1.0000 - precision: 1.0000 - recall: 1.0000 - auc: 1.0000 - prc: 1.0000\n",
            "Epoch 40/50\n",
            "1687/1687 [==============================] - 7s 4ms/step - loss: 3.9635e-12 - cross entropy: 3.9635e-12 - Brier score: 2.4894e-19 - tp: 4993.0000 - fp: 0.0000e+00 - tn: 48977.0000 - fn: 0.0000e+00 - accuracy: 1.0000 - precision: 1.0000 - recall: 1.0000 - auc: 1.0000 - prc: 1.0000\n",
            "Epoch 41/50\n",
            "1687/1687 [==============================] - 8s 5ms/step - loss: 2.0819e-12 - cross entropy: 2.0819e-12 - Brier score: 1.1173e-20 - tp: 4993.0000 - fp: 0.0000e+00 - tn: 48977.0000 - fn: 0.0000e+00 - accuracy: 1.0000 - precision: 1.0000 - recall: 1.0000 - auc: 1.0000 - prc: 1.0000\n",
            "Epoch 42/50\n",
            "1687/1687 [==============================] - 5s 3ms/step - loss: 2.4760e-12 - cross entropy: 2.4760e-12 - Brier score: 1.6927e-20 - tp: 4993.0000 - fp: 0.0000e+00 - tn: 48977.0000 - fn: 0.0000e+00 - accuracy: 1.0000 - precision: 1.0000 - recall: 1.0000 - auc: 1.0000 - prc: 1.0000\n",
            "Epoch 43/50\n",
            "1687/1687 [==============================] - 6s 4ms/step - loss: 2.0888e-12 - cross entropy: 2.0888e-12 - Brier score: 6.0111e-21 - tp: 4993.0000 - fp: 0.0000e+00 - tn: 48977.0000 - fn: 0.0000e+00 - accuracy: 1.0000 - precision: 1.0000 - recall: 1.0000 - auc: 1.0000 - prc: 1.0000\n",
            "Epoch 44/50\n",
            "1687/1687 [==============================] - 8s 5ms/step - loss: 3.3840e-12 - cross entropy: 3.3840e-12 - Brier score: 3.0552e-19 - tp: 4993.0000 - fp: 0.0000e+00 - tn: 48977.0000 - fn: 0.0000e+00 - accuracy: 1.0000 - precision: 1.0000 - recall: 1.0000 - auc: 1.0000 - prc: 1.0000\n",
            "Epoch 45/50\n",
            "1687/1687 [==============================] - 5s 3ms/step - loss: 1.2804e-12 - cross entropy: 1.2804e-12 - Brier score: 1.0695e-21 - tp: 4993.0000 - fp: 0.0000e+00 - tn: 48977.0000 - fn: 0.0000e+00 - accuracy: 1.0000 - precision: 1.0000 - recall: 1.0000 - auc: 1.0000 - prc: 1.0000\n",
            "Epoch 46/50\n",
            "1687/1687 [==============================] - 6s 4ms/step - loss: 2.1612e-12 - cross entropy: 2.1612e-12 - Brier score: 1.6829e-20 - tp: 4993.0000 - fp: 0.0000e+00 - tn: 48977.0000 - fn: 0.0000e+00 - accuracy: 1.0000 - precision: 1.0000 - recall: 1.0000 - auc: 1.0000 - prc: 1.0000\n",
            "Epoch 47/50\n",
            "1687/1687 [==============================] - 8s 5ms/step - loss: 2.0119e-12 - cross entropy: 2.0119e-12 - Brier score: 4.4068e-21 - tp: 4993.0000 - fp: 0.0000e+00 - tn: 48977.0000 - fn: 0.0000e+00 - accuracy: 1.0000 - precision: 1.0000 - recall: 1.0000 - auc: 1.0000 - prc: 1.0000\n",
            "Epoch 48/50\n",
            "1687/1687 [==============================] - 5s 3ms/step - loss: 1.5169e-12 - cross entropy: 1.5169e-12 - Brier score: 1.6602e-21 - tp: 4993.0000 - fp: 0.0000e+00 - tn: 48977.0000 - fn: 0.0000e+00 - accuracy: 1.0000 - precision: 1.0000 - recall: 1.0000 - auc: 1.0000 - prc: 1.0000\n",
            "Epoch 49/50\n",
            "1687/1687 [==============================] - 6s 4ms/step - loss: 3.1376e-12 - cross entropy: 3.1376e-12 - Brier score: 9.8089e-20 - tp: 4993.0000 - fp: 0.0000e+00 - tn: 48977.0000 - fn: 0.0000e+00 - accuracy: 1.0000 - precision: 1.0000 - recall: 1.0000 - auc: 1.0000 - prc: 1.0000\n",
            "Epoch 50/50\n",
            "1687/1687 [==============================] - 8s 5ms/step - loss: 1.6061e-12 - cross entropy: 1.6061e-12 - Brier score: 3.6099e-21 - tp: 4993.0000 - fp: 0.0000e+00 - tn: 48977.0000 - fn: 0.0000e+00 - accuracy: 1.0000 - precision: 1.0000 - recall: 1.0000 - auc: 1.0000 - prc: 1.0000\n"
          ]
        }
      ],
      "source": [
        "# Step 1: define model\n",
        "\n",
        "metrics = [\n",
        "      keras.metrics.BinaryCrossentropy(name='cross entropy'),  # same as model's loss\n",
        "      keras.metrics.MeanSquaredError(name='Brier score'),\n",
        "      keras.metrics.TruePositives(name='tp'),\n",
        "      keras.metrics.FalsePositives(name='fp'),\n",
        "      keras.metrics.TrueNegatives(name='tn'),\n",
        "      keras.metrics.FalseNegatives(name='fn'),\n",
        "      keras.metrics.BinaryAccuracy(name='accuracy'),\n",
        "      keras.metrics.Precision(name='precision'),\n",
        "      keras.metrics.Recall(name='recall'),\n",
        "      keras.metrics.AUC(name='auc'),\n",
        "      keras.metrics.AUC(name='prc', curve='PR'), # precision-recall curve\n",
        "]\n",
        "#add dropout for Regularization\n",
        "\n",
        "\n",
        "model = Sequential()\n",
        "model.add(Dense(60, activation='relu', kernel_initializer='truncated_normal', input_shape=(n_features,)))\n",
        "model.add(Dropout(0.2))\n",
        "model.add(Dense(32, activation='relu', kernel_initializer='truncated_normal'))\n",
        "\n",
        "model.add(Dense(1, activation='sigmoid'))\n",
        "\n",
        "# compile the model\n",
        "opt = keras.optimizers.Adam(learning_rate=0.005)\n",
        "model.compile(optimizer=opt, loss='binary_crossentropy', metrics=metrics)\n",
        "\n",
        "# train the model\n",
        "NN=model.fit(X_train_scaled_v1, y_train_v1, epochs=50, batch_size=32, verbose=1)"
      ]
    },
    {
      "cell_type": "code",
      "source": [
        "#save model & scaler\n",
        "model.save('/content/model')\n",
        "import joblib\n",
        "joblib.dump(scaler, '/content/scaler.pkl')"
      ],
      "metadata": {
        "colab": {
          "base_uri": "https://localhost:8080/"
        },
        "id": "8KIFsvGjmFdO",
        "outputId": "f5f89120-7b59-48f2-a1ad-736e55d829d5"
      },
      "execution_count": 218,
      "outputs": [
        {
          "output_type": "stream",
          "name": "stderr",
          "text": [
            "WARNING:absl:Found untraced functions such as _update_step_xla while saving (showing 1 of 1). These functions will not be directly callable after loading.\n"
          ]
        },
        {
          "output_type": "execute_result",
          "data": {
            "text/plain": [
              "['/content/scaler.pkl']"
            ]
          },
          "metadata": {},
          "execution_count": 218
        }
      ]
    },
    {
      "cell_type": "code",
      "source": [
        "!zip -r /content/capstone_model.zip /content/model"
      ],
      "metadata": {
        "colab": {
          "base_uri": "https://localhost:8080/"
        },
        "id": "TyFyEW7E_SAQ",
        "outputId": "3e3b6d2a-59b6-44ca-fda2-36dd4e91e7d0"
      },
      "execution_count": 251,
      "outputs": [
        {
          "output_type": "stream",
          "name": "stdout",
          "text": [
            "  adding: content/model/ (stored 0%)\n",
            "  adding: content/model/keras_metadata.pb (deflated 87%)\n",
            "  adding: content/model/saved_model.pb (deflated 87%)\n",
            "  adding: content/model/assets/ (stored 0%)\n",
            "  adding: content/model/fingerprint.pb (stored 0%)\n",
            "  adding: content/model/variables/ (stored 0%)\n",
            "  adding: content/model/variables/variables.index (deflated 69%)\n",
            "  adding: content/model/variables/variables.data-00000-of-00001 (deflated 26%)\n"
          ]
        }
      ]
    },
    {
      "cell_type": "code",
      "source": [
        "from google.colab import files\n",
        "files.download('/content/capstone_model.zip')\n",
        "files.download('/content/encoder.pkl')\n",
        "files.download('/content/scaler.pkl')"
      ],
      "metadata": {
        "colab": {
          "base_uri": "https://localhost:8080/",
          "height": 17
        },
        "id": "CdL9x7Bm_bBX",
        "outputId": "12fc8284-7945-48fc-cf79-0541cdb6ec14"
      },
      "execution_count": 253,
      "outputs": [
        {
          "output_type": "display_data",
          "data": {
            "text/plain": [
              "<IPython.core.display.Javascript object>"
            ],
            "application/javascript": [
              "\n",
              "    async function download(id, filename, size) {\n",
              "      if (!google.colab.kernel.accessAllowed) {\n",
              "        return;\n",
              "      }\n",
              "      const div = document.createElement('div');\n",
              "      const label = document.createElement('label');\n",
              "      label.textContent = `Downloading \"${filename}\": `;\n",
              "      div.appendChild(label);\n",
              "      const progress = document.createElement('progress');\n",
              "      progress.max = size;\n",
              "      div.appendChild(progress);\n",
              "      document.body.appendChild(div);\n",
              "\n",
              "      const buffers = [];\n",
              "      let downloaded = 0;\n",
              "\n",
              "      const channel = await google.colab.kernel.comms.open(id);\n",
              "      // Send a message to notify the kernel that we're ready.\n",
              "      channel.send({})\n",
              "\n",
              "      for await (const message of channel.messages) {\n",
              "        // Send a message to notify the kernel that we're ready.\n",
              "        channel.send({})\n",
              "        if (message.buffers) {\n",
              "          for (const buffer of message.buffers) {\n",
              "            buffers.push(buffer);\n",
              "            downloaded += buffer.byteLength;\n",
              "            progress.value = downloaded;\n",
              "          }\n",
              "        }\n",
              "      }\n",
              "      const blob = new Blob(buffers, {type: 'application/binary'});\n",
              "      const a = document.createElement('a');\n",
              "      a.href = window.URL.createObjectURL(blob);\n",
              "      a.download = filename;\n",
              "      div.appendChild(a);\n",
              "      a.click();\n",
              "      div.remove();\n",
              "    }\n",
              "  "
            ]
          },
          "metadata": {}
        },
        {
          "output_type": "display_data",
          "data": {
            "text/plain": [
              "<IPython.core.display.Javascript object>"
            ],
            "application/javascript": [
              "download(\"download_9f1d9265-b4db-4afc-8010-38051b5aec65\", \"capstone_model.zip\", 67911)"
            ]
          },
          "metadata": {}
        },
        {
          "output_type": "display_data",
          "data": {
            "text/plain": [
              "<IPython.core.display.Javascript object>"
            ],
            "application/javascript": [
              "\n",
              "    async function download(id, filename, size) {\n",
              "      if (!google.colab.kernel.accessAllowed) {\n",
              "        return;\n",
              "      }\n",
              "      const div = document.createElement('div');\n",
              "      const label = document.createElement('label');\n",
              "      label.textContent = `Downloading \"${filename}\": `;\n",
              "      div.appendChild(label);\n",
              "      const progress = document.createElement('progress');\n",
              "      progress.max = size;\n",
              "      div.appendChild(progress);\n",
              "      document.body.appendChild(div);\n",
              "\n",
              "      const buffers = [];\n",
              "      let downloaded = 0;\n",
              "\n",
              "      const channel = await google.colab.kernel.comms.open(id);\n",
              "      // Send a message to notify the kernel that we're ready.\n",
              "      channel.send({})\n",
              "\n",
              "      for await (const message of channel.messages) {\n",
              "        // Send a message to notify the kernel that we're ready.\n",
              "        channel.send({})\n",
              "        if (message.buffers) {\n",
              "          for (const buffer of message.buffers) {\n",
              "            buffers.push(buffer);\n",
              "            downloaded += buffer.byteLength;\n",
              "            progress.value = downloaded;\n",
              "          }\n",
              "        }\n",
              "      }\n",
              "      const blob = new Blob(buffers, {type: 'application/binary'});\n",
              "      const a = document.createElement('a');\n",
              "      a.href = window.URL.createObjectURL(blob);\n",
              "      a.download = filename;\n",
              "      div.appendChild(a);\n",
              "      a.click();\n",
              "      div.remove();\n",
              "    }\n",
              "  "
            ]
          },
          "metadata": {}
        },
        {
          "output_type": "display_data",
          "data": {
            "text/plain": [
              "<IPython.core.display.Javascript object>"
            ],
            "application/javascript": [
              "download(\"download_0205ddb4-b0bd-4f8b-8e37-605a3e26096b\", \"encoder.pkl\", 9191694)"
            ]
          },
          "metadata": {}
        },
        {
          "output_type": "display_data",
          "data": {
            "text/plain": [
              "<IPython.core.display.Javascript object>"
            ],
            "application/javascript": [
              "\n",
              "    async function download(id, filename, size) {\n",
              "      if (!google.colab.kernel.accessAllowed) {\n",
              "        return;\n",
              "      }\n",
              "      const div = document.createElement('div');\n",
              "      const label = document.createElement('label');\n",
              "      label.textContent = `Downloading \"${filename}\": `;\n",
              "      div.appendChild(label);\n",
              "      const progress = document.createElement('progress');\n",
              "      progress.max = size;\n",
              "      div.appendChild(progress);\n",
              "      document.body.appendChild(div);\n",
              "\n",
              "      const buffers = [];\n",
              "      let downloaded = 0;\n",
              "\n",
              "      const channel = await google.colab.kernel.comms.open(id);\n",
              "      // Send a message to notify the kernel that we're ready.\n",
              "      channel.send({})\n",
              "\n",
              "      for await (const message of channel.messages) {\n",
              "        // Send a message to notify the kernel that we're ready.\n",
              "        channel.send({})\n",
              "        if (message.buffers) {\n",
              "          for (const buffer of message.buffers) {\n",
              "            buffers.push(buffer);\n",
              "            downloaded += buffer.byteLength;\n",
              "            progress.value = downloaded;\n",
              "          }\n",
              "        }\n",
              "      }\n",
              "      const blob = new Blob(buffers, {type: 'application/binary'});\n",
              "      const a = document.createElement('a');\n",
              "      a.href = window.URL.createObjectURL(blob);\n",
              "      a.download = filename;\n",
              "      div.appendChild(a);\n",
              "      a.click();\n",
              "      div.remove();\n",
              "    }\n",
              "  "
            ]
          },
          "metadata": {}
        },
        {
          "output_type": "display_data",
          "data": {
            "text/plain": [
              "<IPython.core.display.Javascript object>"
            ],
            "application/javascript": [
              "download(\"download_ec03d8c8-0df1-4e0c-9982-1193952616f2\", \"scaler.pkl\", 2191)"
            ]
          },
          "metadata": {}
        }
      ]
    },
    {
      "cell_type": "code",
      "execution_count": 239,
      "metadata": {
        "colab": {
          "base_uri": "https://localhost:8080/",
          "height": 818
        },
        "id": "499dtaCPZlcv",
        "outputId": "a7780736-0084-4c8c-f9f0-6c5f516368c1"
      },
      "outputs": [
        {
          "output_type": "stream",
          "name": "stdout",
          "text": [
            "422/422 [==============================] - 2s 5ms/step\n",
            "[[1.000e+00]\n",
            " [2.139e-14]\n",
            " [3.795e-15]\n",
            " ...\n",
            " [4.692e-15]\n",
            " [3.639e-14]\n",
            " [1.000e+00]]\n",
            "[[12245     0]\n",
            " [    0  1248]]\n"
          ]
        },
        {
          "output_type": "execute_result",
          "data": {
            "text/plain": [
              "<sklearn.metrics._plot.confusion_matrix.ConfusionMatrixDisplay at 0x7d31c4192230>"
            ]
          },
          "metadata": {},
          "execution_count": 239
        },
        {
          "output_type": "display_data",
          "data": {
            "text/plain": [
              "<Figure size 640x480 with 2 Axes>"
            ],
            "image/png": "[encoded data removed]"
          },
          "metadata": {}
        },
        {
          "output_type": "stream",
          "name": "stdout",
          "text": [
            "              precision    recall  f1-score   support\n",
            "\n",
            "           0       1.00      1.00      1.00     12245\n",
            "           1       1.00      1.00      1.00      1248\n",
            "\n",
            "    accuracy                           1.00     13493\n",
            "   macro avg       1.00      1.00      1.00     13493\n",
            "weighted avg       1.00      1.00      1.00     13493\n",
            "\n"
          ]
        }
      ],
      "source": [
        "yhat = model.predict(X_test_scaled_v1)\n",
        "print(yhat)\n",
        "# Compute confusion matrix\n",
        "cm = confusion_matrix(y_test_v1, yhat>0.5)\n",
        "print(cm)\n",
        "# Plot confusion matrix using ConfusionMatrixDisplay\n",
        "disp = ConfusionMatrixDisplay(confusion_matrix=cm)\n",
        "disp.plot()\n",
        "\n",
        "plt.show()\n",
        "print(classification_report(y_test_v1, yhat>0.5))"
      ]
    },
    {
      "cell_type": "code",
      "execution_count": 220,
      "metadata": {
        "colab": {
          "base_uri": "https://localhost:8080/"
        },
        "id": "ZDoJrO1KiCOz",
        "outputId": "16b06b34-dfaf-43d4-eb33-c50e979c6a5a"
      },
      "outputs": [
        {
          "output_type": "stream",
          "name": "stdout",
          "text": [
            "[5.6406454892110255e-14, 5.6406454892110255e-14, 1.1586134221334888e-24, 1248.0, 0.0, 12245.0, 0.0, 1.0, 1.0, 1.0, 1.0, 1.0]\n",
            "accuary and ROC:\n",
            "1.0 1.0\n"
          ]
        }
      ],
      "source": [
        "# evaluate the model\n",
        "Results =model.evaluate(X_test_scaled_v1, y_test_v1, verbose=0)\n",
        "print(Results)\n",
        "print(\"accuary and ROC:\")\n",
        "print(Results[7], Results[10])\n"
      ]
    },
    {
      "cell_type": "code",
      "source": [
        "fpr, tpr, thresholds = roc_curve(y_test_v1, yhat)\n",
        "print(fpr, tpr, thresholds)"
      ],
      "metadata": {
        "id": "8-Njxu6XydBD",
        "colab": {
          "base_uri": "https://localhost:8080/"
        },
        "outputId": "1487eb14-3aea-4d9a-a1f3-ad10af905bde"
      },
      "execution_count": 221,
      "outputs": [
        {
          "output_type": "stream",
          "name": "stdout",
          "text": [
            "[0.    0.    0.166 0.166 0.175 0.175 0.179 0.179 0.184 0.185 0.199 0.199\n",
            " 0.208 0.208 0.3   0.301 0.303 0.303 0.326 0.327 0.351 0.351 0.373 0.373\n",
            " 0.383 0.383 0.401 0.402 0.414 0.414 0.414 0.415 0.416 0.417 0.417 0.417\n",
            " 0.446 0.446 0.456 0.456 0.457 0.457 0.471 0.471 0.476 0.476 0.478 0.479\n",
            " 0.489 0.49  0.507 0.507 0.518 0.518 0.52  0.52  0.533 0.533 0.549 0.549\n",
            " 0.551 0.551 0.552 0.552 0.561 0.561 0.575 0.575 0.588 0.588 0.616 0.617\n",
            " 0.623 0.623 0.647 0.648 0.653 0.653 0.655 0.655 0.665 0.665 0.669 0.669\n",
            " 0.675 0.675 0.689 0.689 0.69  0.69  0.699 0.7   0.722 0.722 0.752 0.752\n",
            " 0.756 0.756 0.762 0.762 0.77  0.77  0.784 0.784 0.788 0.788 0.792 0.792\n",
            " 0.807 0.807 0.81  0.81  0.812 0.813 0.819 0.819 0.824 0.825 0.857 0.858\n",
            " 0.88  0.88  0.885 0.885 0.888 0.888 0.89  0.89  0.955 0.955 1.    1.   ] [0. 1. 1. 1. 1. 1. 1. 1. 1. 1. 1. 1. 1. 1. 1. 1. 1. 1. 1. 1. 1. 1. 1. 1.\n",
            " 1. 1. 1. 1. 1. 1. 1. 1. 1. 1. 1. 1. 1. 1. 1. 1. 1. 1. 1. 1. 1. 1. 1. 1.\n",
            " 1. 1. 1. 1. 1. 1. 1. 1. 1. 1. 1. 1. 1. 1. 1. 1. 1. 1. 1. 1. 1. 1. 1. 1.\n",
            " 1. 1. 1. 1. 1. 1. 1. 1. 1. 1. 1. 1. 1. 1. 1. 1. 1. 1. 1. 1. 1. 1. 1. 1.\n",
            " 1. 1. 1. 1. 1. 1. 1. 1. 1. 1. 1. 1. 1. 1. 1. 1. 1. 1. 1. 1. 1. 1. 1. 1.\n",
            " 1. 1. 1. 1. 1. 1. 1. 1. 1. 1. 1. 1.] [      inf 1.000e+00 1.228e-14 1.227e-14 1.143e-14 1.143e-14 1.118e-14\n",
            " 1.117e-14 1.081e-14 1.080e-14 9.724e-15 9.723e-15 9.270e-15 9.268e-15\n",
            " 5.658e-15 5.657e-15 5.589e-15 5.588e-15 5.057e-15 5.056e-15 4.546e-15\n",
            " 4.546e-15 4.173e-15 4.171e-15 4.011e-15 4.011e-15 3.733e-15 3.732e-15\n",
            " 3.584e-15 3.583e-15 3.576e-15 3.574e-15 3.544e-15 3.543e-15 3.541e-15\n",
            " 3.540e-15 3.215e-15 3.214e-15 3.119e-15 3.117e-15 3.108e-15 3.108e-15\n",
            " 2.967e-15 2.967e-15 2.922e-15 2.922e-15 2.896e-15 2.895e-15 2.784e-15\n",
            " 2.783e-15 2.631e-15 2.630e-15 2.525e-15 2.525e-15 2.504e-15 2.504e-15\n",
            " 2.387e-15 2.386e-15 2.259e-15 2.259e-15 2.244e-15 2.244e-15 2.239e-15\n",
            " 2.238e-15 2.164e-15 2.164e-15 2.047e-15 2.047e-15 1.954e-15 1.954e-15\n",
            " 1.752e-15 1.752e-15 1.706e-15 1.706e-15 1.537e-15 1.536e-15 1.506e-15\n",
            " 1.506e-15 1.492e-15 1.492e-15 1.439e-15 1.439e-15 1.417e-15 1.416e-15\n",
            " 1.387e-15 1.387e-15 1.313e-15 1.312e-15 1.312e-15 1.312e-15 1.275e-15\n",
            " 1.275e-15 1.188e-15 1.188e-15 1.092e-15 1.092e-15 1.080e-15 1.080e-15\n",
            " 1.061e-15 1.061e-15 1.041e-15 1.040e-15 9.975e-16 9.973e-16 9.890e-16\n",
            " 9.887e-16 9.760e-16 9.754e-16 9.363e-16 9.361e-16 9.294e-16 9.288e-16\n",
            " 9.216e-16 9.214e-16 9.065e-16 9.064e-16 8.931e-16 8.930e-16 7.977e-16\n",
            " 7.971e-16 7.304e-16 7.303e-16 7.125e-16 7.124e-16 7.038e-16 7.034e-16\n",
            " 6.963e-16 6.959e-16 3.426e-16 3.425e-16 1.632e-30 0.000e+00]\n"
          ]
        }
      ]
    },
    {
      "cell_type": "code",
      "source": [
        "roc_auc = auc(fpr, tpr)\n",
        "roc_auc"
      ],
      "metadata": {
        "colab": {
          "base_uri": "https://localhost:8080/"
        },
        "id": "eq-QXfrsyq8d",
        "outputId": "c073f1b7-0444-43e1-f72b-620bb635138f"
      },
      "execution_count": 222,
      "outputs": [
        {
          "output_type": "execute_result",
          "data": {
            "text/plain": [
              "1.0"
            ]
          },
          "metadata": {},
          "execution_count": 222
        }
      ]
    },
    {
      "cell_type": "code",
      "source": [
        "#plot roc curve\n",
        "\n",
        "plt.figure(figsize=(5, 5))\n",
        "plt.plot(fpr, tpr, color='lightblue', lw=2, label='ROC curve (AUC = %0.2f)' % roc_auc)\n",
        "plt.plot([0, 1], [0, 1], color='red', lw=2, linestyle='dashed', alpha=0.5)\n",
        "\n",
        "plt.xlim([-0.02, 1.02])\n",
        "plt.ylim([-0.02, 1.02])\n",
        "plt.xlabel('False Positive Rate')\n",
        "plt.ylabel('True Positive Rate')\n",
        "\n",
        "plt.title('ROC curve')\n",
        "plt.legend(loc=\"lower right\")\n",
        "plt.show()"
      ],
      "metadata": {
        "colab": {
          "base_uri": "https://localhost:8080/",
          "height": 524
        },
        "id": "VO-gla7zzn54",
        "outputId": "66128de2-d450-4b4e-9d8f-e19c1d9f43aa"
      },
      "execution_count": 223,
      "outputs": [
        {
          "output_type": "execute_result",
          "data": {
            "text/plain": [
              "<Figure size 500x500 with 0 Axes>"
            ]
          },
          "metadata": {},
          "execution_count": 223
        },
        {
          "output_type": "execute_result",
          "data": {
            "text/plain": [
              "[<matplotlib.lines.Line2D at 0x7d31c8c97b50>]"
            ]
          },
          "metadata": {},
          "execution_count": 223
        },
        {
          "output_type": "execute_result",
          "data": {
            "text/plain": [
              "[<matplotlib.lines.Line2D at 0x7d31c8c97d90>]"
            ]
          },
          "metadata": {},
          "execution_count": 223
        },
        {
          "output_type": "execute_result",
          "data": {
            "text/plain": [
              "(-0.02, 1.02)"
            ]
          },
          "metadata": {},
          "execution_count": 223
        },
        {
          "output_type": "execute_result",
          "data": {
            "text/plain": [
              "(-0.02, 1.02)"
            ]
          },
          "metadata": {},
          "execution_count": 223
        },
        {
          "output_type": "execute_result",
          "data": {
            "text/plain": [
              "Text(0.5, 0, 'False Positive Rate')"
            ]
          },
          "metadata": {},
          "execution_count": 223
        },
        {
          "output_type": "execute_result",
          "data": {
            "text/plain": [
              "Text(0, 0.5, 'True Positive Rate')"
            ]
          },
          "metadata": {},
          "execution_count": 223
        },
        {
          "output_type": "execute_result",
          "data": {
            "text/plain": [
              "Text(0.5, 1.0, 'ROC curve')"
            ]
          },
          "metadata": {},
          "execution_count": 223
        },
        {
          "output_type": "execute_result",
          "data": {
            "text/plain": [
              "<matplotlib.legend.Legend at 0x7d31c8c7e470>"
            ]
          },
          "metadata": {},
          "execution_count": 223
        },
        {
          "output_type": "display_data",
          "data": {
            "text/plain": [
              "<Figure size 500x500 with 1 Axes>"
            ],
            "image/png": "[encoded data removed]"
          },
          "metadata": {}
        }
      ]
    },
    {
      "cell_type": "markdown",
      "metadata": {
        "id": "dGAEnhpPpt7-"
      },
      "source": [
        "# Other Models"
      ]
    },
    {
      "cell_type": "code",
      "execution_count": null,
      "metadata": {
        "id": "nb-BoeOzpxUs"
      },
      "outputs": [],
      "source": [
        "import pandas as pd\n",
        "import numpy as np\n",
        "from sklearn.model_selection import train_test_split\n",
        "from sklearn.preprocessing import OneHotEncoder\n",
        "from sklearn.compose import ColumnTransformer\n",
        "from sklearn.metrics import roc_auc_score\n",
        "from time import time\n",
        "from sklearn.metrics import explained_variance_score, mean_absolute_error, r2_score\n",
        "from matplotlib import pyplot\n",
        "from sklearn.model_selection import KFold\n",
        "from sklearn.model_selection import cross_val_score\n",
        "from sklearn.linear_model import LogisticRegression, SGDClassifier, RidgeClassifier, PassiveAggressiveClassifier, Perceptron\n",
        "from sklearn.tree import DecisionTreeClassifier, ExtraTreeClassifier\n",
        "from sklearn.neighbors import KNeighborsClassifier, NearestCentroid\n",
        "from sklearn.discriminant_analysis import LinearDiscriminantAnalysis, QuadraticDiscriminantAnalysis\n",
        "from sklearn.naive_bayes import GaussianNB, BernoulliNB, ComplementNB, MultinomialNB\n",
        "from sklearn.svm import SVC, NuSVC, LinearSVC\n",
        "from sklearn.ensemble import RandomForestClassifier, GradientBoostingClassifier, ExtraTreesClassifier, BaggingClassifier, AdaBoostClassifier\n",
        "from sklearn.neural_network import MLPClassifier\n",
        "from xgboost import XGBClassifier"
      ]
    },
    {
      "cell_type": "code",
      "execution_count": null,
      "metadata": {
        "id": "fMHwHsADp99Y"
      },
      "outputs": [],
      "source": [
        "models = []\n",
        "models.append(('LR', LogisticRegression(solver='liblinear')))\n",
        "#models.append(('Ridge', RidgeClassifier()))\n",
        "models.append(('RF', RandomForestClassifier()))\n",
        "#models.append(('GB', GradientBoostingClassifier()))\n",
        "models.append(('XGBoost', XGBClassifier(use_label_encoder=False, eval_metric='logloss')))"
      ]
    },
    {
      "cell_type": "code",
      "execution_count": null,
      "metadata": {
        "colab": {
          "base_uri": "https://localhost:8080/",
          "height": 1000
        },
        "id": "zSldcadwqDaB",
        "outputId": "0719e66b-21e0-4b41-b5c4-9f6aa2a6e21f"
      },
      "outputs": [
        {
          "data": {
            "text/html": [
              "<style>#sk-container-id-4 {color: black;}#sk-container-id-4 pre{padding: 0;}#sk-container-id-4 div.sk-toggleable {background-color: white;}#sk-container-id-4 label.sk-toggleable__label {cursor: pointer;display: block;width: 100%;margin-bottom: 0;padding: 0.3em;box-sizing: border-box;text-align: center;}#sk-container-id-4 label.sk-toggleable__label-arrow:before {content: \"▸\";float: left;margin-right: 0.25em;color: #696969;}#sk-container-id-4 label.sk-toggleable__label-arrow:hover:before {color: black;}#sk-container-id-4 div.sk-estimator:hover label.sk-toggleable__label-arrow:before {color: black;}#sk-container-id-4 div.sk-toggleable__content {max-height: 0;max-width: 0;overflow: hidden;text-align: left;background-color: #f0f8ff;}#sk-container-id-4 div.sk-toggleable__content pre {margin: 0.2em;color: black;border-radius: 0.25em;background-color: #f0f8ff;}#sk-container-id-4 input.sk-toggleable__control:checked~div.sk-toggleable__content {max-height: 200px;max-width: 100%;overflow: auto;}#sk-container-id-4 input.sk-toggleable__control:checked~label.sk-toggleable__label-arrow:before {content: \"▾\";}#sk-container-id-4 div.sk-estimator input.sk-toggleable__control:checked~label.sk-toggleable__label {background-color: #d4ebff;}#sk-container-id-4 div.sk-label input.sk-toggleable__control:checked~label.sk-toggleable__label {background-color: #d4ebff;}#sk-container-id-4 input.sk-hidden--visually {border: 0;clip: rect(1px 1px 1px 1px);clip: rect(1px, 1px, 1px, 1px);height: 1px;margin: -1px;overflow: hidden;padding: 0;position: absolute;width: 1px;}#sk-container-id-4 div.sk-estimator {font-family: monospace;background-color: #f0f8ff;border: 1px dotted black;border-radius: 0.25em;box-sizing: border-box;margin-bottom: 0.5em;}#sk-container-id-4 div.sk-estimator:hover {background-color: #d4ebff;}#sk-container-id-4 div.sk-parallel-item::after {content: \"\";width: 100%;border-bottom: 1px solid gray;flex-grow: 1;}#sk-container-id-4 div.sk-label:hover label.sk-toggleable__label {background-color: #d4ebff;}#sk-container-id-4 div.sk-serial::before {content: \"\";position: absolute;border-left: 1px solid gray;box-sizing: border-box;top: 0;bottom: 0;left: 50%;z-index: 0;}#sk-container-id-4 div.sk-serial {display: flex;flex-direction: column;align-items: center;background-color: white;padding-right: 0.2em;padding-left: 0.2em;position: relative;}#sk-container-id-4 div.sk-item {position: relative;z-index: 1;}#sk-container-id-4 div.sk-parallel {display: flex;align-items: stretch;justify-content: center;background-color: white;position: relative;}#sk-container-id-4 div.sk-item::before, #sk-container-id-4 div.sk-parallel-item::before {content: \"\";position: absolute;border-left: 1px solid gray;box-sizing: border-box;top: 0;bottom: 0;left: 50%;z-index: -1;}#sk-container-id-4 div.sk-parallel-item {display: flex;flex-direction: column;z-index: 1;position: relative;background-color: white;}#sk-container-id-4 div.sk-parallel-item:first-child::after {align-self: flex-end;width: 50%;}#sk-container-id-4 div.sk-parallel-item:last-child::after {align-self: flex-start;width: 50%;}#sk-container-id-4 div.sk-parallel-item:only-child::after {width: 0;}#sk-container-id-4 div.sk-dashed-wrapped {border: 1px dashed gray;margin: 0 0.4em 0.5em 0.4em;box-sizing: border-box;padding-bottom: 0.4em;background-color: white;}#sk-container-id-4 div.sk-label label {font-family: monospace;font-weight: bold;display: inline-block;line-height: 1.2em;}#sk-container-id-4 div.sk-label-container {text-align: center;}#sk-container-id-4 div.sk-container {/* jupyter's `normalize.less` sets `[hidden] { display: none; }` but bootstrap.min.css set `[hidden] { display: none !important; }` so we also need the `!important` here to be able to override the default hidden behavior on the sphinx rendered scikit-learn.org. See: https://github.com/scikit-learn/scikit-learn/issues/21755 */display: inline-block !important;position: relative;}#sk-container-id-4 div.sk-text-repr-fallback {display: none;}</style><div id=\"sk-container-id-4\" class=\"sk-top-container\"><div class=\"sk-text-repr-fallback\"><pre>LogisticRegression(solver=&#x27;liblinear&#x27;)</pre><b>In a Jupyter environment, please rerun this cell to show the HTML representation or trust the notebook. <br />On GitHub, the HTML representation is unable to render, please try loading this page with nbviewer.org.</b></div><div class=\"sk-container\" hidden><div class=\"sk-item\"><div class=\"sk-estimator sk-toggleable\"><input class=\"sk-toggleable__control sk-hidden--visually\" id=\"sk-estimator-id-4\" type=\"checkbox\" checked><label for=\"sk-estimator-id-4\" class=\"sk-toggleable__label sk-toggleable__label-arrow\">LogisticRegression</label><div class=\"sk-toggleable__content\"><pre>LogisticRegression(solver=&#x27;liblinear&#x27;)</pre></div></div></div></div></div>"
            ],
            "text/plain": [
              "LogisticRegression(solver='liblinear')"
            ]
          },
          "execution_count": 160,
          "metadata": {},
          "output_type": "execute_result"
        },
        {
          "name": "stdout",
          "output_type": "stream",
          "text": [
            "LR: 0.928349 (0.003280)\n",
            "Score for each of the 10 K-fold tests:  [0.92569946 0.92607004 0.93070224 0.92959051 0.92254956 0.92625533\n",
            " 0.93459329 0.92736706 0.93144339 0.92921994]\n",
            "LogisticRegression(solver='liblinear')\n",
            "\tTraining time: 1.858s\n",
            "\tPrediction time: 16.587s\n",
            "\n"
          ]
        },
        {
          "data": {
            "text/html": [
              "<style>#sk-container-id-5 {color: black;}#sk-container-id-5 pre{padding: 0;}#sk-container-id-5 div.sk-toggleable {background-color: white;}#sk-container-id-5 label.sk-toggleable__label {cursor: pointer;display: block;width: 100%;margin-bottom: 0;padding: 0.3em;box-sizing: border-box;text-align: center;}#sk-container-id-5 label.sk-toggleable__label-arrow:before {content: \"▸\";float: left;margin-right: 0.25em;color: #696969;}#sk-container-id-5 label.sk-toggleable__label-arrow:hover:before {color: black;}#sk-container-id-5 div.sk-estimator:hover label.sk-toggleable__label-arrow:before {color: black;}#sk-container-id-5 div.sk-toggleable__content {max-height: 0;max-width: 0;overflow: hidden;text-align: left;background-color: #f0f8ff;}#sk-container-id-5 div.sk-toggleable__content pre {margin: 0.2em;color: black;border-radius: 0.25em;background-color: #f0f8ff;}#sk-container-id-5 input.sk-toggleable__control:checked~div.sk-toggleable__content {max-height: 200px;max-width: 100%;overflow: auto;}#sk-container-id-5 input.sk-toggleable__control:checked~label.sk-toggleable__label-arrow:before {content: \"▾\";}#sk-container-id-5 div.sk-estimator input.sk-toggleable__control:checked~label.sk-toggleable__label {background-color: #d4ebff;}#sk-container-id-5 div.sk-label input.sk-toggleable__control:checked~label.sk-toggleable__label {background-color: #d4ebff;}#sk-container-id-5 input.sk-hidden--visually {border: 0;clip: rect(1px 1px 1px 1px);clip: rect(1px, 1px, 1px, 1px);height: 1px;margin: -1px;overflow: hidden;padding: 0;position: absolute;width: 1px;}#sk-container-id-5 div.sk-estimator {font-family: monospace;background-color: #f0f8ff;border: 1px dotted black;border-radius: 0.25em;box-sizing: border-box;margin-bottom: 0.5em;}#sk-container-id-5 div.sk-estimator:hover {background-color: #d4ebff;}#sk-container-id-5 div.sk-parallel-item::after {content: \"\";width: 100%;border-bottom: 1px solid gray;flex-grow: 1;}#sk-container-id-5 div.sk-label:hover label.sk-toggleable__label {background-color: #d4ebff;}#sk-container-id-5 div.sk-serial::before {content: \"\";position: absolute;border-left: 1px solid gray;box-sizing: border-box;top: 0;bottom: 0;left: 50%;z-index: 0;}#sk-container-id-5 div.sk-serial {display: flex;flex-direction: column;align-items: center;background-color: white;padding-right: 0.2em;padding-left: 0.2em;position: relative;}#sk-container-id-5 div.sk-item {position: relative;z-index: 1;}#sk-container-id-5 div.sk-parallel {display: flex;align-items: stretch;justify-content: center;background-color: white;position: relative;}#sk-container-id-5 div.sk-item::before, #sk-container-id-5 div.sk-parallel-item::before {content: \"\";position: absolute;border-left: 1px solid gray;box-sizing: border-box;top: 0;bottom: 0;left: 50%;z-index: -1;}#sk-container-id-5 div.sk-parallel-item {display: flex;flex-direction: column;z-index: 1;position: relative;background-color: white;}#sk-container-id-5 div.sk-parallel-item:first-child::after {align-self: flex-end;width: 50%;}#sk-container-id-5 div.sk-parallel-item:last-child::after {align-self: flex-start;width: 50%;}#sk-container-id-5 div.sk-parallel-item:only-child::after {width: 0;}#sk-container-id-5 div.sk-dashed-wrapped {border: 1px dashed gray;margin: 0 0.4em 0.5em 0.4em;box-sizing: border-box;padding-bottom: 0.4em;background-color: white;}#sk-container-id-5 div.sk-label label {font-family: monospace;font-weight: bold;display: inline-block;line-height: 1.2em;}#sk-container-id-5 div.sk-label-container {text-align: center;}#sk-container-id-5 div.sk-container {/* jupyter's `normalize.less` sets `[hidden] { display: none; }` but bootstrap.min.css set `[hidden] { display: none !important; }` so we also need the `!important` here to be able to override the default hidden behavior on the sphinx rendered scikit-learn.org. See: https://github.com/scikit-learn/scikit-learn/issues/21755 */display: inline-block !important;position: relative;}#sk-container-id-5 div.sk-text-repr-fallback {display: none;}</style><div id=\"sk-container-id-5\" class=\"sk-top-container\"><div class=\"sk-text-repr-fallback\"><pre>RandomForestClassifier()</pre><b>In a Jupyter environment, please rerun this cell to show the HTML representation or trust the notebook. <br />On GitHub, the HTML representation is unable to render, please try loading this page with nbviewer.org.</b></div><div class=\"sk-container\" hidden><div class=\"sk-item\"><div class=\"sk-estimator sk-toggleable\"><input class=\"sk-toggleable__control sk-hidden--visually\" id=\"sk-estimator-id-5\" type=\"checkbox\" checked><label for=\"sk-estimator-id-5\" class=\"sk-toggleable__label sk-toggleable__label-arrow\">RandomForestClassifier</label><div class=\"sk-toggleable__content\"><pre>RandomForestClassifier()</pre></div></div></div></div></div>"
            ],
            "text/plain": [
              "RandomForestClassifier()"
            ]
          },
          "execution_count": 160,
          "metadata": {},
          "output_type": "execute_result"
        },
        {
          "name": "stdout",
          "output_type": "stream",
          "text": [
            "RF: 0.928590 (0.003264)\n",
            "Score for each of the 10 K-fold tests:  [0.92569946 0.92607004 0.93070224 0.93051695 0.92292014 0.92625533\n",
            " 0.93459329 0.92792292 0.93144339 0.9297758 ]\n",
            "RandomForestClassifier()\n",
            "\tTraining time: 30.398s\n",
            "\tPrediction time: 294.882s\n",
            "\n"
          ]
        },
        {
          "data": {
            "text/html": [
              "<style>#sk-container-id-6 {color: black;}#sk-container-id-6 pre{padding: 0;}#sk-container-id-6 div.sk-toggleable {background-color: white;}#sk-container-id-6 label.sk-toggleable__label {cursor: pointer;display: block;width: 100%;margin-bottom: 0;padding: 0.3em;box-sizing: border-box;text-align: center;}#sk-container-id-6 label.sk-toggleable__label-arrow:before {content: \"▸\";float: left;margin-right: 0.25em;color: #696969;}#sk-container-id-6 label.sk-toggleable__label-arrow:hover:before {color: black;}#sk-container-id-6 div.sk-estimator:hover label.sk-toggleable__label-arrow:before {color: black;}#sk-container-id-6 div.sk-toggleable__content {max-height: 0;max-width: 0;overflow: hidden;text-align: left;background-color: #f0f8ff;}#sk-container-id-6 div.sk-toggleable__content pre {margin: 0.2em;color: black;border-radius: 0.25em;background-color: #f0f8ff;}#sk-container-id-6 input.sk-toggleable__control:checked~div.sk-toggleable__content {max-height: 200px;max-width: 100%;overflow: auto;}#sk-container-id-6 input.sk-toggleable__control:checked~label.sk-toggleable__label-arrow:before {content: \"▾\";}#sk-container-id-6 div.sk-estimator input.sk-toggleable__control:checked~label.sk-toggleable__label {background-color: #d4ebff;}#sk-container-id-6 div.sk-label input.sk-toggleable__control:checked~label.sk-toggleable__label {background-color: #d4ebff;}#sk-container-id-6 input.sk-hidden--visually {border: 0;clip: rect(1px 1px 1px 1px);clip: rect(1px, 1px, 1px, 1px);height: 1px;margin: -1px;overflow: hidden;padding: 0;position: absolute;width: 1px;}#sk-container-id-6 div.sk-estimator {font-family: monospace;background-color: #f0f8ff;border: 1px dotted black;border-radius: 0.25em;box-sizing: border-box;margin-bottom: 0.5em;}#sk-container-id-6 div.sk-estimator:hover {background-color: #d4ebff;}#sk-container-id-6 div.sk-parallel-item::after {content: \"\";width: 100%;border-bottom: 1px solid gray;flex-grow: 1;}#sk-container-id-6 div.sk-label:hover label.sk-toggleable__label {background-color: #d4ebff;}#sk-container-id-6 div.sk-serial::before {content: \"\";position: absolute;border-left: 1px solid gray;box-sizing: border-box;top: 0;bottom: 0;left: 50%;z-index: 0;}#sk-container-id-6 div.sk-serial {display: flex;flex-direction: column;align-items: center;background-color: white;padding-right: 0.2em;padding-left: 0.2em;position: relative;}#sk-container-id-6 div.sk-item {position: relative;z-index: 1;}#sk-container-id-6 div.sk-parallel {display: flex;align-items: stretch;justify-content: center;background-color: white;position: relative;}#sk-container-id-6 div.sk-item::before, #sk-container-id-6 div.sk-parallel-item::before {content: \"\";position: absolute;border-left: 1px solid gray;box-sizing: border-box;top: 0;bottom: 0;left: 50%;z-index: -1;}#sk-container-id-6 div.sk-parallel-item {display: flex;flex-direction: column;z-index: 1;position: relative;background-color: white;}#sk-container-id-6 div.sk-parallel-item:first-child::after {align-self: flex-end;width: 50%;}#sk-container-id-6 div.sk-parallel-item:last-child::after {align-self: flex-start;width: 50%;}#sk-container-id-6 div.sk-parallel-item:only-child::after {width: 0;}#sk-container-id-6 div.sk-dashed-wrapped {border: 1px dashed gray;margin: 0 0.4em 0.5em 0.4em;box-sizing: border-box;padding-bottom: 0.4em;background-color: white;}#sk-container-id-6 div.sk-label label {font-family: monospace;font-weight: bold;display: inline-block;line-height: 1.2em;}#sk-container-id-6 div.sk-label-container {text-align: center;}#sk-container-id-6 div.sk-container {/* jupyter's `normalize.less` sets `[hidden] { display: none; }` but bootstrap.min.css set `[hidden] { display: none !important; }` so we also need the `!important` here to be able to override the default hidden behavior on the sphinx rendered scikit-learn.org. See: https://github.com/scikit-learn/scikit-learn/issues/21755 */display: inline-block !important;position: relative;}#sk-container-id-6 div.sk-text-repr-fallback {display: none;}</style><div id=\"sk-container-id-6\" class=\"sk-top-container\"><div class=\"sk-text-repr-fallback\"><pre>XGBClassifier(base_score=None, booster=None, callbacks=None,\n",
              "              colsample_bylevel=None, colsample_bynode=None,\n",
              "              colsample_bytree=None, device=None, early_stopping_rounds=None,\n",
              "              enable_categorical=False, eval_metric=&#x27;logloss&#x27;,\n",
              "              feature_types=None, gamma=None, grow_policy=None,\n",
              "              importance_type=None, interaction_constraints=None,\n",
              "              learning_rate=None, max_bin=None, max_cat_threshold=None,\n",
              "              max_cat_to_onehot=None, max_delta_step=None, max_depth=None,\n",
              "              max_leaves=None, min_child_weight=None, missing=nan,\n",
              "              monotone_constraints=None, multi_strategy=None, n_estimators=None,\n",
              "              n_jobs=None, num_parallel_tree=None, random_state=None, ...)</pre><b>In a Jupyter environment, please rerun this cell to show the HTML representation or trust the notebook. <br />On GitHub, the HTML representation is unable to render, please try loading this page with nbviewer.org.</b></div><div class=\"sk-container\" hidden><div class=\"sk-item\"><div class=\"sk-estimator sk-toggleable\"><input class=\"sk-toggleable__control sk-hidden--visually\" id=\"sk-estimator-id-6\" type=\"checkbox\" checked><label for=\"sk-estimator-id-6\" class=\"sk-toggleable__label sk-toggleable__label-arrow\">XGBClassifier</label><div class=\"sk-toggleable__content\"><pre>XGBClassifier(base_score=None, booster=None, callbacks=None,\n",
              "              colsample_bylevel=None, colsample_bynode=None,\n",
              "              colsample_bytree=None, device=None, early_stopping_rounds=None,\n",
              "              enable_categorical=False, eval_metric=&#x27;logloss&#x27;,\n",
              "              feature_types=None, gamma=None, grow_policy=None,\n",
              "              importance_type=None, interaction_constraints=None,\n",
              "              learning_rate=None, max_bin=None, max_cat_threshold=None,\n",
              "              max_cat_to_onehot=None, max_delta_step=None, max_depth=None,\n",
              "              max_leaves=None, min_child_weight=None, missing=nan,\n",
              "              monotone_constraints=None, multi_strategy=None, n_estimators=None,\n",
              "              n_jobs=None, num_parallel_tree=None, random_state=None, ...)</pre></div></div></div></div></div>"
            ],
            "text/plain": [
              "XGBClassifier(base_score=None, booster=None, callbacks=None,\n",
              "              colsample_bylevel=None, colsample_bynode=None,\n",
              "              colsample_bytree=None, device=None, early_stopping_rounds=None,\n",
              "              enable_categorical=False, eval_metric='logloss',\n",
              "              feature_types=None, gamma=None, grow_policy=None,\n",
              "              importance_type=None, interaction_constraints=None,\n",
              "              learning_rate=None, max_bin=None, max_cat_threshold=None,\n",
              "              max_cat_to_onehot=None, max_delta_step=None, max_depth=None,\n",
              "              max_leaves=None, min_child_weight=None, missing=nan,\n",
              "              monotone_constraints=None, multi_strategy=None, n_estimators=None,\n",
              "              n_jobs=None, num_parallel_tree=None, random_state=None, ...)"
            ]
          },
          "execution_count": 160,
          "metadata": {},
          "output_type": "execute_result"
        },
        {
          "name": "stdout",
          "output_type": "stream",
          "text": [
            "XGBoost: 0.927645 (0.003096)\n",
            "Score for each of the 10 K-fold tests:  [0.92495831 0.92532889 0.9297758  0.92921994 0.92254956 0.92551417\n",
            " 0.93403743 0.92699648 0.92959051 0.92847878]\n",
            "XGBClassifier(base_score=None, booster=None, callbacks=None,\n",
            "              colsample_bylevel=None, colsample_bynode=None,\n",
            "              colsample_bytree=None, device=None, early_stopping_rounds=None,\n",
            "              enable_categorical=False, eval_metric='logloss',\n",
            "              feature_types=None, gamma=None, grow_policy=None,\n",
            "              importance_type=None, interaction_constraints=None,\n",
            "              learning_rate=None, max_bin=None, max_cat_threshold=None,\n",
            "              max_cat_to_onehot=None, max_delta_step=None, max_depth=None,\n",
            "              max_leaves=None, min_child_weight=None, missing=nan,\n",
            "              monotone_constraints=None, multi_strategy=None, n_estimators=None,\n",
            "              n_jobs=None, num_parallel_tree=None, random_state=None, ...)\n",
            "\tTraining time: 2.388s\n",
            "\tPrediction time: 34.675s\n",
            "\n"
          ]
        },
        {
          "data": {
            "text/plain": [
              "Text(0.5, 0.98, 'Algorithm Comparison')"
            ]
          },
          "execution_count": 160,
          "metadata": {},
          "output_type": "execute_result"
        },
        {
          "data": {
            "text/plain": [
              "{'whiskers': [<matplotlib.lines.Line2D at 0x7e5a92c13e20>,\n",
              "  <matplotlib.lines.Line2D at 0x7e5a92c13fd0>,\n",
              "  <matplotlib.lines.Line2D at 0x7e5a7b430670>,\n",
              "  <matplotlib.lines.Line2D at 0x7e5a7b430970>,\n",
              "  <matplotlib.lines.Line2D at 0x7e5a7b432290>,\n",
              "  <matplotlib.lines.Line2D at 0x7e5a7b431120>],\n",
              " 'caps': [<matplotlib.lines.Line2D at 0x7e5a92c110f0>,\n",
              "  <matplotlib.lines.Line2D at 0x7e5a92c13340>,\n",
              "  <matplotlib.lines.Line2D at 0x7e5a7b430790>,\n",
              "  <matplotlib.lines.Line2D at 0x7e5a7b430a00>,\n",
              "  <matplotlib.lines.Line2D at 0x7e5a7b430640>,\n",
              "  <matplotlib.lines.Line2D at 0x7e5a7b431000>],\n",
              " 'boxes': [<matplotlib.lines.Line2D at 0x7e5a67ea7e80>,\n",
              "  <matplotlib.lines.Line2D at 0x7e5a8d85f970>,\n",
              "  <matplotlib.lines.Line2D at 0x7e5a7b431870>],\n",
              " 'medians': [<matplotlib.lines.Line2D at 0x7e5a92c100a0>,\n",
              "  <matplotlib.lines.Line2D at 0x7e5a7b4318a0>,\n",
              "  <matplotlib.lines.Line2D at 0x7e5a7b430700>],\n",
              " 'fliers': [<matplotlib.lines.Line2D at 0x7e5a92c127a0>,\n",
              "  <matplotlib.lines.Line2D at 0x7e5a7b433d00>,\n",
              "  <matplotlib.lines.Line2D at 0x7e5a7b432260>],\n",
              " 'means': []}"
            ]
          },
          "execution_count": 160,
          "metadata": {},
          "output_type": "execute_result"
        },
        {
          "data": {
            "text/plain": [
              "[Text(1, 0, 'LR'), Text(2, 0, 'RF'), Text(3, 0, 'XGBoost')]"
            ]
          },
          "execution_count": 160,
          "metadata": {},
          "output_type": "execute_result"
        },
        {
          "data": {
            "image/png": "[encoded data removed]",
            "text/plain": [
              "<Figure size 1500x1000 with 1 Axes>"
            ]
          },
          "metadata": {},
          "output_type": "display_data"
        }
      ],
      "source": [
        "# Algorithm Harness\n",
        "# Scoring metrics:\n",
        "# 'accuracy', 'balanced_accuracy', 'average_precision', 'neg_brier_score', 'f1', 'f1_micro', 'f1_macro', 'f1_weighted',\n",
        "# 'neg_log_loss', 'precision', 'recall', 'jaccard', 'roc_auc', 'roc_auc_ovr', 'roc_auc_ovo', 'roc_auc_ovr_weighted', 'roc_auc_ovo_weighted'\n",
        "results = []\n",
        "names = []\n",
        "scoring = 'accuracy'\n",
        "for name, model in models:\n",
        "    start = time()\n",
        "    kfold = KFold(n_splits=10, random_state=7, shuffle=True)\n",
        "    model.fit(X_train, y_train)\n",
        "    train_time = time() - start\n",
        "    cv_results = cross_val_score(model, X_train, y_train, cv=kfold, scoring=scoring)\n",
        "    predict_time = time() - start\n",
        "    results.append(cv_results)\n",
        "    names.append(name)\n",
        "    msg = \"%s: %f (%f)\" % (name, cv_results.mean(), cv_results.std())\n",
        "    print(msg)\n",
        "    print(\"Score for each of the 10 K-fold tests: \",cv_results)\n",
        "    print(model)\n",
        "    print(\"\\tTraining time: %0.3fs\" % train_time)\n",
        "    print(\"\\tPrediction time: %0.3fs\" % predict_time)\n",
        "    print()\n",
        "\n",
        "fig = pyplot.figure(figsize=(15, 10))  # Change the numbers as needed\n",
        "fig.suptitle('Algorithm Comparison')\n",
        "ax = fig.add_subplot(111)\n",
        "pyplot.boxplot(results)\n",
        "ax.set_xticklabels(names, rotation = 45)  # Added rotation for better visibility\n",
        "pyplot.show()"
      ]
    },
    {
      "cell_type": "markdown",
      "metadata": {
        "id": "usp3JOrtL34g"
      },
      "source": [
        "# Undersample"
      ]
    },
    {
      "cell_type": "code",
      "execution_count": null,
      "metadata": {
        "colab": {
          "base_uri": "https://localhost:8080/",
          "height": 118
        },
        "id": "48yUDGf6L72a",
        "outputId": "a53173d6-2415-4ef8-d367-ad6a7a4b4786"
      },
      "outputs": [
        {
          "output_type": "execute_result",
          "data": {
            "text/plain": [
              "       loan_amount  funded_amount  funded_amount_investor      term  \\\n",
              "33057          0.0            0.0                     0.0  0.082606   \n",
              "\n",
              "       interest_rate     grade  sub_grade  home_ownership  annual_income  \\\n",
              "33057            0.0  0.096379   0.088776        0.088663            0.0   \n",
              "\n",
              "       loan_title  debit_to_income  delinquency_-_two_years  \\\n",
              "33057    0.094004              0.0                  0.09177   \n",
              "\n",
              "       inquires_-_six_months  open_account  public_record  \\\n",
              "33057               0.092567       0.09436       0.100167   \n",
              "\n",
              "       revolving_utilities  total_accounts  total_received_interest  \\\n",
              "33057                  0.0        0.086077                      0.0   \n",
              "\n",
              "       collection_12_months_medical  last_week_pay  total_collection_amount  \\\n",
              "33057                      0.092539       0.077529                 0.085299   \n",
              "\n",
              "       log_total_current_balance  log_total_revolving_credit_limit  \\\n",
              "33057                        0.0                          0.220448   \n",
              "\n",
              "       log_revolving_balance  collection_recovery_fee_ind  \\\n",
              "33057               0.193572                     0.093841   \n",
              "\n",
              "       total_received_late_fee_ind  recoveries_ind  loan_default_status  \n",
              "33057                     0.105157        0.094753                    0  "
            ],
            "text/html": [
              "\n",
              "  <div id=\"df-a0fb0b28-b402-435b-902b-cf4a20320bf3\" class=\"colab-df-container\">\n",
              "    <div>\n",
              "<style scoped>\n",
              "    .dataframe tbody tr th:only-of-type {\n",
              "        vertical-align: middle;\n",
              "    }\n",
              "\n",
              "    .dataframe tbody tr th {\n",
              "        vertical-align: top;\n",
              "    }\n",
              "\n",
              "    .dataframe thead th {\n",
              "        text-align: right;\n",
              "    }\n",
              "</style>\n",
              "<table border=\"1\" class=\"dataframe\">\n",
              "  <thead>\n",
              "    <tr style=\"text-align: right;\">\n",
              "      <th></th>\n",
              "      <th>loan_amount</th>\n",
              "      <th>funded_amount</th>\n",
              "      <th>funded_amount_investor</th>\n",
              "      <th>term</th>\n",
              "      <th>interest_rate</th>\n",
              "      <th>grade</th>\n",
              "      <th>sub_grade</th>\n",
              "      <th>home_ownership</th>\n",
              "      <th>annual_income</th>\n",
              "      <th>loan_title</th>\n",
              "      <th>debit_to_income</th>\n",
              "      <th>delinquency_-_two_years</th>\n",
              "      <th>inquires_-_six_months</th>\n",
              "      <th>open_account</th>\n",
              "      <th>public_record</th>\n",
              "      <th>revolving_utilities</th>\n",
              "      <th>total_accounts</th>\n",
              "      <th>total_received_interest</th>\n",
              "      <th>collection_12_months_medical</th>\n",
              "      <th>last_week_pay</th>\n",
              "      <th>total_collection_amount</th>\n",
              "      <th>log_total_current_balance</th>\n",
              "      <th>log_total_revolving_credit_limit</th>\n",
              "      <th>log_revolving_balance</th>\n",
              "      <th>collection_recovery_fee_ind</th>\n",
              "      <th>total_received_late_fee_ind</th>\n",
              "      <th>recoveries_ind</th>\n",
              "      <th>loan_default_status</th>\n",
              "    </tr>\n",
              "  </thead>\n",
              "  <tbody>\n",
              "    <tr>\n",
              "      <th>33057</th>\n",
              "      <td>0.0</td>\n",
              "      <td>0.0</td>\n",
              "      <td>0.0</td>\n",
              "      <td>0.082606</td>\n",
              "      <td>0.0</td>\n",
              "      <td>0.096379</td>\n",
              "      <td>0.088776</td>\n",
              "      <td>0.088663</td>\n",
              "      <td>0.0</td>\n",
              "      <td>0.094004</td>\n",
              "      <td>0.0</td>\n",
              "      <td>0.09177</td>\n",
              "      <td>0.092567</td>\n",
              "      <td>0.09436</td>\n",
              "      <td>0.100167</td>\n",
              "      <td>0.0</td>\n",
              "      <td>0.086077</td>\n",
              "      <td>0.0</td>\n",
              "      <td>0.092539</td>\n",
              "      <td>0.077529</td>\n",
              "      <td>0.085299</td>\n",
              "      <td>0.0</td>\n",
              "      <td>0.220448</td>\n",
              "      <td>0.193572</td>\n",
              "      <td>0.093841</td>\n",
              "      <td>0.105157</td>\n",
              "      <td>0.094753</td>\n",
              "      <td>0</td>\n",
              "    </tr>\n",
              "  </tbody>\n",
              "</table>\n",
              "</div>\n",
              "    <div class=\"colab-df-buttons\">\n",
              "\n",
              "  <div class=\"colab-df-container\">\n",
              "    <button class=\"colab-df-convert\" onclick=\"convertToInteractive('df-a0fb0b28-b402-435b-902b-cf4a20320bf3')\"\n",
              "            title=\"Convert this dataframe to an interactive table.\"\n",
              "            style=\"display:none;\">\n",
              "\n",
              "  <svg xmlns=\"http://www.w3.org/2000/svg\" height=\"24px\" viewBox=\"0 -960 960 960\">\n",
              "    <path d=\"M120-120v-720h720v720H120Zm60-500h600v-160H180v160Zm220 220h160v-160H400v160Zm0 220h160v-160H400v160ZM180-400h160v-160H180v160Zm440 0h160v-160H620v160ZM180-180h160v-160H180v160Zm440 0h160v-160H620v160Z\"/>\n",
              "  </svg>\n",
              "    </button>\n",
              "\n",
              "  <style>\n",
              "    .colab-df-container {\n",
              "      display:flex;\n",
              "      gap: 12px;\n",
              "    }\n",
              "\n",
              "    .colab-df-convert {\n",
              "      background-color: #E8F0FE;\n",
              "      border: none;\n",
              "      border-radius: 50%;\n",
              "      cursor: pointer;\n",
              "      display: none;\n",
              "      fill: #1967D2;\n",
              "      height: 32px;\n",
              "      padding: 0 0 0 0;\n",
              "      width: 32px;\n",
              "    }\n",
              "\n",
              "    .colab-df-convert:hover {\n",
              "      background-color: #E2EBFA;\n",
              "      box-shadow: 0px 1px 2px rgba(60, 64, 67, 0.3), 0px 1px 3px 1px rgba(60, 64, 67, 0.15);\n",
              "      fill: #174EA6;\n",
              "    }\n",
              "\n",
              "    .colab-df-buttons div {\n",
              "      margin-bottom: 4px;\n",
              "    }\n",
              "\n",
              "    [theme=dark] .colab-df-convert {\n",
              "      background-color: #3B4455;\n",
              "      fill: #D2E3FC;\n",
              "    }\n",
              "\n",
              "    [theme=dark] .colab-df-convert:hover {\n",
              "      background-color: #434B5C;\n",
              "      box-shadow: 0px 1px 3px 1px rgba(0, 0, 0, 0.15);\n",
              "      filter: drop-shadow(0px 1px 2px rgba(0, 0, 0, 0.3));\n",
              "      fill: #FFFFFF;\n",
              "    }\n",
              "  </style>\n",
              "\n",
              "    <script>\n",
              "      const buttonEl =\n",
              "        document.querySelector('#df-a0fb0b28-b402-435b-902b-cf4a20320bf3 button.colab-df-convert');\n",
              "      buttonEl.style.display =\n",
              "        google.colab.kernel.accessAllowed ? 'block' : 'none';\n",
              "\n",
              "      async function convertToInteractive(key) {\n",
              "        const element = document.querySelector('#df-a0fb0b28-b402-435b-902b-cf4a20320bf3');\n",
              "        const dataTable =\n",
              "          await google.colab.kernel.invokeFunction('convertToInteractive',\n",
              "                                                    [key], {});\n",
              "        if (!dataTable) return;\n",
              "\n",
              "        const docLinkHtml = 'Like what you see? Visit the ' +\n",
              "          '<a target=\"_blank\" href=https://colab.research.google.com/notebooks/data_table.ipynb>data table notebook</a>'\n",
              "          + ' to learn more about interactive tables.';\n",
              "        element.innerHTML = '';\n",
              "        dataTable['output_type'] = 'display_data';\n",
              "        await google.colab.output.renderOutput(dataTable, element);\n",
              "        const docLink = document.createElement('div');\n",
              "        docLink.innerHTML = docLinkHtml;\n",
              "        element.appendChild(docLink);\n",
              "      }\n",
              "    </script>\n",
              "  </div>\n",
              "\n",
              "    </div>\n",
              "  </div>\n"
            ]
          },
          "metadata": {},
          "execution_count": 125
        }
      ],
      "source": [
        "#Undersample\n",
        "trainData = pd.concat([X_train, y_train], axis=1)\n",
        "trainData.head(1)"
      ]
    },
    {
      "cell_type": "code",
      "execution_count": null,
      "metadata": {
        "colab": {
          "base_uri": "https://localhost:8080/"
        },
        "id": "Nqp18cGYVVK-",
        "outputId": "4a4358b2-bc26-4492-f81d-a06f67c89323"
      },
      "outputs": [
        {
          "output_type": "stream",
          "name": "stdout",
          "text": [
            "4993\n"
          ]
        }
      ],
      "source": [
        "# pull out all of the \"1-Defaulters\" or minority values\n",
        "idx_defaulters = trainData[trainData.loan_default_status==1].index\n",
        "print(len(idx_defaulters))"
      ]
    },
    {
      "cell_type": "code",
      "execution_count": null,
      "metadata": {
        "colab": {
          "base_uri": "https://localhost:8080/"
        },
        "id": "id-K3ZcqVpcV",
        "outputId": "31647b18-f468-4fd4-d10a-4d850c3fbf6c"
      },
      "outputs": [
        {
          "output_type": "stream",
          "name": "stdout",
          "text": [
            "(4993, 28)\n"
          ]
        }
      ],
      "source": [
        "# Separate the minority class\n",
        "defaulter_df = trainData.loc[idx_defaulters]\n",
        "print(defaulter_df.shape)"
      ]
    },
    {
      "cell_type": "code",
      "execution_count": null,
      "metadata": {
        "colab": {
          "base_uri": "https://localhost:8080/"
        },
        "id": "h75uujzcV3YS",
        "outputId": "0a8aaf04-1754-4ab4-e4ff-93059ce42778"
      },
      "outputs": [
        {
          "output_type": "stream",
          "name": "stdout",
          "text": [
            "48977\n"
          ]
        }
      ],
      "source": [
        "# now the majority\n",
        "idx_nondefaulters = trainData[trainData.loan_default_status==0].index\n",
        "print(len(idx_nondefaulters))"
      ]
    },
    {
      "cell_type": "code",
      "execution_count": null,
      "metadata": {
        "colab": {
          "base_uri": "https://localhost:8080/"
        },
        "id": "GyLyIFETWGec",
        "outputId": "f3d84923-a1c5-4af1-cd23-aa8ff0afdb36"
      },
      "outputs": [
        {
          "output_type": "stream",
          "name": "stdout",
          "text": [
            "(48977, 28)\n"
          ]
        }
      ],
      "source": [
        "# Separate the majority class\n",
        "nondefaulter_df = trainData.loc[idx_nondefaulters]\n",
        "print(nondefaulter_df.shape)"
      ]
    },
    {
      "cell_type": "code",
      "execution_count": null,
      "metadata": {
        "colab": {
          "base_uri": "https://localhost:8080/"
        },
        "id": "vSCP9nwjWSIh",
        "outputId": "25826f65-691c-4227-d361-424126f6cdde"
      },
      "outputs": [
        {
          "output_type": "execute_result",
          "data": {
            "text/plain": [
              "(4993, 28)"
            ]
          },
          "metadata": {},
          "execution_count": 130
        }
      ],
      "source": [
        "# Randomly pull out 5006 (idx_defaulters) from the Non Defaulters dataframe\n",
        "defaulter_df_sample=nondefaulter_df.sample(n=len(idx_defaulters),random_state=123)\n",
        "defaulter_df_sample.shape"
      ]
    },
    {
      "cell_type": "code",
      "execution_count": null,
      "metadata": {
        "colab": {
          "base_uri": "https://localhost:8080/",
          "height": 297
        },
        "id": "qqzeerxEZw7c",
        "outputId": "20cf2339-df8b-4e9b-8dac-1f2649608d62"
      },
      "outputs": [
        {
          "output_type": "stream",
          "name": "stdout",
          "text": [
            "1    4993\n",
            "0    4993\n",
            "Name: loan_default_status, dtype: int64\n"
          ]
        },
        {
          "output_type": "execute_result",
          "data": {
            "text/plain": [
              "       loan_amount  funded_amount  funded_amount_investor      term  \\\n",
              "25348     0.193572       0.220448                     1.0  0.097099   \n",
              "39253     1.000000       0.256230                     1.0  0.097099   \n",
              "64258     0.256230       0.220448                     1.0  0.097099   \n",
              "6377      0.000000       0.193572                     0.0  0.097099   \n",
              "8567      0.220448       1.000000                     1.0  0.097099   \n",
              "\n",
              "       interest_rate     grade  sub_grade  home_ownership  annual_income  \\\n",
              "25348            1.0  0.095873   0.091887        0.101550            1.0   \n",
              "39253            1.0  0.091249   0.082523        0.088663            1.0   \n",
              "64258            1.0  0.093896   0.082523        0.088663            1.0   \n",
              "6377             0.0  0.093896   0.094128        0.101550            0.0   \n",
              "8567             1.0  0.096379   0.102050        0.095693            1.0   \n",
              "\n",
              "       loan_title  debit_to_income  delinquency_-_two_years  \\\n",
              "25348    0.089720              1.0                 0.091770   \n",
              "39253    0.089720              1.0                 0.091770   \n",
              "64258    0.094004              1.0                 0.093047   \n",
              "6377     0.094004              0.0                 0.091770   \n",
              "8567     0.089720              1.0                 0.093047   \n",
              "\n",
              "       inquires_-_six_months  open_account  public_record  \\\n",
              "25348               0.092567      0.093728       0.100167   \n",
              "39253               0.092567      0.094360       0.091823   \n",
              "64258               0.090172      0.085748       0.091823   \n",
              "6377                0.092567      0.093728       0.091823   \n",
              "8567                0.092567      0.094360       0.091823   \n",
              "\n",
              "       revolving_utilities  total_accounts  total_received_interest  \\\n",
              "25348                  1.0        0.090422                      1.0   \n",
              "39253                  1.0        0.093737                      1.0   \n",
              "64258                  1.0        0.095590                      1.0   \n",
              "6377                   0.0        0.095225                      0.0   \n",
              "8567                   1.0        0.091635                      1.0   \n",
              "\n",
              "       collection_12_months_medical  last_week_pay  total_collection_amount  \\\n",
              "25348                      0.092539       0.077657                 0.107065   \n",
              "39253                      0.092539       0.107376                 0.090661   \n",
              "64258                      0.091163       0.075118                 0.087358   \n",
              "6377                       0.092539       0.097134                 0.089111   \n",
              "8567                       0.092539       0.098573                 0.107869   \n",
              "\n",
              "       log_total_current_balance  log_total_revolving_credit_limit  \\\n",
              "25348                    1.00000                          0.220448   \n",
              "39253                    0.25623                          0.220448   \n",
              "64258                    1.00000                          0.397533   \n",
              "6377                     0.00000                          0.000000   \n",
              "8567                     1.00000                          0.288145   \n",
              "\n",
              "       log_revolving_balance  collection_recovery_fee_ind  \\\n",
              "25348               0.235914                     0.093841   \n",
              "39253               0.259613                     0.093841   \n",
              "64258               0.193572                     0.093841   \n",
              "6377                0.000000                     0.093841   \n",
              "8567                0.193572                     0.093841   \n",
              "\n",
              "       total_received_late_fee_ind  recoveries_ind  loan_default_status  \n",
              "25348                     0.091897        0.092251                    1  \n",
              "39253                     0.091897        0.094753                    1  \n",
              "64258                     0.091897        0.092251                    1  \n",
              "6377                      0.091897        0.092251                    0  \n",
              "8567                      0.091897        0.094753                    1  "
            ],
            "text/html": [
              "\n",
              "  <div id=\"df-993d9402-f944-4acb-a5ad-754b831c3531\" class=\"colab-df-container\">\n",
              "    <div>\n",
              "<style scoped>\n",
              "    .dataframe tbody tr th:only-of-type {\n",
              "        vertical-align: middle;\n",
              "    }\n",
              "\n",
              "    .dataframe tbody tr th {\n",
              "        vertical-align: top;\n",
              "    }\n",
              "\n",
              "    .dataframe thead th {\n",
              "        text-align: right;\n",
              "    }\n",
              "</style>\n",
              "<table border=\"1\" class=\"dataframe\">\n",
              "  <thead>\n",
              "    <tr style=\"text-align: right;\">\n",
              "      <th></th>\n",
              "      <th>loan_amount</th>\n",
              "      <th>funded_amount</th>\n",
              "      <th>funded_amount_investor</th>\n",
              "      <th>term</th>\n",
              "      <th>interest_rate</th>\n",
              "      <th>grade</th>\n",
              "      <th>sub_grade</th>\n",
              "      <th>home_ownership</th>\n",
              "      <th>annual_income</th>\n",
              "      <th>loan_title</th>\n",
              "      <th>debit_to_income</th>\n",
              "      <th>delinquency_-_two_years</th>\n",
              "      <th>inquires_-_six_months</th>\n",
              "      <th>open_account</th>\n",
              "      <th>public_record</th>\n",
              "      <th>revolving_utilities</th>\n",
              "      <th>total_accounts</th>\n",
              "      <th>total_received_interest</th>\n",
              "      <th>collection_12_months_medical</th>\n",
              "      <th>last_week_pay</th>\n",
              "      <th>total_collection_amount</th>\n",
              "      <th>log_total_current_balance</th>\n",
              "      <th>log_total_revolving_credit_limit</th>\n",
              "      <th>log_revolving_balance</th>\n",
              "      <th>collection_recovery_fee_ind</th>\n",
              "      <th>total_received_late_fee_ind</th>\n",
              "      <th>recoveries_ind</th>\n",
              "      <th>loan_default_status</th>\n",
              "    </tr>\n",
              "  </thead>\n",
              "  <tbody>\n",
              "    <tr>\n",
              "      <th>25348</th>\n",
              "      <td>0.193572</td>\n",
              "      <td>0.220448</td>\n",
              "      <td>1.0</td>\n",
              "      <td>0.097099</td>\n",
              "      <td>1.0</td>\n",
              "      <td>0.095873</td>\n",
              "      <td>0.091887</td>\n",
              "      <td>0.101550</td>\n",
              "      <td>1.0</td>\n",
              "      <td>0.089720</td>\n",
              "      <td>1.0</td>\n",
              "      <td>0.091770</td>\n",
              "      <td>0.092567</td>\n",
              "      <td>0.093728</td>\n",
              "      <td>0.100167</td>\n",
              "      <td>1.0</td>\n",
              "      <td>0.090422</td>\n",
              "      <td>1.0</td>\n",
              "      <td>0.092539</td>\n",
              "      <td>0.077657</td>\n",
              "      <td>0.107065</td>\n",
              "      <td>1.00000</td>\n",
              "      <td>0.220448</td>\n",
              "      <td>0.235914</td>\n",
              "      <td>0.093841</td>\n",
              "      <td>0.091897</td>\n",
              "      <td>0.092251</td>\n",
              "      <td>1</td>\n",
              "    </tr>\n",
              "    <tr>\n",
              "      <th>39253</th>\n",
              "      <td>1.000000</td>\n",
              "      <td>0.256230</td>\n",
              "      <td>1.0</td>\n",
              "      <td>0.097099</td>\n",
              "      <td>1.0</td>\n",
              "      <td>0.091249</td>\n",
              "      <td>0.082523</td>\n",
              "      <td>0.088663</td>\n",
              "      <td>1.0</td>\n",
              "      <td>0.089720</td>\n",
              "      <td>1.0</td>\n",
              "      <td>0.091770</td>\n",
              "      <td>0.092567</td>\n",
              "      <td>0.094360</td>\n",
              "      <td>0.091823</td>\n",
              "      <td>1.0</td>\n",
              "      <td>0.093737</td>\n",
              "      <td>1.0</td>\n",
              "      <td>0.092539</td>\n",
              "      <td>0.107376</td>\n",
              "      <td>0.090661</td>\n",
              "      <td>0.25623</td>\n",
              "      <td>0.220448</td>\n",
              "      <td>0.259613</td>\n",
              "      <td>0.093841</td>\n",
              "      <td>0.091897</td>\n",
              "      <td>0.094753</td>\n",
              "      <td>1</td>\n",
              "    </tr>\n",
              "    <tr>\n",
              "      <th>64258</th>\n",
              "      <td>0.256230</td>\n",
              "      <td>0.220448</td>\n",
              "      <td>1.0</td>\n",
              "      <td>0.097099</td>\n",
              "      <td>1.0</td>\n",
              "      <td>0.093896</td>\n",
              "      <td>0.082523</td>\n",
              "      <td>0.088663</td>\n",
              "      <td>1.0</td>\n",
              "      <td>0.094004</td>\n",
              "      <td>1.0</td>\n",
              "      <td>0.093047</td>\n",
              "      <td>0.090172</td>\n",
              "      <td>0.085748</td>\n",
              "      <td>0.091823</td>\n",
              "      <td>1.0</td>\n",
              "      <td>0.095590</td>\n",
              "      <td>1.0</td>\n",
              "      <td>0.091163</td>\n",
              "      <td>0.075118</td>\n",
              "      <td>0.087358</td>\n",
              "      <td>1.00000</td>\n",
              "      <td>0.397533</td>\n",
              "      <td>0.193572</td>\n",
              "      <td>0.093841</td>\n",
              "      <td>0.091897</td>\n",
              "      <td>0.092251</td>\n",
              "      <td>1</td>\n",
              "    </tr>\n",
              "    <tr>\n",
              "      <th>6377</th>\n",
              "      <td>0.000000</td>\n",
              "      <td>0.193572</td>\n",
              "      <td>0.0</td>\n",
              "      <td>0.097099</td>\n",
              "      <td>0.0</td>\n",
              "      <td>0.093896</td>\n",
              "      <td>0.094128</td>\n",
              "      <td>0.101550</td>\n",
              "      <td>0.0</td>\n",
              "      <td>0.094004</td>\n",
              "      <td>0.0</td>\n",
              "      <td>0.091770</td>\n",
              "      <td>0.092567</td>\n",
              "      <td>0.093728</td>\n",
              "      <td>0.091823</td>\n",
              "      <td>0.0</td>\n",
              "      <td>0.095225</td>\n",
              "      <td>0.0</td>\n",
              "      <td>0.092539</td>\n",
              "      <td>0.097134</td>\n",
              "      <td>0.089111</td>\n",
              "      <td>0.00000</td>\n",
              "      <td>0.000000</td>\n",
              "      <td>0.000000</td>\n",
              "      <td>0.093841</td>\n",
              "      <td>0.091897</td>\n",
              "      <td>0.092251</td>\n",
              "      <td>0</td>\n",
              "    </tr>\n",
              "    <tr>\n",
              "      <th>8567</th>\n",
              "      <td>0.220448</td>\n",
              "      <td>1.000000</td>\n",
              "      <td>1.0</td>\n",
              "      <td>0.097099</td>\n",
              "      <td>1.0</td>\n",
              "      <td>0.096379</td>\n",
              "      <td>0.102050</td>\n",
              "      <td>0.095693</td>\n",
              "      <td>1.0</td>\n",
              "      <td>0.089720</td>\n",
              "      <td>1.0</td>\n",
              "      <td>0.093047</td>\n",
              "      <td>0.092567</td>\n",
              "      <td>0.094360</td>\n",
              "      <td>0.091823</td>\n",
              "      <td>1.0</td>\n",
              "      <td>0.091635</td>\n",
              "      <td>1.0</td>\n",
              "      <td>0.092539</td>\n",
              "      <td>0.098573</td>\n",
              "      <td>0.107869</td>\n",
              "      <td>1.00000</td>\n",
              "      <td>0.288145</td>\n",
              "      <td>0.193572</td>\n",
              "      <td>0.093841</td>\n",
              "      <td>0.091897</td>\n",
              "      <td>0.094753</td>\n",
              "      <td>1</td>\n",
              "    </tr>\n",
              "  </tbody>\n",
              "</table>\n",
              "</div>\n",
              "    <div class=\"colab-df-buttons\">\n",
              "\n",
              "  <div class=\"colab-df-container\">\n",
              "    <button class=\"colab-df-convert\" onclick=\"convertToInteractive('df-993d9402-f944-4acb-a5ad-754b831c3531')\"\n",
              "            title=\"Convert this dataframe to an interactive table.\"\n",
              "            style=\"display:none;\">\n",
              "\n",
              "  <svg xmlns=\"http://www.w3.org/2000/svg\" height=\"24px\" viewBox=\"0 -960 960 960\">\n",
              "    <path d=\"M120-120v-720h720v720H120Zm60-500h600v-160H180v160Zm220 220h160v-160H400v160Zm0 220h160v-160H400v160ZM180-400h160v-160H180v160Zm440 0h160v-160H620v160ZM180-180h160v-160H180v160Zm440 0h160v-160H620v160Z\"/>\n",
              "  </svg>\n",
              "    </button>\n",
              "\n",
              "  <style>\n",
              "    .colab-df-container {\n",
              "      display:flex;\n",
              "      gap: 12px;\n",
              "    }\n",
              "\n",
              "    .colab-df-convert {\n",
              "      background-color: #E8F0FE;\n",
              "      border: none;\n",
              "      border-radius: 50%;\n",
              "      cursor: pointer;\n",
              "      display: none;\n",
              "      fill: #1967D2;\n",
              "      height: 32px;\n",
              "      padding: 0 0 0 0;\n",
              "      width: 32px;\n",
              "    }\n",
              "\n",
              "    .colab-df-convert:hover {\n",
              "      background-color: #E2EBFA;\n",
              "      box-shadow: 0px 1px 2px rgba(60, 64, 67, 0.3), 0px 1px 3px 1px rgba(60, 64, 67, 0.15);\n",
              "      fill: #174EA6;\n",
              "    }\n",
              "\n",
              "    .colab-df-buttons div {\n",
              "      margin-bottom: 4px;\n",
              "    }\n",
              "\n",
              "    [theme=dark] .colab-df-convert {\n",
              "      background-color: #3B4455;\n",
              "      fill: #D2E3FC;\n",
              "    }\n",
              "\n",
              "    [theme=dark] .colab-df-convert:hover {\n",
              "      background-color: #434B5C;\n",
              "      box-shadow: 0px 1px 3px 1px rgba(0, 0, 0, 0.15);\n",
              "      filter: drop-shadow(0px 1px 2px rgba(0, 0, 0, 0.3));\n",
              "      fill: #FFFFFF;\n",
              "    }\n",
              "  </style>\n",
              "\n",
              "    <script>\n",
              "      const buttonEl =\n",
              "        document.querySelector('#df-993d9402-f944-4acb-a5ad-754b831c3531 button.colab-df-convert');\n",
              "      buttonEl.style.display =\n",
              "        google.colab.kernel.accessAllowed ? 'block' : 'none';\n",
              "\n",
              "      async function convertToInteractive(key) {\n",
              "        const element = document.querySelector('#df-993d9402-f944-4acb-a5ad-754b831c3531');\n",
              "        const dataTable =\n",
              "          await google.colab.kernel.invokeFunction('convertToInteractive',\n",
              "                                                    [key], {});\n",
              "        if (!dataTable) return;\n",
              "\n",
              "        const docLinkHtml = 'Like what you see? Visit the ' +\n",
              "          '<a target=\"_blank\" href=https://colab.research.google.com/notebooks/data_table.ipynb>data table notebook</a>'\n",
              "          + ' to learn more about interactive tables.';\n",
              "        element.innerHTML = '';\n",
              "        dataTable['output_type'] = 'display_data';\n",
              "        await google.colab.output.renderOutput(dataTable, element);\n",
              "        const docLink = document.createElement('div');\n",
              "        docLink.innerHTML = docLinkHtml;\n",
              "        element.appendChild(docLink);\n",
              "      }\n",
              "    </script>\n",
              "  </div>\n",
              "\n",
              "\n",
              "<div id=\"df-d6fbb0ed-ebda-4518-a4a6-a2896badd18d\">\n",
              "  <button class=\"colab-df-quickchart\" onclick=\"quickchart('df-d6fbb0ed-ebda-4518-a4a6-a2896badd18d')\"\n",
              "            title=\"Suggest charts.\"\n",
              "            style=\"display:none;\">\n",
              "\n",
              "<svg xmlns=\"http://www.w3.org/2000/svg\" height=\"24px\"viewBox=\"0 0 24 24\"\n",
              "     width=\"24px\">\n",
              "    <g>\n",
              "        <path d=\"M19 3H5c-1.1 0-2 .9-2 2v14c0 1.1.9 2 2 2h14c1.1 0 2-.9 2-2V5c0-1.1-.9-2-2-2zM9 17H7v-7h2v7zm4 0h-2V7h2v10zm4 0h-2v-4h2v4z\"/>\n",
              "    </g>\n",
              "</svg>\n",
              "  </button>\n",
              "\n",
              "<style>\n",
              "  .colab-df-quickchart {\n",
              "      --bg-color: #E8F0FE;\n",
              "      --fill-color: #1967D2;\n",
              "      --hover-bg-color: #E2EBFA;\n",
              "      --hover-fill-color: #174EA6;\n",
              "      --disabled-fill-color: #AAA;\n",
              "      --disabled-bg-color: #DDD;\n",
              "  }\n",
              "\n",
              "  [theme=dark] .colab-df-quickchart {\n",
              "      --bg-color: #3B4455;\n",
              "      --fill-color: #D2E3FC;\n",
              "      --hover-bg-color: #434B5C;\n",
              "      --hover-fill-color: #FFFFFF;\n",
              "      --disabled-bg-color: #3B4455;\n",
              "      --disabled-fill-color: #666;\n",
              "  }\n",
              "\n",
              "  .colab-df-quickchart {\n",
              "    background-color: var(--bg-color);\n",
              "    border: none;\n",
              "    border-radius: 50%;\n",
              "    cursor: pointer;\n",
              "    display: none;\n",
              "    fill: var(--fill-color);\n",
              "    height: 32px;\n",
              "    padding: 0;\n",
              "    width: 32px;\n",
              "  }\n",
              "\n",
              "  .colab-df-quickchart:hover {\n",
              "    background-color: var(--hover-bg-color);\n",
              "    box-shadow: 0 1px 2px rgba(60, 64, 67, 0.3), 0 1px 3px 1px rgba(60, 64, 67, 0.15);\n",
              "    fill: var(--button-hover-fill-color);\n",
              "  }\n",
              "\n",
              "  .colab-df-quickchart-complete:disabled,\n",
              "  .colab-df-quickchart-complete:disabled:hover {\n",
              "    background-color: var(--disabled-bg-color);\n",
              "    fill: var(--disabled-fill-color);\n",
              "    box-shadow: none;\n",
              "  }\n",
              "\n",
              "  .colab-df-spinner {\n",
              "    border: 2px solid var(--fill-color);\n",
              "    border-color: transparent;\n",
              "    border-bottom-color: var(--fill-color);\n",
              "    animation:\n",
              "      spin 1s steps(1) infinite;\n",
              "  }\n",
              "\n",
              "  @keyframes spin {\n",
              "    0% {\n",
              "      border-color: transparent;\n",
              "      border-bottom-color: var(--fill-color);\n",
              "      border-left-color: var(--fill-color);\n",
              "    }\n",
              "    20% {\n",
              "      border-color: transparent;\n",
              "      border-left-color: var(--fill-color);\n",
              "      border-top-color: var(--fill-color);\n",
              "    }\n",
              "    30% {\n",
              "      border-color: transparent;\n",
              "      border-left-color: var(--fill-color);\n",
              "      border-top-color: var(--fill-color);\n",
              "      border-right-color: var(--fill-color);\n",
              "    }\n",
              "    40% {\n",
              "      border-color: transparent;\n",
              "      border-right-color: var(--fill-color);\n",
              "      border-top-color: var(--fill-color);\n",
              "    }\n",
              "    60% {\n",
              "      border-color: transparent;\n",
              "      border-right-color: var(--fill-color);\n",
              "    }\n",
              "    80% {\n",
              "      border-color: transparent;\n",
              "      border-right-color: var(--fill-color);\n",
              "      border-bottom-color: var(--fill-color);\n",
              "    }\n",
              "    90% {\n",
              "      border-color: transparent;\n",
              "      border-bottom-color: var(--fill-color);\n",
              "    }\n",
              "  }\n",
              "</style>\n",
              "\n",
              "  <script>\n",
              "    async function quickchart(key) {\n",
              "      const quickchartButtonEl =\n",
              "        document.querySelector('#' + key + ' button');\n",
              "      quickchartButtonEl.disabled = true;  // To prevent multiple clicks.\n",
              "      quickchartButtonEl.classList.add('colab-df-spinner');\n",
              "      try {\n",
              "        const charts = await google.colab.kernel.invokeFunction(\n",
              "            'suggestCharts', [key], {});\n",
              "      } catch (error) {\n",
              "        console.error('Error during call to suggestCharts:', error);\n",
              "      }\n",
              "      quickchartButtonEl.classList.remove('colab-df-spinner');\n",
              "      quickchartButtonEl.classList.add('colab-df-quickchart-complete');\n",
              "    }\n",
              "    (() => {\n",
              "      let quickchartButtonEl =\n",
              "        document.querySelector('#df-d6fbb0ed-ebda-4518-a4a6-a2896badd18d button');\n",
              "      quickchartButtonEl.style.display =\n",
              "        google.colab.kernel.accessAllowed ? 'block' : 'none';\n",
              "    })();\n",
              "  </script>\n",
              "</div>\n",
              "    </div>\n",
              "  </div>\n"
            ]
          },
          "metadata": {},
          "execution_count": 131
        }
      ],
      "source": [
        "balanced_undersampled_df = pd.concat([defaulter_df, defaulter_df_sample], axis=0)\n",
        "print(balanced_undersampled_df.loan_default_status.value_counts())\n",
        "# Shuffling the data set\n",
        "from sklearn.utils import shuffle\n",
        "balanced_undersampled_df = shuffle(balanced_undersampled_df)\n",
        "balanced_undersampled_df.head()"
      ]
    },
    {
      "cell_type": "code",
      "execution_count": null,
      "metadata": {
        "colab": {
          "base_uri": "https://localhost:8080/",
          "height": 181
        },
        "id": "r0rhSAqIYaqY",
        "outputId": "8b54ca6d-c90b-42db-8008-1c5de1d5cfa5"
      },
      "outputs": [
        {
          "output_type": "execute_result",
          "data": {
            "text/plain": [
              "       loan_amount  funded_amount  funded_amount_investor      term  \\\n",
              "25348     0.193572       0.220448                     1.0  0.097099   \n",
              "39253     1.000000       0.256230                     1.0  0.097099   \n",
              "64258     0.256230       0.220448                     1.0  0.097099   \n",
              "\n",
              "       interest_rate     grade  sub_grade  home_ownership  annual_income  \\\n",
              "25348            1.0  0.095873   0.091887        0.101550            1.0   \n",
              "39253            1.0  0.091249   0.082523        0.088663            1.0   \n",
              "64258            1.0  0.093896   0.082523        0.088663            1.0   \n",
              "\n",
              "       loan_title  debit_to_income  delinquency_-_two_years  \\\n",
              "25348    0.089720              1.0                 0.091770   \n",
              "39253    0.089720              1.0                 0.091770   \n",
              "64258    0.094004              1.0                 0.093047   \n",
              "\n",
              "       inquires_-_six_months  open_account  public_record  \\\n",
              "25348               0.092567      0.093728       0.100167   \n",
              "39253               0.092567      0.094360       0.091823   \n",
              "64258               0.090172      0.085748       0.091823   \n",
              "\n",
              "       revolving_utilities  total_accounts  total_received_interest  \\\n",
              "25348                  1.0        0.090422                      1.0   \n",
              "39253                  1.0        0.093737                      1.0   \n",
              "64258                  1.0        0.095590                      1.0   \n",
              "\n",
              "       collection_12_months_medical  last_week_pay  total_collection_amount  \\\n",
              "25348                      0.092539       0.077657                 0.107065   \n",
              "39253                      0.092539       0.107376                 0.090661   \n",
              "64258                      0.091163       0.075118                 0.087358   \n",
              "\n",
              "       log_total_current_balance  log_total_revolving_credit_limit  \\\n",
              "25348                    1.00000                          0.220448   \n",
              "39253                    0.25623                          0.220448   \n",
              "64258                    1.00000                          0.397533   \n",
              "\n",
              "       log_revolving_balance  collection_recovery_fee_ind  \\\n",
              "25348               0.235914                     0.093841   \n",
              "39253               0.259613                     0.093841   \n",
              "64258               0.193572                     0.093841   \n",
              "\n",
              "       total_received_late_fee_ind  recoveries_ind  \n",
              "25348                     0.091897        0.092251  \n",
              "39253                     0.091897        0.094753  \n",
              "64258                     0.091897        0.092251  "
            ],
            "text/html": [
              "\n",
              "  <div id=\"df-ad0a702d-25fb-418b-9aac-171de4e32941\" class=\"colab-df-container\">\n",
              "    <div>\n",
              "<style scoped>\n",
              "    .dataframe tbody tr th:only-of-type {\n",
              "        vertical-align: middle;\n",
              "    }\n",
              "\n",
              "    .dataframe tbody tr th {\n",
              "        vertical-align: top;\n",
              "    }\n",
              "\n",
              "    .dataframe thead th {\n",
              "        text-align: right;\n",
              "    }\n",
              "</style>\n",
              "<table border=\"1\" class=\"dataframe\">\n",
              "  <thead>\n",
              "    <tr style=\"text-align: right;\">\n",
              "      <th></th>\n",
              "      <th>loan_amount</th>\n",
              "      <th>funded_amount</th>\n",
              "      <th>funded_amount_investor</th>\n",
              "      <th>term</th>\n",
              "      <th>interest_rate</th>\n",
              "      <th>grade</th>\n",
              "      <th>sub_grade</th>\n",
              "      <th>home_ownership</th>\n",
              "      <th>annual_income</th>\n",
              "      <th>loan_title</th>\n",
              "      <th>debit_to_income</th>\n",
              "      <th>delinquency_-_two_years</th>\n",
              "      <th>inquires_-_six_months</th>\n",
              "      <th>open_account</th>\n",
              "      <th>public_record</th>\n",
              "      <th>revolving_utilities</th>\n",
              "      <th>total_accounts</th>\n",
              "      <th>total_received_interest</th>\n",
              "      <th>collection_12_months_medical</th>\n",
              "      <th>last_week_pay</th>\n",
              "      <th>total_collection_amount</th>\n",
              "      <th>log_total_current_balance</th>\n",
              "      <th>log_total_revolving_credit_limit</th>\n",
              "      <th>log_revolving_balance</th>\n",
              "      <th>collection_recovery_fee_ind</th>\n",
              "      <th>total_received_late_fee_ind</th>\n",
              "      <th>recoveries_ind</th>\n",
              "    </tr>\n",
              "  </thead>\n",
              "  <tbody>\n",
              "    <tr>\n",
              "      <th>25348</th>\n",
              "      <td>0.193572</td>\n",
              "      <td>0.220448</td>\n",
              "      <td>1.0</td>\n",
              "      <td>0.097099</td>\n",
              "      <td>1.0</td>\n",
              "      <td>0.095873</td>\n",
              "      <td>0.091887</td>\n",
              "      <td>0.101550</td>\n",
              "      <td>1.0</td>\n",
              "      <td>0.089720</td>\n",
              "      <td>1.0</td>\n",
              "      <td>0.091770</td>\n",
              "      <td>0.092567</td>\n",
              "      <td>0.093728</td>\n",
              "      <td>0.100167</td>\n",
              "      <td>1.0</td>\n",
              "      <td>0.090422</td>\n",
              "      <td>1.0</td>\n",
              "      <td>0.092539</td>\n",
              "      <td>0.077657</td>\n",
              "      <td>0.107065</td>\n",
              "      <td>1.00000</td>\n",
              "      <td>0.220448</td>\n",
              "      <td>0.235914</td>\n",
              "      <td>0.093841</td>\n",
              "      <td>0.091897</td>\n",
              "      <td>0.092251</td>\n",
              "    </tr>\n",
              "    <tr>\n",
              "      <th>39253</th>\n",
              "      <td>1.000000</td>\n",
              "      <td>0.256230</td>\n",
              "      <td>1.0</td>\n",
              "      <td>0.097099</td>\n",
              "      <td>1.0</td>\n",
              "      <td>0.091249</td>\n",
              "      <td>0.082523</td>\n",
              "      <td>0.088663</td>\n",
              "      <td>1.0</td>\n",
              "      <td>0.089720</td>\n",
              "      <td>1.0</td>\n",
              "      <td>0.091770</td>\n",
              "      <td>0.092567</td>\n",
              "      <td>0.094360</td>\n",
              "      <td>0.091823</td>\n",
              "      <td>1.0</td>\n",
              "      <td>0.093737</td>\n",
              "      <td>1.0</td>\n",
              "      <td>0.092539</td>\n",
              "      <td>0.107376</td>\n",
              "      <td>0.090661</td>\n",
              "      <td>0.25623</td>\n",
              "      <td>0.220448</td>\n",
              "      <td>0.259613</td>\n",
              "      <td>0.093841</td>\n",
              "      <td>0.091897</td>\n",
              "      <td>0.094753</td>\n",
              "    </tr>\n",
              "    <tr>\n",
              "      <th>64258</th>\n",
              "      <td>0.256230</td>\n",
              "      <td>0.220448</td>\n",
              "      <td>1.0</td>\n",
              "      <td>0.097099</td>\n",
              "      <td>1.0</td>\n",
              "      <td>0.093896</td>\n",
              "      <td>0.082523</td>\n",
              "      <td>0.088663</td>\n",
              "      <td>1.0</td>\n",
              "      <td>0.094004</td>\n",
              "      <td>1.0</td>\n",
              "      <td>0.093047</td>\n",
              "      <td>0.090172</td>\n",
              "      <td>0.085748</td>\n",
              "      <td>0.091823</td>\n",
              "      <td>1.0</td>\n",
              "      <td>0.095590</td>\n",
              "      <td>1.0</td>\n",
              "      <td>0.091163</td>\n",
              "      <td>0.075118</td>\n",
              "      <td>0.087358</td>\n",
              "      <td>1.00000</td>\n",
              "      <td>0.397533</td>\n",
              "      <td>0.193572</td>\n",
              "      <td>0.093841</td>\n",
              "      <td>0.091897</td>\n",
              "      <td>0.092251</td>\n",
              "    </tr>\n",
              "  </tbody>\n",
              "</table>\n",
              "</div>\n",
              "    <div class=\"colab-df-buttons\">\n",
              "\n",
              "  <div class=\"colab-df-container\">\n",
              "    <button class=\"colab-df-convert\" onclick=\"convertToInteractive('df-ad0a702d-25fb-418b-9aac-171de4e32941')\"\n",
              "            title=\"Convert this dataframe to an interactive table.\"\n",
              "            style=\"display:none;\">\n",
              "\n",
              "  <svg xmlns=\"http://www.w3.org/2000/svg\" height=\"24px\" viewBox=\"0 -960 960 960\">\n",
              "    <path d=\"M120-120v-720h720v720H120Zm60-500h600v-160H180v160Zm220 220h160v-160H400v160Zm0 220h160v-160H400v160ZM180-400h160v-160H180v160Zm440 0h160v-160H620v160ZM180-180h160v-160H180v160Zm440 0h160v-160H620v160Z\"/>\n",
              "  </svg>\n",
              "    </button>\n",
              "\n",
              "  <style>\n",
              "    .colab-df-container {\n",
              "      display:flex;\n",
              "      gap: 12px;\n",
              "    }\n",
              "\n",
              "    .colab-df-convert {\n",
              "      background-color: #E8F0FE;\n",
              "      border: none;\n",
              "      border-radius: 50%;\n",
              "      cursor: pointer;\n",
              "      display: none;\n",
              "      fill: #1967D2;\n",
              "      height: 32px;\n",
              "      padding: 0 0 0 0;\n",
              "      width: 32px;\n",
              "    }\n",
              "\n",
              "    .colab-df-convert:hover {\n",
              "      background-color: #E2EBFA;\n",
              "      box-shadow: 0px 1px 2px rgba(60, 64, 67, 0.3), 0px 1px 3px 1px rgba(60, 64, 67, 0.15);\n",
              "      fill: #174EA6;\n",
              "    }\n",
              "\n",
              "    .colab-df-buttons div {\n",
              "      margin-bottom: 4px;\n",
              "    }\n",
              "\n",
              "    [theme=dark] .colab-df-convert {\n",
              "      background-color: #3B4455;\n",
              "      fill: #D2E3FC;\n",
              "    }\n",
              "\n",
              "    [theme=dark] .colab-df-convert:hover {\n",
              "      background-color: #434B5C;\n",
              "      box-shadow: 0px 1px 3px 1px rgba(0, 0, 0, 0.15);\n",
              "      filter: drop-shadow(0px 1px 2px rgba(0, 0, 0, 0.3));\n",
              "      fill: #FFFFFF;\n",
              "    }\n",
              "  </style>\n",
              "\n",
              "    <script>\n",
              "      const buttonEl =\n",
              "        document.querySelector('#df-ad0a702d-25fb-418b-9aac-171de4e32941 button.colab-df-convert');\n",
              "      buttonEl.style.display =\n",
              "        google.colab.kernel.accessAllowed ? 'block' : 'none';\n",
              "\n",
              "      async function convertToInteractive(key) {\n",
              "        const element = document.querySelector('#df-ad0a702d-25fb-418b-9aac-171de4e32941');\n",
              "        const dataTable =\n",
              "          await google.colab.kernel.invokeFunction('convertToInteractive',\n",
              "                                                    [key], {});\n",
              "        if (!dataTable) return;\n",
              "\n",
              "        const docLinkHtml = 'Like what you see? Visit the ' +\n",
              "          '<a target=\"_blank\" href=https://colab.research.google.com/notebooks/data_table.ipynb>data table notebook</a>'\n",
              "          + ' to learn more about interactive tables.';\n",
              "        element.innerHTML = '';\n",
              "        dataTable['output_type'] = 'display_data';\n",
              "        await google.colab.output.renderOutput(dataTable, element);\n",
              "        const docLink = document.createElement('div');\n",
              "        docLink.innerHTML = docLinkHtml;\n",
              "        element.appendChild(docLink);\n",
              "      }\n",
              "    </script>\n",
              "  </div>\n",
              "\n",
              "\n",
              "<div id=\"df-b5ef3038-778a-406f-9413-5e3e6ca9d02d\">\n",
              "  <button class=\"colab-df-quickchart\" onclick=\"quickchart('df-b5ef3038-778a-406f-9413-5e3e6ca9d02d')\"\n",
              "            title=\"Suggest charts.\"\n",
              "            style=\"display:none;\">\n",
              "\n",
              "<svg xmlns=\"http://www.w3.org/2000/svg\" height=\"24px\"viewBox=\"0 0 24 24\"\n",
              "     width=\"24px\">\n",
              "    <g>\n",
              "        <path d=\"M19 3H5c-1.1 0-2 .9-2 2v14c0 1.1.9 2 2 2h14c1.1 0 2-.9 2-2V5c0-1.1-.9-2-2-2zM9 17H7v-7h2v7zm4 0h-2V7h2v10zm4 0h-2v-4h2v4z\"/>\n",
              "    </g>\n",
              "</svg>\n",
              "  </button>\n",
              "\n",
              "<style>\n",
              "  .colab-df-quickchart {\n",
              "      --bg-color: #E8F0FE;\n",
              "      --fill-color: #1967D2;\n",
              "      --hover-bg-color: #E2EBFA;\n",
              "      --hover-fill-color: #174EA6;\n",
              "      --disabled-fill-color: #AAA;\n",
              "      --disabled-bg-color: #DDD;\n",
              "  }\n",
              "\n",
              "  [theme=dark] .colab-df-quickchart {\n",
              "      --bg-color: #3B4455;\n",
              "      --fill-color: #D2E3FC;\n",
              "      --hover-bg-color: #434B5C;\n",
              "      --hover-fill-color: #FFFFFF;\n",
              "      --disabled-bg-color: #3B4455;\n",
              "      --disabled-fill-color: #666;\n",
              "  }\n",
              "\n",
              "  .colab-df-quickchart {\n",
              "    background-color: var(--bg-color);\n",
              "    border: none;\n",
              "    border-radius: 50%;\n",
              "    cursor: pointer;\n",
              "    display: none;\n",
              "    fill: var(--fill-color);\n",
              "    height: 32px;\n",
              "    padding: 0;\n",
              "    width: 32px;\n",
              "  }\n",
              "\n",
              "  .colab-df-quickchart:hover {\n",
              "    background-color: var(--hover-bg-color);\n",
              "    box-shadow: 0 1px 2px rgba(60, 64, 67, 0.3), 0 1px 3px 1px rgba(60, 64, 67, 0.15);\n",
              "    fill: var(--button-hover-fill-color);\n",
              "  }\n",
              "\n",
              "  .colab-df-quickchart-complete:disabled,\n",
              "  .colab-df-quickchart-complete:disabled:hover {\n",
              "    background-color: var(--disabled-bg-color);\n",
              "    fill: var(--disabled-fill-color);\n",
              "    box-shadow: none;\n",
              "  }\n",
              "\n",
              "  .colab-df-spinner {\n",
              "    border: 2px solid var(--fill-color);\n",
              "    border-color: transparent;\n",
              "    border-bottom-color: var(--fill-color);\n",
              "    animation:\n",
              "      spin 1s steps(1) infinite;\n",
              "  }\n",
              "\n",
              "  @keyframes spin {\n",
              "    0% {\n",
              "      border-color: transparent;\n",
              "      border-bottom-color: var(--fill-color);\n",
              "      border-left-color: var(--fill-color);\n",
              "    }\n",
              "    20% {\n",
              "      border-color: transparent;\n",
              "      border-left-color: var(--fill-color);\n",
              "      border-top-color: var(--fill-color);\n",
              "    }\n",
              "    30% {\n",
              "      border-color: transparent;\n",
              "      border-left-color: var(--fill-color);\n",
              "      border-top-color: var(--fill-color);\n",
              "      border-right-color: var(--fill-color);\n",
              "    }\n",
              "    40% {\n",
              "      border-color: transparent;\n",
              "      border-right-color: var(--fill-color);\n",
              "      border-top-color: var(--fill-color);\n",
              "    }\n",
              "    60% {\n",
              "      border-color: transparent;\n",
              "      border-right-color: var(--fill-color);\n",
              "    }\n",
              "    80% {\n",
              "      border-color: transparent;\n",
              "      border-right-color: var(--fill-color);\n",
              "      border-bottom-color: var(--fill-color);\n",
              "    }\n",
              "    90% {\n",
              "      border-color: transparent;\n",
              "      border-bottom-color: var(--fill-color);\n",
              "    }\n",
              "  }\n",
              "</style>\n",
              "\n",
              "  <script>\n",
              "    async function quickchart(key) {\n",
              "      const quickchartButtonEl =\n",
              "        document.querySelector('#' + key + ' button');\n",
              "      quickchartButtonEl.disabled = true;  // To prevent multiple clicks.\n",
              "      quickchartButtonEl.classList.add('colab-df-spinner');\n",
              "      try {\n",
              "        const charts = await google.colab.kernel.invokeFunction(\n",
              "            'suggestCharts', [key], {});\n",
              "      } catch (error) {\n",
              "        console.error('Error during call to suggestCharts:', error);\n",
              "      }\n",
              "      quickchartButtonEl.classList.remove('colab-df-spinner');\n",
              "      quickchartButtonEl.classList.add('colab-df-quickchart-complete');\n",
              "    }\n",
              "    (() => {\n",
              "      let quickchartButtonEl =\n",
              "        document.querySelector('#df-b5ef3038-778a-406f-9413-5e3e6ca9d02d button');\n",
              "      quickchartButtonEl.style.display =\n",
              "        google.colab.kernel.accessAllowed ? 'block' : 'none';\n",
              "    })();\n",
              "  </script>\n",
              "</div>\n",
              "    </div>\n",
              "  </div>\n"
            ]
          },
          "metadata": {},
          "execution_count": 132
        }
      ],
      "source": [
        "# Making the new X_train and y_train\n",
        "X_trainNew = balanced_undersampled_df.iloc[:,0:len(balanced_undersampled_df.columns)-1]\n",
        "y_trainNew = balanced_undersampled_df.loan_default_status\n",
        "X_trainNew.head(3)"
      ]
    },
    {
      "cell_type": "code",
      "execution_count": null,
      "metadata": {
        "colab": {
          "base_uri": "https://localhost:8080/",
          "height": 93
        },
        "id": "f4qW-36UXJiN",
        "outputId": "7e2a1696-8339-475a-9b5f-f29afd830599"
      },
      "outputs": [
        {
          "output_type": "execute_result",
          "data": {
            "text/plain": [
              "LogisticRegression(random_state=42, solver='liblinear')"
            ],
            "text/html": [
              "<style>#sk-container-id-7 {color: black;}#sk-container-id-7 pre{padding: 0;}#sk-container-id-7 div.sk-toggleable {background-color: white;}#sk-container-id-7 label.sk-toggleable__label {cursor: pointer;display: block;width: 100%;margin-bottom: 0;padding: 0.3em;box-sizing: border-box;text-align: center;}#sk-container-id-7 label.sk-toggleable__label-arrow:before {content: \"▸\";float: left;margin-right: 0.25em;color: #696969;}#sk-container-id-7 label.sk-toggleable__label-arrow:hover:before {color: black;}#sk-container-id-7 div.sk-estimator:hover label.sk-toggleable__label-arrow:before {color: black;}#sk-container-id-7 div.sk-toggleable__content {max-height: 0;max-width: 0;overflow: hidden;text-align: left;background-color: #f0f8ff;}#sk-container-id-7 div.sk-toggleable__content pre {margin: 0.2em;color: black;border-radius: 0.25em;background-color: #f0f8ff;}#sk-container-id-7 input.sk-toggleable__control:checked~div.sk-toggleable__content {max-height: 200px;max-width: 100%;overflow: auto;}#sk-container-id-7 input.sk-toggleable__control:checked~label.sk-toggleable__label-arrow:before {content: \"▾\";}#sk-container-id-7 div.sk-estimator input.sk-toggleable__control:checked~label.sk-toggleable__label {background-color: #d4ebff;}#sk-container-id-7 div.sk-label input.sk-toggleable__control:checked~label.sk-toggleable__label {background-color: #d4ebff;}#sk-container-id-7 input.sk-hidden--visually {border: 0;clip: rect(1px 1px 1px 1px);clip: rect(1px, 1px, 1px, 1px);height: 1px;margin: -1px;overflow: hidden;padding: 0;position: absolute;width: 1px;}#sk-container-id-7 div.sk-estimator {font-family: monospace;background-color: #f0f8ff;border: 1px dotted black;border-radius: 0.25em;box-sizing: border-box;margin-bottom: 0.5em;}#sk-container-id-7 div.sk-estimator:hover {background-color: #d4ebff;}#sk-container-id-7 div.sk-parallel-item::after {content: \"\";width: 100%;border-bottom: 1px solid gray;flex-grow: 1;}#sk-container-id-7 div.sk-label:hover label.sk-toggleable__label {background-color: #d4ebff;}#sk-container-id-7 div.sk-serial::before {content: \"\";position: absolute;border-left: 1px solid gray;box-sizing: border-box;top: 0;bottom: 0;left: 50%;z-index: 0;}#sk-container-id-7 div.sk-serial {display: flex;flex-direction: column;align-items: center;background-color: white;padding-right: 0.2em;padding-left: 0.2em;position: relative;}#sk-container-id-7 div.sk-item {position: relative;z-index: 1;}#sk-container-id-7 div.sk-parallel {display: flex;align-items: stretch;justify-content: center;background-color: white;position: relative;}#sk-container-id-7 div.sk-item::before, #sk-container-id-7 div.sk-parallel-item::before {content: \"\";position: absolute;border-left: 1px solid gray;box-sizing: border-box;top: 0;bottom: 0;left: 50%;z-index: -1;}#sk-container-id-7 div.sk-parallel-item {display: flex;flex-direction: column;z-index: 1;position: relative;background-color: white;}#sk-container-id-7 div.sk-parallel-item:first-child::after {align-self: flex-end;width: 50%;}#sk-container-id-7 div.sk-parallel-item:last-child::after {align-self: flex-start;width: 50%;}#sk-container-id-7 div.sk-parallel-item:only-child::after {width: 0;}#sk-container-id-7 div.sk-dashed-wrapped {border: 1px dashed gray;margin: 0 0.4em 0.5em 0.4em;box-sizing: border-box;padding-bottom: 0.4em;background-color: white;}#sk-container-id-7 div.sk-label label {font-family: monospace;font-weight: bold;display: inline-block;line-height: 1.2em;}#sk-container-id-7 div.sk-label-container {text-align: center;}#sk-container-id-7 div.sk-container {/* jupyter's `normalize.less` sets `[hidden] { display: none; }` but bootstrap.min.css set `[hidden] { display: none !important; }` so we also need the `!important` here to be able to override the default hidden behavior on the sphinx rendered scikit-learn.org. See: https://github.com/scikit-learn/scikit-learn/issues/21755 */display: inline-block !important;position: relative;}#sk-container-id-7 div.sk-text-repr-fallback {display: none;}</style><div id=\"sk-container-id-7\" class=\"sk-top-container\"><div class=\"sk-text-repr-fallback\"><pre>LogisticRegression(random_state=42, solver=&#x27;liblinear&#x27;)</pre><b>In a Jupyter environment, please rerun this cell to show the HTML representation or trust the notebook. <br />On GitHub, the HTML representation is unable to render, please try loading this page with nbviewer.org.</b></div><div class=\"sk-container\" hidden><div class=\"sk-item\"><div class=\"sk-estimator sk-toggleable\"><input class=\"sk-toggleable__control sk-hidden--visually\" id=\"sk-estimator-id-7\" type=\"checkbox\" checked><label for=\"sk-estimator-id-7\" class=\"sk-toggleable__label sk-toggleable__label-arrow\">LogisticRegression</label><div class=\"sk-toggleable__content\"><pre>LogisticRegression(random_state=42, solver=&#x27;liblinear&#x27;)</pre></div></div></div></div></div>"
            ]
          },
          "metadata": {},
          "execution_count": 134
        },
        {
          "output_type": "stream",
          "name": "stdout",
          "text": [
            "Accuracy: 100.00\n"
          ]
        }
      ],
      "source": [
        "#Recheck Accuracy Score\n",
        "model_undersampled = LogisticRegression(solver='liblinear', random_state=42)\n",
        "model_undersampled.fit(X_trainNew, y_trainNew)\n",
        "# evaluate the model\n",
        "yhat = model_undersampled.predict(X_test)\n",
        "# evaluate predictions\n",
        "accuracy = accuracy_score(y_test, yhat)\n",
        "print('Accuracy: %.2f' % (accuracy*100))"
      ]
    },
    {
      "cell_type": "code",
      "execution_count": null,
      "metadata": {
        "colab": {
          "base_uri": "https://localhost:8080/",
          "height": 663
        },
        "id": "_eW9t4HIb4Lr",
        "outputId": "b763029f-6687-4e8a-f7be-eef437da4bb0"
      },
      "outputs": [
        {
          "output_type": "stream",
          "name": "stdout",
          "text": [
            "[[12245     0]\n",
            " [    0  1248]]\n"
          ]
        },
        {
          "output_type": "execute_result",
          "data": {
            "text/plain": [
              "<sklearn.metrics._plot.confusion_matrix.ConfusionMatrixDisplay at 0x7e3dc7252aa0>"
            ]
          },
          "metadata": {},
          "execution_count": 135
        },
        {
          "output_type": "display_data",
          "data": {
            "text/plain": [
              "<Figure size 640x480 with 2 Axes>"
            ],
            "image/png": "[encoded data removed]"
          },
          "metadata": {}
        },
        {
          "output_type": "stream",
          "name": "stdout",
          "text": [
            "              precision    recall  f1-score   support\n",
            "\n",
            "           0       1.00      1.00      1.00     12245\n",
            "           1       1.00      1.00      1.00      1248\n",
            "\n",
            "    accuracy                           1.00     13493\n",
            "   macro avg       1.00      1.00      1.00     13493\n",
            "weighted avg       1.00      1.00      1.00     13493\n",
            "\n"
          ]
        }
      ],
      "source": [
        "# Compute confusion matrix\n",
        "cm = confusion_matrix(y_test, yhat)\n",
        "print(cm)\n",
        "# Plot confusion matrix using ConfusionMatrixDisplay\n",
        "disp = ConfusionMatrixDisplay(confusion_matrix=cm)\n",
        "disp.plot()\n",
        "\n",
        "plt.show()\n",
        "print(classification_report(y_test, yhat))"
      ]
    },
    {
      "cell_type": "code",
      "execution_count": null,
      "metadata": {
        "colab": {
          "base_uri": "https://localhost:8080/"
        },
        "id": "Ek2FZJr6hEhy",
        "outputId": "0cf12220-79bd-4b10-9ac0-3cc45384c6ba"
      },
      "outputs": [
        {
          "output_type": "stream",
          "name": "stdout",
          "text": [
            "[0. 0. 1.] [0. 1. 1.] [inf  1.  0.]\n"
          ]
        }
      ],
      "source": [
        "fpr, tpr, thresholds = roc_curve(y_test, yhat)\n",
        "print(fpr, tpr, thresholds)"
      ]
    },
    {
      "cell_type": "code",
      "execution_count": null,
      "metadata": {
        "colab": {
          "base_uri": "https://localhost:8080/"
        },
        "id": "QJNemReOhNDX",
        "outputId": "0181e005-9822-49bb-eaed-f9dd8bc7b68a"
      },
      "outputs": [
        {
          "output_type": "execute_result",
          "data": {
            "text/plain": [
              "1.0"
            ]
          },
          "metadata": {},
          "execution_count": 137
        }
      ],
      "source": [
        "roc_auc = auc(fpr, tpr)\n",
        "roc_auc"
      ]
    },
    {
      "cell_type": "code",
      "execution_count": null,
      "metadata": {
        "colab": {
          "base_uri": "https://localhost:8080/",
          "height": 523
        },
        "id": "DqWz1GYghSHB",
        "outputId": "b1b3ee0a-ac2a-416f-9cf9-ff110093ddf0"
      },
      "outputs": [
        {
          "output_type": "execute_result",
          "data": {
            "text/plain": [
              "<Figure size 500x500 with 0 Axes>"
            ]
          },
          "metadata": {},
          "execution_count": 138
        },
        {
          "output_type": "execute_result",
          "data": {
            "text/plain": [
              "[<matplotlib.lines.Line2D at 0x7e3dc71f9d20>]"
            ]
          },
          "metadata": {},
          "execution_count": 138
        },
        {
          "output_type": "execute_result",
          "data": {
            "text/plain": [
              "[<matplotlib.lines.Line2D at 0x7e3dc71fa080>]"
            ]
          },
          "metadata": {},
          "execution_count": 138
        },
        {
          "output_type": "execute_result",
          "data": {
            "text/plain": [
              "(-0.02, 1.02)"
            ]
          },
          "metadata": {},
          "execution_count": 138
        },
        {
          "output_type": "execute_result",
          "data": {
            "text/plain": [
              "(-0.02, 1.02)"
            ]
          },
          "metadata": {},
          "execution_count": 138
        },
        {
          "output_type": "execute_result",
          "data": {
            "text/plain": [
              "Text(0.5, 0, 'False Positive Rate')"
            ]
          },
          "metadata": {},
          "execution_count": 138
        },
        {
          "output_type": "execute_result",
          "data": {
            "text/plain": [
              "Text(0, 0.5, 'True Positive Rate')"
            ]
          },
          "metadata": {},
          "execution_count": 138
        },
        {
          "output_type": "execute_result",
          "data": {
            "text/plain": [
              "Text(0.5, 1.0, 'ROC curve')"
            ]
          },
          "metadata": {},
          "execution_count": 138
        },
        {
          "output_type": "execute_result",
          "data": {
            "text/plain": [
              "<matplotlib.legend.Legend at 0x7e3dc70ce320>"
            ]
          },
          "metadata": {},
          "execution_count": 138
        },
        {
          "output_type": "display_data",
          "data": {
            "text/plain": [
              "<Figure size 500x500 with 1 Axes>"
            ],
            "image/png": "[encoded data removed]"
          },
          "metadata": {}
        }
      ],
      "source": [
        "#plot roc curve\n",
        "\n",
        "plt.figure(figsize=(5, 5))\n",
        "plt.plot(fpr, tpr, color='lightblue', lw=2, label='ROC curve (AUC = %0.2f)' % roc_auc)\n",
        "plt.plot([0, 1], [0, 1], color='red', lw=2, linestyle='dashed', alpha=0.5)\n",
        "\n",
        "plt.xlim([-0.02, 1.02])\n",
        "plt.ylim([-0.02, 1.02])\n",
        "plt.xlabel('False Positive Rate')\n",
        "plt.ylabel('True Positive Rate')\n",
        "\n",
        "plt.title('ROC curve')\n",
        "plt.legend(loc=\"lower right\")\n",
        "plt.show()"
      ]
    },
    {
      "cell_type": "markdown",
      "metadata": {
        "id": "ZP8WWwkHcnH3"
      },
      "source": [
        "# Oversample"
      ]
    },
    {
      "cell_type": "code",
      "execution_count": null,
      "metadata": {
        "id": "t9uj-uo-cpQ1",
        "colab": {
          "base_uri": "https://localhost:8080/"
        },
        "outputId": "36c55c33-57a8-44fb-b464-3c8e940bf1ee"
      },
      "outputs": [
        {
          "output_type": "stream",
          "name": "stdout",
          "text": [
            "Collecting smote-variants\n",
            "  Downloading smote_variants-0.7.3-py3-none-any.whl (416 kB)\n",
            "\u001b[?25l     \u001b[90m━━━━━━━━━━━━━━━━━━━━━━━━━━━━━━━━━━━━━━━━\u001b[0m \u001b[32m0.0/416.2 kB\u001b[0m \u001b[31m?\u001b[0m eta \u001b[36m-:--:--\u001b[0m\r\u001b[2K     \u001b[91m━━━━━━━━━━━━━\u001b[0m\u001b[91m╸\u001b[0m\u001b[90m━━━━━━━━━━━━━━━━━━━━━━━━━━\u001b[0m \u001b[32m143.4/416.2 kB\u001b[0m \u001b[31m4.1 MB/s\u001b[0m eta \u001b[36m0:00:01\u001b[0m\r\u001b[2K     \u001b[90m━━━━━━━━━━━━━━━━━━━━━━━━━━━━━━━━━━━━━━━━\u001b[0m \u001b[32m416.2/416.2 kB\u001b[0m \u001b[31m7.0 MB/s\u001b[0m eta \u001b[36m0:00:00\u001b[0m\n",
            "\u001b[?25hRequirement already satisfied: numpy in /usr/local/lib/python3.10/dist-packages (from smote-variants) (1.23.5)\n",
            "Requirement already satisfied: scipy in /usr/local/lib/python3.10/dist-packages (from smote-variants) (1.11.3)\n",
            "Requirement already satisfied: scikit-learn in /usr/local/lib/python3.10/dist-packages (from smote-variants) (1.3.1)\n",
            "Requirement already satisfied: joblib in /usr/local/lib/python3.10/dist-packages (from smote-variants) (1.3.2)\n",
            "Collecting minisom (from smote-variants)\n",
            "  Downloading MiniSom-2.3.1.tar.gz (10 kB)\n",
            "  Preparing metadata (setup.py) ... \u001b[?25l\u001b[?25hdone\n",
            "Collecting statistics (from smote-variants)\n",
            "  Downloading statistics-1.0.3.5.tar.gz (8.3 kB)\n",
            "  Preparing metadata (setup.py) ... \u001b[?25l\u001b[?25hdone\n",
            "Requirement already satisfied: tensorflow in /usr/local/lib/python3.10/dist-packages (from smote-variants) (2.12.0)\n",
            "Requirement already satisfied: keras in /usr/local/lib/python3.10/dist-packages (from smote-variants) (2.12.0)\n",
            "Requirement already satisfied: pandas in /usr/local/lib/python3.10/dist-packages (from smote-variants) (1.5.3)\n",
            "Requirement already satisfied: mkl in /usr/local/lib/python3.10/dist-packages (from smote-variants) (2023.2.0)\n",
            "Collecting metric-learn (from smote-variants)\n",
            "  Downloading metric_learn-0.7.0-py2.py3-none-any.whl (67 kB)\n",
            "\u001b[2K     \u001b[90m━━━━━━━━━━━━━━━━━━━━━━━━━━━━━━━━━━━━━━━━\u001b[0m \u001b[32m67.8/67.8 kB\u001b[0m \u001b[31m7.3 MB/s\u001b[0m eta \u001b[36m0:00:00\u001b[0m\n",
            "\u001b[?25hRequirement already satisfied: seaborn in /usr/local/lib/python3.10/dist-packages (from smote-variants) (0.12.2)\n",
            "Requirement already satisfied: threadpoolctl>=2.0.0 in /usr/local/lib/python3.10/dist-packages (from scikit-learn->smote-variants) (3.2.0)\n",
            "Requirement already satisfied: intel-openmp==2023.* in /usr/local/lib/python3.10/dist-packages (from mkl->smote-variants) (2023.2.0)\n",
            "Requirement already satisfied: tbb==2021.* in /usr/local/lib/python3.10/dist-packages (from mkl->smote-variants) (2021.10.0)\n",
            "Requirement already satisfied: python-dateutil>=2.8.1 in /usr/local/lib/python3.10/dist-packages (from pandas->smote-variants) (2.8.2)\n",
            "Requirement already satisfied: pytz>=2020.1 in /usr/local/lib/python3.10/dist-packages (from pandas->smote-variants) (2023.3.post1)\n",
            "Requirement already satisfied: matplotlib!=3.6.1,>=3.1 in /usr/local/lib/python3.10/dist-packages (from seaborn->smote-variants) (3.7.1)\n",
            "Requirement already satisfied: docutils>=0.3 in /usr/local/lib/python3.10/dist-packages (from statistics->smote-variants) (0.18.1)\n",
            "Requirement already satisfied: absl-py>=1.0.0 in /usr/local/lib/python3.10/dist-packages (from tensorflow->smote-variants) (1.4.0)\n",
            "Requirement already satisfied: astunparse>=1.6.0 in /usr/local/lib/python3.10/dist-packages (from tensorflow->smote-variants) (1.6.3)\n",
            "Requirement already satisfied: flatbuffers>=2.0 in /usr/local/lib/python3.10/dist-packages (from tensorflow->smote-variants) (23.5.26)\n",
            "Requirement already satisfied: gast<=0.4.0,>=0.2.1 in /usr/local/lib/python3.10/dist-packages (from tensorflow->smote-variants) (0.4.0)\n",
            "Requirement already satisfied: google-pasta>=0.1.1 in /usr/local/lib/python3.10/dist-packages (from tensorflow->smote-variants) (0.2.0)\n",
            "Requirement already satisfied: grpcio<2.0,>=1.24.3 in /usr/local/lib/python3.10/dist-packages (from tensorflow->smote-variants) (1.59.0)\n",
            "Requirement already satisfied: h5py>=2.9.0 in /usr/local/lib/python3.10/dist-packages (from tensorflow->smote-variants) (3.9.0)\n",
            "Requirement already satisfied: jax>=0.3.15 in /usr/local/lib/python3.10/dist-packages (from tensorflow->smote-variants) (0.3.25)\n",
            "Requirement already satisfied: libclang>=13.0.0 in /usr/local/lib/python3.10/dist-packages (from tensorflow->smote-variants) (16.0.6)\n",
            "Requirement already satisfied: opt-einsum>=2.3.2 in /usr/local/lib/python3.10/dist-packages (from tensorflow->smote-variants) (3.3.0)\n",
            "Requirement already satisfied: packaging in /usr/local/lib/python3.10/dist-packages (from tensorflow->smote-variants) (23.2)\n",
            "Requirement already satisfied: protobuf!=4.21.0,!=4.21.1,!=4.21.2,!=4.21.3,!=4.21.4,!=4.21.5,<5.0.0dev,>=3.20.3 in /usr/local/lib/python3.10/dist-packages (from tensorflow->smote-variants) (3.20.3)\n",
            "Requirement already satisfied: setuptools in /usr/local/lib/python3.10/dist-packages (from tensorflow->smote-variants) (67.7.2)\n",
            "Requirement already satisfied: six>=1.12.0 in /usr/local/lib/python3.10/dist-packages (from tensorflow->smote-variants) (1.16.0)\n",
            "Requirement already satisfied: tensorboard<2.13,>=2.12 in /usr/local/lib/python3.10/dist-packages (from tensorflow->smote-variants) (2.12.0)\n",
            "Requirement already satisfied: tensorflow-estimator<2.13,>=2.12.0 in /usr/local/lib/python3.10/dist-packages (from tensorflow->smote-variants) (2.12.0)\n",
            "Requirement already satisfied: termcolor>=1.1.0 in /usr/local/lib/python3.10/dist-packages (from tensorflow->smote-variants) (2.3.0)\n",
            "Requirement already satisfied: typing-extensions>=3.6.6 in /usr/local/lib/python3.10/dist-packages (from tensorflow->smote-variants) (4.5.0)\n",
            "Requirement already satisfied: wrapt<1.15,>=1.11.0 in /usr/local/lib/python3.10/dist-packages (from tensorflow->smote-variants) (1.14.1)\n",
            "Requirement already satisfied: tensorflow-io-gcs-filesystem>=0.23.1 in /usr/local/lib/python3.10/dist-packages (from tensorflow->smote-variants) (0.34.0)\n",
            "Requirement already satisfied: wheel<1.0,>=0.23.0 in /usr/local/lib/python3.10/dist-packages (from astunparse>=1.6.0->tensorflow->smote-variants) (0.41.2)\n",
            "Requirement already satisfied: contourpy>=1.0.1 in /usr/local/lib/python3.10/dist-packages (from matplotlib!=3.6.1,>=3.1->seaborn->smote-variants) (1.1.1)\n",
            "Requirement already satisfied: cycler>=0.10 in /usr/local/lib/python3.10/dist-packages (from matplotlib!=3.6.1,>=3.1->seaborn->smote-variants) (0.12.1)\n",
            "Requirement already satisfied: fonttools>=4.22.0 in /usr/local/lib/python3.10/dist-packages (from matplotlib!=3.6.1,>=3.1->seaborn->smote-variants) (4.43.1)\n",
            "Requirement already satisfied: kiwisolver>=1.0.1 in /usr/local/lib/python3.10/dist-packages (from matplotlib!=3.6.1,>=3.1->seaborn->smote-variants) (1.4.5)\n",
            "Requirement already satisfied: pillow>=6.2.0 in /usr/local/lib/python3.10/dist-packages (from matplotlib!=3.6.1,>=3.1->seaborn->smote-variants) (9.4.0)\n",
            "Requirement already satisfied: pyparsing>=2.3.1 in /usr/local/lib/python3.10/dist-packages (from matplotlib!=3.6.1,>=3.1->seaborn->smote-variants) (3.1.1)\n",
            "Requirement already satisfied: google-auth<3,>=1.6.3 in /usr/local/lib/python3.10/dist-packages (from tensorboard<2.13,>=2.12->tensorflow->smote-variants) (2.17.3)\n",
            "Requirement already satisfied: google-auth-oauthlib<0.5,>=0.4.1 in /usr/local/lib/python3.10/dist-packages (from tensorboard<2.13,>=2.12->tensorflow->smote-variants) (0.4.6)\n",
            "Requirement already satisfied: markdown>=2.6.8 in /usr/local/lib/python3.10/dist-packages (from tensorboard<2.13,>=2.12->tensorflow->smote-variants) (3.5)\n",
            "Requirement already satisfied: requests<3,>=2.21.0 in /usr/local/lib/python3.10/dist-packages (from tensorboard<2.13,>=2.12->tensorflow->smote-variants) (2.31.0)\n",
            "Requirement already satisfied: tensorboard-data-server<0.8.0,>=0.7.0 in /usr/local/lib/python3.10/dist-packages (from tensorboard<2.13,>=2.12->tensorflow->smote-variants) (0.7.1)\n",
            "Requirement already satisfied: tensorboard-plugin-wit>=1.6.0 in /usr/local/lib/python3.10/dist-packages (from tensorboard<2.13,>=2.12->tensorflow->smote-variants) (1.8.1)\n",
            "Requirement already satisfied: werkzeug>=1.0.1 in /usr/local/lib/python3.10/dist-packages (from tensorboard<2.13,>=2.12->tensorflow->smote-variants) (3.0.0)\n",
            "Requirement already satisfied: cachetools<6.0,>=2.0.0 in /usr/local/lib/python3.10/dist-packages (from google-auth<3,>=1.6.3->tensorboard<2.13,>=2.12->tensorflow->smote-variants) (5.3.1)\n",
            "Requirement already satisfied: pyasn1-modules>=0.2.1 in /usr/local/lib/python3.10/dist-packages (from google-auth<3,>=1.6.3->tensorboard<2.13,>=2.12->tensorflow->smote-variants) (0.3.0)\n",
            "Requirement already satisfied: rsa<5,>=3.1.4 in /usr/local/lib/python3.10/dist-packages (from google-auth<3,>=1.6.3->tensorboard<2.13,>=2.12->tensorflow->smote-variants) (4.9)\n",
            "Requirement already satisfied: requests-oauthlib>=0.7.0 in /usr/local/lib/python3.10/dist-packages (from google-auth-oauthlib<0.5,>=0.4.1->tensorboard<2.13,>=2.12->tensorflow->smote-variants) (1.3.1)\n",
            "Requirement already satisfied: charset-normalizer<4,>=2 in /usr/local/lib/python3.10/dist-packages (from requests<3,>=2.21.0->tensorboard<2.13,>=2.12->tensorflow->smote-variants) (3.3.0)\n",
            "Requirement already satisfied: idna<4,>=2.5 in /usr/local/lib/python3.10/dist-packages (from requests<3,>=2.21.0->tensorboard<2.13,>=2.12->tensorflow->smote-variants) (3.4)\n",
            "Requirement already satisfied: urllib3<3,>=1.21.1 in /usr/local/lib/python3.10/dist-packages (from requests<3,>=2.21.0->tensorboard<2.13,>=2.12->tensorflow->smote-variants) (2.0.7)\n",
            "Requirement already satisfied: certifi>=2017.4.17 in /usr/local/lib/python3.10/dist-packages (from requests<3,>=2.21.0->tensorboard<2.13,>=2.12->tensorflow->smote-variants) (2023.7.22)\n",
            "Requirement already satisfied: MarkupSafe>=2.1.1 in /usr/local/lib/python3.10/dist-packages (from werkzeug>=1.0.1->tensorboard<2.13,>=2.12->tensorflow->smote-variants) (2.1.3)\n",
            "Requirement already satisfied: pyasn1<0.6.0,>=0.4.6 in /usr/local/lib/python3.10/dist-packages (from pyasn1-modules>=0.2.1->google-auth<3,>=1.6.3->tensorboard<2.13,>=2.12->tensorflow->smote-variants) (0.5.0)\n",
            "Requirement already satisfied: oauthlib>=3.0.0 in /usr/local/lib/python3.10/dist-packages (from requests-oauthlib>=0.7.0->google-auth-oauthlib<0.5,>=0.4.1->tensorboard<2.13,>=2.12->tensorflow->smote-variants) (3.2.2)\n",
            "Building wheels for collected packages: minisom, statistics\n",
            "  Building wheel for minisom (setup.py) ... \u001b[?25l\u001b[?25hdone\n",
            "  Created wheel for minisom: filename=MiniSom-2.3.1-py3-none-any.whl size=10588 sha256=a943990c44fc260fc0f7a4bd01df16bf68d069ffc08a7d7d7b492eea9b1b272a\n",
            "  Stored in directory: /root/.cache/pip/wheels/c7/92/d2/33bbda5f86fd8830510b16aa98c8dd420129b5cb24248fd6db\n",
            "  Building wheel for statistics (setup.py) ... \u001b[?25l\u001b[?25hdone\n",
            "  Created wheel for statistics: filename=statistics-1.0.3.5-py3-none-any.whl size=7436 sha256=a0fdeaba720695efd16c4c60add7fdda2a49e82c3d8f8b2e736574acc7434531\n",
            "  Stored in directory: /root/.cache/pip/wheels/59/bd/aa/41ad56fbb723d36e457b5be74feb992cdac2855a6999ba34a1\n",
            "Successfully built minisom statistics\n",
            "Installing collected packages: minisom, statistics, metric-learn, smote-variants\n",
            "Successfully installed metric-learn-0.7.0 minisom-2.3.1 smote-variants-0.7.3 statistics-1.0.3.5\n"
          ]
        }
      ],
      "source": [
        "!pip install smote-variants"
      ]
    },
    {
      "cell_type": "code",
      "execution_count": null,
      "metadata": {
        "colab": {
          "base_uri": "https://localhost:8080/"
        },
        "id": "H0pYCmcedD3c",
        "outputId": "a16536b5-625b-45fe-c083-f5ea121ce5fb"
      },
      "outputs": [
        {
          "output_type": "stream",
          "name": "stdout",
          "text": [
            "Before OverSampling count of Defaulters: 4993\n",
            "Before OverSampling count of Non-Defaulters: 48977 \n",
            "\n"
          ]
        }
      ],
      "source": [
        "# Shape before oversampling\n",
        "print(\"Before OverSampling count of Defaulters: {}\".format(sum(y_train==1)))\n",
        "print(\"Before OverSampling count of Non-Defaulters: {} \\n\".format(sum(y_train==0)))"
      ]
    },
    {
      "cell_type": "code",
      "execution_count": null,
      "metadata": {
        "colab": {
          "base_uri": "https://localhost:8080/"
        },
        "id": "ZQjJOrs2dRzF",
        "outputId": "ea4c77a0-0985-4b92-a613-26c6c1bdbfcb"
      },
      "outputs": [
        {
          "output_type": "stream",
          "name": "stderr",
          "text": [
            "2023-10-20 15:32:22,073:INFO:SMOTE: Running sampling via ('SMOTE', \"{'proportion': 1.0, 'n_neighbors': 5, 'nn_params': {}, 'n_jobs': 1, 'ss_params': {'n_dim': 2, 'simplex_sampling': 'random', 'within_simplex_sampling': 'random', 'gaussian_component': {}}, 'random_state': None, 'class_name': 'SMOTE'}\")\n",
            "INFO:smote_variants:SMOTE: Running sampling via ('SMOTE', \"{'proportion': 1.0, 'n_neighbors': 5, 'nn_params': {}, 'n_jobs': 1, 'ss_params': {'n_dim': 2, 'simplex_sampling': 'random', 'within_simplex_sampling': 'random', 'gaussian_component': {}}, 'random_state': None, 'class_name': 'SMOTE'}\")\n",
            "2023-10-20 15:32:22,098:INFO:NearestNeighborsWithMetricTensor: NN fitting with metric minkowski\n",
            "INFO:smote_variants:NearestNeighborsWithMetricTensor: NN fitting with metric minkowski\n",
            "2023-10-20 15:32:22,108:INFO:NearestNeighborsWithMetricTensor: kneighbors query minkowski\n",
            "INFO:smote_variants:NearestNeighborsWithMetricTensor: kneighbors query minkowski\n",
            "2023-10-20 15:32:23,296:INFO:SMOTE: simplex sampling with n_dim 2\n",
            "INFO:smote_variants:SMOTE: simplex sampling with n_dim 2\n"
          ]
        }
      ],
      "source": [
        "import smote_variants as sv\n",
        "# Instantiating the SMOTE class\n",
        "oversampler= sv.SMOTE()\n",
        "# Creating new training set\n",
        "X_train_os, y_train_os = oversampler.sample(np.array(X_train), np.array(y_train))"
      ]
    },
    {
      "cell_type": "code",
      "execution_count": null,
      "metadata": {
        "colab": {
          "base_uri": "https://localhost:8080/"
        },
        "id": "9KGeZ2Hodb0g",
        "outputId": "cc9c67de-1587-4a7d-bab4-da88869f746b"
      },
      "outputs": [
        {
          "output_type": "stream",
          "name": "stdout",
          "text": [
            "After OverSampling, the shape of X_train: (97954, 27)\n",
            "After OverSampling, the shape of y_train: (97954,) \n",
            "\n",
            "After OverSampling, counts of Defaulters: 48977\n",
            "After OverSampling, counts of label Non-Defaulters: 48977\n"
          ]
        }
      ],
      "source": [
        "# Shape after oversampling\n",
        "print('After OverSampling, the shape of X_train: {}'.format(X_train_os.shape))\n",
        "print('After OverSampling, the shape of y_train: {} \\n'.format(y_train_os.shape))\n",
        "print(\"After OverSampling, counts of Defaulters: {}\".format(sum(y_train_os==1)))\n",
        "print(\"After OverSampling, counts of label Non-Defaulters: {}\".format(sum(y_train_os==0)))"
      ]
    },
    {
      "cell_type": "code",
      "execution_count": null,
      "metadata": {
        "colab": {
          "base_uri": "https://localhost:8080/",
          "height": 93
        },
        "id": "LYtvvW6Od816",
        "outputId": "506d3bc7-d784-467c-9c23-800e06b89b4a"
      },
      "outputs": [
        {
          "output_type": "execute_result",
          "data": {
            "text/plain": [
              "LogisticRegression(random_state=42, solver='liblinear')"
            ],
            "text/html": [
              "<style>#sk-container-id-8 {color: black;}#sk-container-id-8 pre{padding: 0;}#sk-container-id-8 div.sk-toggleable {background-color: white;}#sk-container-id-8 label.sk-toggleable__label {cursor: pointer;display: block;width: 100%;margin-bottom: 0;padding: 0.3em;box-sizing: border-box;text-align: center;}#sk-container-id-8 label.sk-toggleable__label-arrow:before {content: \"▸\";float: left;margin-right: 0.25em;color: #696969;}#sk-container-id-8 label.sk-toggleable__label-arrow:hover:before {color: black;}#sk-container-id-8 div.sk-estimator:hover label.sk-toggleable__label-arrow:before {color: black;}#sk-container-id-8 div.sk-toggleable__content {max-height: 0;max-width: 0;overflow: hidden;text-align: left;background-color: #f0f8ff;}#sk-container-id-8 div.sk-toggleable__content pre {margin: 0.2em;color: black;border-radius: 0.25em;background-color: #f0f8ff;}#sk-container-id-8 input.sk-toggleable__control:checked~div.sk-toggleable__content {max-height: 200px;max-width: 100%;overflow: auto;}#sk-container-id-8 input.sk-toggleable__control:checked~label.sk-toggleable__label-arrow:before {content: \"▾\";}#sk-container-id-8 div.sk-estimator input.sk-toggleable__control:checked~label.sk-toggleable__label {background-color: #d4ebff;}#sk-container-id-8 div.sk-label input.sk-toggleable__control:checked~label.sk-toggleable__label {background-color: #d4ebff;}#sk-container-id-8 input.sk-hidden--visually {border: 0;clip: rect(1px 1px 1px 1px);clip: rect(1px, 1px, 1px, 1px);height: 1px;margin: -1px;overflow: hidden;padding: 0;position: absolute;width: 1px;}#sk-container-id-8 div.sk-estimator {font-family: monospace;background-color: #f0f8ff;border: 1px dotted black;border-radius: 0.25em;box-sizing: border-box;margin-bottom: 0.5em;}#sk-container-id-8 div.sk-estimator:hover {background-color: #d4ebff;}#sk-container-id-8 div.sk-parallel-item::after {content: \"\";width: 100%;border-bottom: 1px solid gray;flex-grow: 1;}#sk-container-id-8 div.sk-label:hover label.sk-toggleable__label {background-color: #d4ebff;}#sk-container-id-8 div.sk-serial::before {content: \"\";position: absolute;border-left: 1px solid gray;box-sizing: border-box;top: 0;bottom: 0;left: 50%;z-index: 0;}#sk-container-id-8 div.sk-serial {display: flex;flex-direction: column;align-items: center;background-color: white;padding-right: 0.2em;padding-left: 0.2em;position: relative;}#sk-container-id-8 div.sk-item {position: relative;z-index: 1;}#sk-container-id-8 div.sk-parallel {display: flex;align-items: stretch;justify-content: center;background-color: white;position: relative;}#sk-container-id-8 div.sk-item::before, #sk-container-id-8 div.sk-parallel-item::before {content: \"\";position: absolute;border-left: 1px solid gray;box-sizing: border-box;top: 0;bottom: 0;left: 50%;z-index: -1;}#sk-container-id-8 div.sk-parallel-item {display: flex;flex-direction: column;z-index: 1;position: relative;background-color: white;}#sk-container-id-8 div.sk-parallel-item:first-child::after {align-self: flex-end;width: 50%;}#sk-container-id-8 div.sk-parallel-item:last-child::after {align-self: flex-start;width: 50%;}#sk-container-id-8 div.sk-parallel-item:only-child::after {width: 0;}#sk-container-id-8 div.sk-dashed-wrapped {border: 1px dashed gray;margin: 0 0.4em 0.5em 0.4em;box-sizing: border-box;padding-bottom: 0.4em;background-color: white;}#sk-container-id-8 div.sk-label label {font-family: monospace;font-weight: bold;display: inline-block;line-height: 1.2em;}#sk-container-id-8 div.sk-label-container {text-align: center;}#sk-container-id-8 div.sk-container {/* jupyter's `normalize.less` sets `[hidden] { display: none; }` but bootstrap.min.css set `[hidden] { display: none !important; }` so we also need the `!important` here to be able to override the default hidden behavior on the sphinx rendered scikit-learn.org. See: https://github.com/scikit-learn/scikit-learn/issues/21755 */display: inline-block !important;position: relative;}#sk-container-id-8 div.sk-text-repr-fallback {display: none;}</style><div id=\"sk-container-id-8\" class=\"sk-top-container\"><div class=\"sk-text-repr-fallback\"><pre>LogisticRegression(random_state=42, solver=&#x27;liblinear&#x27;)</pre><b>In a Jupyter environment, please rerun this cell to show the HTML representation or trust the notebook. <br />On GitHub, the HTML representation is unable to render, please try loading this page with nbviewer.org.</b></div><div class=\"sk-container\" hidden><div class=\"sk-item\"><div class=\"sk-estimator sk-toggleable\"><input class=\"sk-toggleable__control sk-hidden--visually\" id=\"sk-estimator-id-8\" type=\"checkbox\" checked><label for=\"sk-estimator-id-8\" class=\"sk-toggleable__label sk-toggleable__label-arrow\">LogisticRegression</label><div class=\"sk-toggleable__content\"><pre>LogisticRegression(random_state=42, solver=&#x27;liblinear&#x27;)</pre></div></div></div></div></div>"
            ]
          },
          "metadata": {},
          "execution_count": 143
        },
        {
          "output_type": "stream",
          "name": "stdout",
          "text": [
            "Accuracy: 100.00\n"
          ]
        }
      ],
      "source": [
        "#Recheck Accuracy Score\n",
        "model_oversampled = LogisticRegression(solver='liblinear', random_state=42)\n",
        "model_oversampled.fit(X_train_os, y_train_os)\n",
        "# evaluate the model\n",
        "yhat = model_oversampled.predict(X_test)\n",
        "# evaluate predictions\n",
        "accuracy = accuracy_score(y_test, yhat)\n",
        "print('Accuracy: %.2f' % (accuracy*100))"
      ]
    },
    {
      "cell_type": "code",
      "execution_count": null,
      "metadata": {
        "colab": {
          "base_uri": "https://localhost:8080/",
          "height": 663
        },
        "id": "E_TM1hboePDS",
        "outputId": "5849cba3-5ca5-4c05-9983-92d1efe16edb"
      },
      "outputs": [
        {
          "output_type": "stream",
          "name": "stdout",
          "text": [
            "[[12245     0]\n",
            " [    0  1248]]\n"
          ]
        },
        {
          "output_type": "execute_result",
          "data": {
            "text/plain": [
              "<sklearn.metrics._plot.confusion_matrix.ConfusionMatrixDisplay at 0x7e3dc70cc940>"
            ]
          },
          "metadata": {},
          "execution_count": 144
        },
        {
          "output_type": "display_data",
          "data": {
            "text/plain": [
              "<Figure size 640x480 with 2 Axes>"
            ],
            "image/png": "[encoded data removed]"
          },
          "metadata": {}
        },
        {
          "output_type": "stream",
          "name": "stdout",
          "text": [
            "              precision    recall  f1-score   support\n",
            "\n",
            "           0       1.00      1.00      1.00     12245\n",
            "           1       1.00      1.00      1.00      1248\n",
            "\n",
            "    accuracy                           1.00     13493\n",
            "   macro avg       1.00      1.00      1.00     13493\n",
            "weighted avg       1.00      1.00      1.00     13493\n",
            "\n"
          ]
        }
      ],
      "source": [
        "# Compute confusion matrix\n",
        "cm = confusion_matrix(y_test, yhat)\n",
        "print(cm)\n",
        "# Plot confusion matrix using ConfusionMatrixDisplay\n",
        "disp = ConfusionMatrixDisplay(confusion_matrix=cm)\n",
        "disp.plot()\n",
        "\n",
        "plt.show()\n",
        "print(classification_report(y_test, yhat))"
      ]
    },
    {
      "cell_type": "code",
      "execution_count": null,
      "metadata": {
        "colab": {
          "base_uri": "https://localhost:8080/"
        },
        "id": "DGPHtX85hZ3Y",
        "outputId": "0e969691-e7be-4492-afad-77e138f3ab67"
      },
      "outputs": [
        {
          "output_type": "stream",
          "name": "stdout",
          "text": [
            "[0. 0. 1.] [0. 1. 1.] [inf  1.  0.]\n"
          ]
        }
      ],
      "source": [
        "fpr, tpr, thresholds = roc_curve(y_test, yhat)\n",
        "print(fpr, tpr, thresholds)"
      ]
    },
    {
      "cell_type": "code",
      "execution_count": null,
      "metadata": {
        "colab": {
          "base_uri": "https://localhost:8080/"
        },
        "id": "CTATP3VYheCS",
        "outputId": "e83d8b20-2045-4ce2-9950-b468f4a94b0c"
      },
      "outputs": [
        {
          "data": {
            "text/plain": [
              "0.5237017814689968"
            ]
          },
          "execution_count": 221,
          "metadata": {},
          "output_type": "execute_result"
        }
      ],
      "source": [
        "roc_auc = auc(fpr, tpr)\n",
        "roc_auc"
      ]
    },
    {
      "cell_type": "code",
      "execution_count": null,
      "metadata": {
        "colab": {
          "base_uri": "https://localhost:8080/",
          "height": 523
        },
        "id": "LvEDFa7ChijY",
        "outputId": "88a24547-5d37-429c-8f13-803f1a781ef7"
      },
      "outputs": [
        {
          "output_type": "execute_result",
          "data": {
            "text/plain": [
              "<Figure size 500x500 with 0 Axes>"
            ]
          },
          "metadata": {},
          "execution_count": 146
        },
        {
          "output_type": "execute_result",
          "data": {
            "text/plain": [
              "[<matplotlib.lines.Line2D at 0x7e3da765f430>]"
            ]
          },
          "metadata": {},
          "execution_count": 146
        },
        {
          "output_type": "execute_result",
          "data": {
            "text/plain": [
              "[<matplotlib.lines.Line2D at 0x7e3da765f5b0>]"
            ]
          },
          "metadata": {},
          "execution_count": 146
        },
        {
          "output_type": "execute_result",
          "data": {
            "text/plain": [
              "(-0.02, 1.02)"
            ]
          },
          "metadata": {},
          "execution_count": 146
        },
        {
          "output_type": "execute_result",
          "data": {
            "text/plain": [
              "(-0.02, 1.02)"
            ]
          },
          "metadata": {},
          "execution_count": 146
        },
        {
          "output_type": "execute_result",
          "data": {
            "text/plain": [
              "Text(0.5, 0, 'False Positive Rate')"
            ]
          },
          "metadata": {},
          "execution_count": 146
        },
        {
          "output_type": "execute_result",
          "data": {
            "text/plain": [
              "Text(0, 0.5, 'True Positive Rate')"
            ]
          },
          "metadata": {},
          "execution_count": 146
        },
        {
          "output_type": "execute_result",
          "data": {
            "text/plain": [
              "Text(0.5, 1.0, 'ROC curve')"
            ]
          },
          "metadata": {},
          "execution_count": 146
        },
        {
          "output_type": "execute_result",
          "data": {
            "text/plain": [
              "<matplotlib.legend.Legend at 0x7e3da763a4d0>"
            ]
          },
          "metadata": {},
          "execution_count": 146
        },
        {
          "output_type": "display_data",
          "data": {
            "text/plain": [
              "<Figure size 500x500 with 1 Axes>"
            ],
            "image/png": "[encoded data removed]"
          },
          "metadata": {}
        }
      ],
      "source": [
        "#plot roc curve\n",
        "\n",
        "plt.figure(figsize=(5, 5))\n",
        "plt.plot(fpr, tpr, color='lightblue', lw=2, label='ROC curve (AUC = %0.2f)' % roc_auc)\n",
        "plt.plot([0, 1], [0, 1], color='red', lw=2, linestyle='dashed', alpha=0.5)\n",
        "\n",
        "plt.xlim([-0.02, 1.02])\n",
        "plt.ylim([-0.02, 1.02])\n",
        "plt.xlabel('False Positive Rate')\n",
        "plt.ylabel('True Positive Rate')\n",
        "\n",
        "plt.title('ROC curve')\n",
        "plt.legend(loc=\"lower right\")\n",
        "plt.show()"
      ]
    },
    {
      "cell_type": "code",
      "execution_count": null,
      "metadata": {
        "colab": {
          "base_uri": "https://localhost:8080/",
          "height": 955
        },
        "id": "TwiLFbMmgpvg",
        "outputId": "82e3b74e-d575-4b19-deec-2e30e98b87e6"
      },
      "outputs": [
        {
          "output_type": "stream",
          "name": "stderr",
          "text": [
            "2023-10-20 15:32:59,980:INFO:MSMOTE: Running sampling via ('MSMOTE', \"{'proportion': 1.0, 'n_neighbors': 5, 'nn_params': {}, 'n_jobs': 1, 'random_state': None, 'class_name': 'MSMOTE'}\")\n",
            "INFO:smote_variants:MSMOTE: Running sampling via ('MSMOTE', \"{'proportion': 1.0, 'n_neighbors': 5, 'nn_params': {}, 'n_jobs': 1, 'random_state': None, 'class_name': 'MSMOTE'}\")\n",
            "2023-10-20 15:33:00,000:INFO:NearestNeighborsWithMetricTensor: NN fitting with metric minkowski\n",
            "INFO:smote_variants:NearestNeighborsWithMetricTensor: NN fitting with metric minkowski\n",
            "2023-10-20 15:33:00,015:INFO:NearestNeighborsWithMetricTensor: kneighbors query minkowski\n",
            "INFO:smote_variants:NearestNeighborsWithMetricTensor: kneighbors query minkowski\n"
          ]
        },
        {
          "output_type": "stream",
          "name": "stdout",
          "text": [
            "After OverSampling, the shape of X_train: (97954, 27)\n",
            "After OverSampling, the shape of y_train: (97954,) \n",
            "\n",
            "After OverSampling, counts of Defaulters: 48977\n",
            "After OverSampling, counts of label Non-Defaulters: 48977\n"
          ]
        },
        {
          "output_type": "execute_result",
          "data": {
            "text/plain": [
              "LogisticRegression(random_state=12, solver='liblinear')"
            ],
            "text/html": [
              "<style>#sk-container-id-9 {color: black;}#sk-container-id-9 pre{padding: 0;}#sk-container-id-9 div.sk-toggleable {background-color: white;}#sk-container-id-9 label.sk-toggleable__label {cursor: pointer;display: block;width: 100%;margin-bottom: 0;padding: 0.3em;box-sizing: border-box;text-align: center;}#sk-container-id-9 label.sk-toggleable__label-arrow:before {content: \"▸\";float: left;margin-right: 0.25em;color: #696969;}#sk-container-id-9 label.sk-toggleable__label-arrow:hover:before {color: black;}#sk-container-id-9 div.sk-estimator:hover label.sk-toggleable__label-arrow:before {color: black;}#sk-container-id-9 div.sk-toggleable__content {max-height: 0;max-width: 0;overflow: hidden;text-align: left;background-color: #f0f8ff;}#sk-container-id-9 div.sk-toggleable__content pre {margin: 0.2em;color: black;border-radius: 0.25em;background-color: #f0f8ff;}#sk-container-id-9 input.sk-toggleable__control:checked~div.sk-toggleable__content {max-height: 200px;max-width: 100%;overflow: auto;}#sk-container-id-9 input.sk-toggleable__control:checked~label.sk-toggleable__label-arrow:before {content: \"▾\";}#sk-container-id-9 div.sk-estimator input.sk-toggleable__control:checked~label.sk-toggleable__label {background-color: #d4ebff;}#sk-container-id-9 div.sk-label input.sk-toggleable__control:checked~label.sk-toggleable__label {background-color: #d4ebff;}#sk-container-id-9 input.sk-hidden--visually {border: 0;clip: rect(1px 1px 1px 1px);clip: rect(1px, 1px, 1px, 1px);height: 1px;margin: -1px;overflow: hidden;padding: 0;position: absolute;width: 1px;}#sk-container-id-9 div.sk-estimator {font-family: monospace;background-color: #f0f8ff;border: 1px dotted black;border-radius: 0.25em;box-sizing: border-box;margin-bottom: 0.5em;}#sk-container-id-9 div.sk-estimator:hover {background-color: #d4ebff;}#sk-container-id-9 div.sk-parallel-item::after {content: \"\";width: 100%;border-bottom: 1px solid gray;flex-grow: 1;}#sk-container-id-9 div.sk-label:hover label.sk-toggleable__label {background-color: #d4ebff;}#sk-container-id-9 div.sk-serial::before {content: \"\";position: absolute;border-left: 1px solid gray;box-sizing: border-box;top: 0;bottom: 0;left: 50%;z-index: 0;}#sk-container-id-9 div.sk-serial {display: flex;flex-direction: column;align-items: center;background-color: white;padding-right: 0.2em;padding-left: 0.2em;position: relative;}#sk-container-id-9 div.sk-item {position: relative;z-index: 1;}#sk-container-id-9 div.sk-parallel {display: flex;align-items: stretch;justify-content: center;background-color: white;position: relative;}#sk-container-id-9 div.sk-item::before, #sk-container-id-9 div.sk-parallel-item::before {content: \"\";position: absolute;border-left: 1px solid gray;box-sizing: border-box;top: 0;bottom: 0;left: 50%;z-index: -1;}#sk-container-id-9 div.sk-parallel-item {display: flex;flex-direction: column;z-index: 1;position: relative;background-color: white;}#sk-container-id-9 div.sk-parallel-item:first-child::after {align-self: flex-end;width: 50%;}#sk-container-id-9 div.sk-parallel-item:last-child::after {align-self: flex-start;width: 50%;}#sk-container-id-9 div.sk-parallel-item:only-child::after {width: 0;}#sk-container-id-9 div.sk-dashed-wrapped {border: 1px dashed gray;margin: 0 0.4em 0.5em 0.4em;box-sizing: border-box;padding-bottom: 0.4em;background-color: white;}#sk-container-id-9 div.sk-label label {font-family: monospace;font-weight: bold;display: inline-block;line-height: 1.2em;}#sk-container-id-9 div.sk-label-container {text-align: center;}#sk-container-id-9 div.sk-container {/* jupyter's `normalize.less` sets `[hidden] { display: none; }` but bootstrap.min.css set `[hidden] { display: none !important; }` so we also need the `!important` here to be able to override the default hidden behavior on the sphinx rendered scikit-learn.org. See: https://github.com/scikit-learn/scikit-learn/issues/21755 */display: inline-block !important;position: relative;}#sk-container-id-9 div.sk-text-repr-fallback {display: none;}</style><div id=\"sk-container-id-9\" class=\"sk-top-container\"><div class=\"sk-text-repr-fallback\"><pre>LogisticRegression(random_state=12, solver=&#x27;liblinear&#x27;)</pre><b>In a Jupyter environment, please rerun this cell to show the HTML representation or trust the notebook. <br />On GitHub, the HTML representation is unable to render, please try loading this page with nbviewer.org.</b></div><div class=\"sk-container\" hidden><div class=\"sk-item\"><div class=\"sk-estimator sk-toggleable\"><input class=\"sk-toggleable__control sk-hidden--visually\" id=\"sk-estimator-id-9\" type=\"checkbox\" checked><label for=\"sk-estimator-id-9\" class=\"sk-toggleable__label sk-toggleable__label-arrow\">LogisticRegression</label><div class=\"sk-toggleable__content\"><pre>LogisticRegression(random_state=12, solver=&#x27;liblinear&#x27;)</pre></div></div></div></div></div>"
            ]
          },
          "metadata": {},
          "execution_count": 147
        },
        {
          "output_type": "stream",
          "name": "stdout",
          "text": [
            "Accuracy: 100.00\n",
            "[[12245     0]\n",
            " [    0  1248]]\n"
          ]
        },
        {
          "output_type": "execute_result",
          "data": {
            "text/plain": [
              "<sklearn.metrics._plot.confusion_matrix.ConfusionMatrixDisplay at 0x7e3da76947c0>"
            ]
          },
          "metadata": {},
          "execution_count": 147
        },
        {
          "output_type": "display_data",
          "data": {
            "text/plain": [
              "<Figure size 640x480 with 2 Axes>"
            ],
            "image/png": "[encoded data removed]"
          },
          "metadata": {}
        },
        {
          "output_type": "stream",
          "name": "stdout",
          "text": [
            "              precision    recall  f1-score   support\n",
            "\n",
            "           0       1.00      1.00      1.00     12245\n",
            "           1       1.00      1.00      1.00      1248\n",
            "\n",
            "    accuracy                           1.00     13493\n",
            "   macro avg       1.00      1.00      1.00     13493\n",
            "weighted avg       1.00      1.00      1.00     13493\n",
            "\n"
          ]
        }
      ],
      "source": [
        "# Instantiating the MSMOTE class\n",
        "oversampler= sv.MSMOTE()\n",
        "\n",
        "# Creating new training set\n",
        "X_train_os, y_train_os = oversampler.sample(np.array(X_train), np.array(y_train))\n",
        "# Shape after oversampling\n",
        "print('After OverSampling, the shape of X_train: {}'.format(X_train_os.shape))\n",
        "print('After OverSampling, the shape of y_train: {} \\n'.format(y_train_os.shape))\n",
        "print(\"After OverSampling, counts of Defaulters: {}\".format(sum(y_train_os==1)))\n",
        "print(\"After OverSampling, counts of label Non-Defaulters: {}\".format(sum(y_train_os==0)))\n",
        "\n",
        "#Recheck Accuracy Score\n",
        "model_oversampled = LogisticRegression(solver='liblinear', random_state=12)\n",
        "model_oversampled.fit(X_train_os, y_train_os)\n",
        "# evaluate the model\n",
        "yhat = model_oversampled.predict(X_test)\n",
        "# evaluate predictions\n",
        "accuracy = accuracy_score(y_test, yhat)\n",
        "print('Accuracy: %.2f' % (accuracy*100))\n",
        "\n",
        "# Compute confusion matrix\n",
        "cm = confusion_matrix(y_test, yhat)\n",
        "print(cm)\n",
        "# Plot confusion matrix using ConfusionMatrixDisplay\n",
        "disp = ConfusionMatrixDisplay(confusion_matrix=cm)\n",
        "disp.plot()\n",
        "\n",
        "plt.show()\n",
        "print(classification_report(y_test, yhat))"
      ]
    },
    {
      "cell_type": "code",
      "execution_count": null,
      "metadata": {
        "colab": {
          "base_uri": "https://localhost:8080/"
        },
        "id": "OsILQxWDkaQ5",
        "outputId": "a4113431-b138-404e-8fd8-32b24e8a0a6e"
      },
      "outputs": [
        {
          "output_type": "execute_result",
          "data": {
            "text/plain": [
              "1.0"
            ]
          },
          "metadata": {},
          "execution_count": 148
        }
      ],
      "source": [
        "roc_auc = auc(fpr, tpr)\n",
        "roc_auc"
      ]
    },
    {
      "cell_type": "code",
      "execution_count": null,
      "metadata": {
        "colab": {
          "base_uri": "https://localhost:8080/",
          "height": 523
        },
        "id": "b5PRLU2Ikd5X",
        "outputId": "e18220d1-bd51-447e-e0d9-5985ec4868ed"
      },
      "outputs": [
        {
          "output_type": "execute_result",
          "data": {
            "text/plain": [
              "<Figure size 500x500 with 0 Axes>"
            ]
          },
          "metadata": {},
          "execution_count": 149
        },
        {
          "output_type": "execute_result",
          "data": {
            "text/plain": [
              "[<matplotlib.lines.Line2D at 0x7e3dc72aee00>]"
            ]
          },
          "metadata": {},
          "execution_count": 149
        },
        {
          "output_type": "execute_result",
          "data": {
            "text/plain": [
              "[<matplotlib.lines.Line2D at 0x7e3dc72acf10>]"
            ]
          },
          "metadata": {},
          "execution_count": 149
        },
        {
          "output_type": "execute_result",
          "data": {
            "text/plain": [
              "(-0.02, 1.02)"
            ]
          },
          "metadata": {},
          "execution_count": 149
        },
        {
          "output_type": "execute_result",
          "data": {
            "text/plain": [
              "(-0.02, 1.02)"
            ]
          },
          "metadata": {},
          "execution_count": 149
        },
        {
          "output_type": "execute_result",
          "data": {
            "text/plain": [
              "Text(0.5, 0, 'False Positive Rate')"
            ]
          },
          "metadata": {},
          "execution_count": 149
        },
        {
          "output_type": "execute_result",
          "data": {
            "text/plain": [
              "Text(0, 0.5, 'True Positive Rate')"
            ]
          },
          "metadata": {},
          "execution_count": 149
        },
        {
          "output_type": "execute_result",
          "data": {
            "text/plain": [
              "Text(0.5, 1.0, 'ROC curve')"
            ]
          },
          "metadata": {},
          "execution_count": 149
        },
        {
          "output_type": "execute_result",
          "data": {
            "text/plain": [
              "<matplotlib.legend.Legend at 0x7e3dc7360c70>"
            ]
          },
          "metadata": {},
          "execution_count": 149
        },
        {
          "output_type": "display_data",
          "data": {
            "text/plain": [
              "<Figure size 500x500 with 1 Axes>"
            ],
            "image/png": "[encoded data removed]"
          },
          "metadata": {}
        }
      ],
      "source": [
        "#plot roc curve\n",
        "\n",
        "plt.figure(figsize=(5, 5))\n",
        "plt.plot(fpr, tpr, color='lightblue', lw=2, label='ROC curve (AUC = %0.2f)' % roc_auc)\n",
        "plt.plot([0, 1], [0, 1], color='red', lw=2, linestyle='dashed', alpha=0.5)\n",
        "\n",
        "plt.xlim([-0.02, 1.02])\n",
        "plt.ylim([-0.02, 1.02])\n",
        "plt.xlabel('False Positive Rate')\n",
        "plt.ylabel('True Positive Rate')\n",
        "\n",
        "plt.title('ROC curve')\n",
        "plt.legend(loc=\"lower right\")\n",
        "plt.show()"
      ]
    },
    {
      "cell_type": "markdown",
      "metadata": {
        "id": "zk1svdoIrhkD"
      },
      "source": [
        "# Test Logistic Regression using DictVectorizer Input"
      ]
    },
    {
      "cell_type": "code",
      "execution_count": null,
      "metadata": {
        "id": "oqvfsqyBn5Ju"
      },
      "outputs": [],
      "source": [
        "\n",
        "# split into train and test sets\n",
        "df_X_train_test = df.drop(columns='loan_default_status', axis=1).to_dict(orient='records')\n",
        "\n",
        "#DictVectorizer can be used in Neural Networks\n",
        "dv = DictVectorizer(sparse=False)\n",
        "dv.fit(df_X_train_test)\n",
        "X = dv.transform(df_X_train_test)\n",
        "\n",
        "X_train_dv, X_test_dv, y_train_dv, y_test_dv = train_test_split(X, df.loan_default_status, test_size=0.20, random_state=10)\n",
        "model = LogisticRegression(solver='liblinear', random_state=12)\n",
        "model.fit(X_train_dv, y_train_dv)\n",
        "# evaluate the model\n",
        "y_pred = model.predict(X_test_dv)\n",
        "# evaluate predictions\n",
        "accuracy = accuracy_score(y_test_dv, y_pred)\n",
        "print('Accuracy: %.2f' % (accuracy*100))\n"
      ]
    },
    {
      "cell_type": "code",
      "execution_count": null,
      "metadata": {
        "id": "Q9Z-yFwfo3TI"
      },
      "outputs": [],
      "source": [
        "#Test Input\n",
        "customer={'loan_amount': 458929,\n",
        " 'funded_amount': 89564,\n",
        " 'funded_amount_investor': 250000,\n",
        " 'term': 120,\n",
        " 'batch_enrolled': 'bat2522922',\n",
        " 'interest_rate': 8.75,\n",
        " 'grade': 'Z',\n",
        " 'sub_grade': 'Z4',\n",
        " 'home_ownership': 'own',\n",
        " 'annual_income': 190000,\n",
        " 'loan_title': 'debt_consolidation',\n",
        " 'debit_to_income': 12.84758,\n",
        " 'delinquency_-_two_years': 10,\n",
        " 'inquires_-_six_months': 10,\n",
        " 'open_account': 3,\n",
        " 'public_record': 0,\n",
        " 'revolving_balance': 0,\n",
        " 'revolving_utilities': 99.74,\n",
        " 'total_accounts': 17,\n",
        " 'total_received_interest': 1500,\n",
        " 'total_received_late_fee': 5,\n",
        " 'recoveries': 4,\n",
        " 'collection_recovery_fee': 0,\n",
        " 'collection_12_months_medical': 0,\n",
        " 'last_week_pay': 24,\n",
        " 'total_collection_amount': 0,\n",
        " 'total_current_balance': -237847,\n",
        " 'total_revolving_credit_limit': -3458.0}\n",
        "\n",
        "X_test_inp = dv.transform([customer])\n",
        "#model.predict_proba(X_test)[0,1]\n",
        "# evaluate the model\n",
        "ypred = model.predict(X_test_inp)\n",
        "# evaluate predictions\n",
        "accuracy = accuracy_score(y_test_dv, y_pred)\n",
        "print('Accuracy: %.2f' % (accuracy*100))"
      ]
    },
    {
      "cell_type": "markdown",
      "metadata": {
        "id": "MBOU9VqcZHXc"
      },
      "source": [
        "# Neural Network Model"
      ]
    },
    {
      "cell_type": "code",
      "execution_count": null,
      "metadata": {
        "id": "KnniGO6AZM7M"
      },
      "outputs": [],
      "source": [
        "#using Dict Vectorizer\n",
        "# split into train and test sets\n",
        "df_X_train_test = df.drop(columns='loan_default_status', axis=1).to_dict(orient='records')\n",
        "\n",
        "#DictVectorizer can be used in Neural Networks\n",
        "dv = DictVectorizer(sparse=False)\n",
        "dv.fit(df_X_train_test)\n",
        "dv.feature_names_\n",
        "X = dv.transform(df_X_train_test)"
      ]
    },
    {
      "cell_type": "code",
      "source": [
        "df_mr.info()"
      ],
      "metadata": {
        "colab": {
          "base_uri": "https://localhost:8080/"
        },
        "id": "uYKXlnWfzmzp",
        "outputId": "0b515499-136a-4f7a-8250-af5a7cf4557c"
      },
      "execution_count": 225,
      "outputs": [
        {
          "output_type": "stream",
          "name": "stdout",
          "text": [
            "<class 'pandas.core.frame.DataFrame'>\n",
            "RangeIndex: 67463 entries, 0 to 67462\n",
            "Data columns (total 28 columns):\n",
            " #   Column                            Non-Null Count  Dtype  \n",
            "---  ------                            --------------  -----  \n",
            " 0   loan_amount                       67463 non-null  int64  \n",
            " 1   funded_amount                     67463 non-null  int64  \n",
            " 2   funded_amount_investor            67463 non-null  float64\n",
            " 3   term                              67463 non-null  int64  \n",
            " 4   interest_rate                     67463 non-null  float64\n",
            " 5   grade                             67463 non-null  object \n",
            " 6   sub_grade                         67463 non-null  object \n",
            " 7   home_ownership                    67463 non-null  object \n",
            " 8   annual_income                     67463 non-null  float64\n",
            " 9   loan_title                        67463 non-null  object \n",
            " 10  debit_to_income                   67463 non-null  float64\n",
            " 11  delinquency_-_two_years           67463 non-null  int64  \n",
            " 12  inquires_-_six_months             67463 non-null  int64  \n",
            " 13  open_account                      67463 non-null  int64  \n",
            " 14  public_record                     67463 non-null  int64  \n",
            " 15  revolving_utilities               67463 non-null  float64\n",
            " 16  total_accounts                    67463 non-null  int64  \n",
            " 17  total_received_interest           67463 non-null  float64\n",
            " 18  collection_12_months_medical      67463 non-null  int64  \n",
            " 19  last_week_pay                     67463 non-null  int64  \n",
            " 20  total_collection_amount           67463 non-null  int64  \n",
            " 21  loan_default_status               67463 non-null  int64  \n",
            " 22  log_total_current_balance         67463 non-null  float64\n",
            " 23  log_total_revolving_credit_limit  67463 non-null  float64\n",
            " 24  log_revolving_balance             67463 non-null  float64\n",
            " 25  collection_recovery_fee_ind       67463 non-null  int64  \n",
            " 26  total_received_late_fee_ind       67463 non-null  int64  \n",
            " 27  recoveries_ind                    67463 non-null  int64  \n",
            "dtypes: float64(9), int64(15), object(4)\n",
            "memory usage: 14.4+ MB\n"
          ]
        }
      ]
    },
    {
      "cell_type": "code",
      "source": [
        "features.head(1)"
      ],
      "metadata": {
        "colab": {
          "base_uri": "https://localhost:8080/",
          "height": 118
        },
        "id": "Uhe18Wlz3VFv",
        "outputId": "7a960745-7fc1-431b-8cf8-38804c51986d"
      },
      "execution_count": 237,
      "outputs": [
        {
          "output_type": "execute_result",
          "data": {
            "text/plain": [
              "   loan_amount  funded_amount  funded_amount_investor  term  interest_rate  \\\n",
              "0        10000          32236             12329.36286    59      11.135007   \n",
              "\n",
              "  grade sub_grade home_ownership  annual_income          loan_title  \\\n",
              "0     b        c4       mortgage    176346.6267  debt_consolidation   \n",
              "\n",
              "   debit_to_income  delinquency_-_two_years  inquires_-_six_months  \\\n",
              "0        16.284758                        1                      0   \n",
              "\n",
              "   open_account  public_record  revolving_utilities  total_accounts  \\\n",
              "0            13              0            74.932551               7   \n",
              "\n",
              "   total_received_interest  collection_12_months_medical  last_week_pay  \\\n",
              "0              2929.646315                             0             49   \n",
              "\n",
              "   total_collection_amount  log_total_current_balance  \\\n",
              "0                       31                  12.648519   \n",
              "\n",
              "   log_total_revolving_credit_limit  log_revolving_balance  \\\n",
              "0                          8.797851              10.096048   \n",
              "\n",
              "   collection_recovery_fee_ind  total_received_late_fee_ind  recoveries_ind  \n",
              "0                            0                            0               0  "
            ],
            "text/html": [
              "\n",
              "  <div id=\"df-a3a95474-9174-4aa8-990e-6ff9fa3f039d\" class=\"colab-df-container\">\n",
              "    <div>\n",
              "<style scoped>\n",
              "    .dataframe tbody tr th:only-of-type {\n",
              "        vertical-align: middle;\n",
              "    }\n",
              "\n",
              "    .dataframe tbody tr th {\n",
              "        vertical-align: top;\n",
              "    }\n",
              "\n",
              "    .dataframe thead th {\n",
              "        text-align: right;\n",
              "    }\n",
              "</style>\n",
              "<table border=\"1\" class=\"dataframe\">\n",
              "  <thead>\n",
              "    <tr style=\"text-align: right;\">\n",
              "      <th></th>\n",
              "      <th>loan_amount</th>\n",
              "      <th>funded_amount</th>\n",
              "      <th>funded_amount_investor</th>\n",
              "      <th>term</th>\n",
              "      <th>interest_rate</th>\n",
              "      <th>grade</th>\n",
              "      <th>sub_grade</th>\n",
              "      <th>home_ownership</th>\n",
              "      <th>annual_income</th>\n",
              "      <th>loan_title</th>\n",
              "      <th>debit_to_income</th>\n",
              "      <th>delinquency_-_two_years</th>\n",
              "      <th>inquires_-_six_months</th>\n",
              "      <th>open_account</th>\n",
              "      <th>public_record</th>\n",
              "      <th>revolving_utilities</th>\n",
              "      <th>total_accounts</th>\n",
              "      <th>total_received_interest</th>\n",
              "      <th>collection_12_months_medical</th>\n",
              "      <th>last_week_pay</th>\n",
              "      <th>total_collection_amount</th>\n",
              "      <th>log_total_current_balance</th>\n",
              "      <th>log_total_revolving_credit_limit</th>\n",
              "      <th>log_revolving_balance</th>\n",
              "      <th>collection_recovery_fee_ind</th>\n",
              "      <th>total_received_late_fee_ind</th>\n",
              "      <th>recoveries_ind</th>\n",
              "    </tr>\n",
              "  </thead>\n",
              "  <tbody>\n",
              "    <tr>\n",
              "      <th>0</th>\n",
              "      <td>10000</td>\n",
              "      <td>32236</td>\n",
              "      <td>12329.36286</td>\n",
              "      <td>59</td>\n",
              "      <td>11.135007</td>\n",
              "      <td>b</td>\n",
              "      <td>c4</td>\n",
              "      <td>mortgage</td>\n",
              "      <td>176346.6267</td>\n",
              "      <td>debt_consolidation</td>\n",
              "      <td>16.284758</td>\n",
              "      <td>1</td>\n",
              "      <td>0</td>\n",
              "      <td>13</td>\n",
              "      <td>0</td>\n",
              "      <td>74.932551</td>\n",
              "      <td>7</td>\n",
              "      <td>2929.646315</td>\n",
              "      <td>0</td>\n",
              "      <td>49</td>\n",
              "      <td>31</td>\n",
              "      <td>12.648519</td>\n",
              "      <td>8.797851</td>\n",
              "      <td>10.096048</td>\n",
              "      <td>0</td>\n",
              "      <td>0</td>\n",
              "      <td>0</td>\n",
              "    </tr>\n",
              "  </tbody>\n",
              "</table>\n",
              "</div>\n",
              "    <div class=\"colab-df-buttons\">\n",
              "\n",
              "  <div class=\"colab-df-container\">\n",
              "    <button class=\"colab-df-convert\" onclick=\"convertToInteractive('df-a3a95474-9174-4aa8-990e-6ff9fa3f039d')\"\n",
              "            title=\"Convert this dataframe to an interactive table.\"\n",
              "            style=\"display:none;\">\n",
              "\n",
              "  <svg xmlns=\"http://www.w3.org/2000/svg\" height=\"24px\" viewBox=\"0 -960 960 960\">\n",
              "    <path d=\"M120-120v-720h720v720H120Zm60-500h600v-160H180v160Zm220 220h160v-160H400v160Zm0 220h160v-160H400v160ZM180-400h160v-160H180v160Zm440 0h160v-160H620v160ZM180-180h160v-160H180v160Zm440 0h160v-160H620v160Z\"/>\n",
              "  </svg>\n",
              "    </button>\n",
              "\n",
              "  <style>\n",
              "    .colab-df-container {\n",
              "      display:flex;\n",
              "      gap: 12px;\n",
              "    }\n",
              "\n",
              "    .colab-df-convert {\n",
              "      background-color: #E8F0FE;\n",
              "      border: none;\n",
              "      border-radius: 50%;\n",
              "      cursor: pointer;\n",
              "      display: none;\n",
              "      fill: #1967D2;\n",
              "      height: 32px;\n",
              "      padding: 0 0 0 0;\n",
              "      width: 32px;\n",
              "    }\n",
              "\n",
              "    .colab-df-convert:hover {\n",
              "      background-color: #E2EBFA;\n",
              "      box-shadow: 0px 1px 2px rgba(60, 64, 67, 0.3), 0px 1px 3px 1px rgba(60, 64, 67, 0.15);\n",
              "      fill: #174EA6;\n",
              "    }\n",
              "\n",
              "    .colab-df-buttons div {\n",
              "      margin-bottom: 4px;\n",
              "    }\n",
              "\n",
              "    [theme=dark] .colab-df-convert {\n",
              "      background-color: #3B4455;\n",
              "      fill: #D2E3FC;\n",
              "    }\n",
              "\n",
              "    [theme=dark] .colab-df-convert:hover {\n",
              "      background-color: #434B5C;\n",
              "      box-shadow: 0px 1px 3px 1px rgba(0, 0, 0, 0.15);\n",
              "      filter: drop-shadow(0px 1px 2px rgba(0, 0, 0, 0.3));\n",
              "      fill: #FFFFFF;\n",
              "    }\n",
              "  </style>\n",
              "\n",
              "    <script>\n",
              "      const buttonEl =\n",
              "        document.querySelector('#df-a3a95474-9174-4aa8-990e-6ff9fa3f039d button.colab-df-convert');\n",
              "      buttonEl.style.display =\n",
              "        google.colab.kernel.accessAllowed ? 'block' : 'none';\n",
              "\n",
              "      async function convertToInteractive(key) {\n",
              "        const element = document.querySelector('#df-a3a95474-9174-4aa8-990e-6ff9fa3f039d');\n",
              "        const dataTable =\n",
              "          await google.colab.kernel.invokeFunction('convertToInteractive',\n",
              "                                                    [key], {});\n",
              "        if (!dataTable) return;\n",
              "\n",
              "        const docLinkHtml = 'Like what you see? Visit the ' +\n",
              "          '<a target=\"_blank\" href=https://colab.research.google.com/notebooks/data_table.ipynb>data table notebook</a>'\n",
              "          + ' to learn more about interactive tables.';\n",
              "        element.innerHTML = '';\n",
              "        dataTable['output_type'] = 'display_data';\n",
              "        await google.colab.output.renderOutput(dataTable, element);\n",
              "        const docLink = document.createElement('div');\n",
              "        docLink.innerHTML = docLinkHtml;\n",
              "        element.appendChild(docLink);\n",
              "      }\n",
              "    </script>\n",
              "  </div>\n",
              "\n",
              "    </div>\n",
              "  </div>\n"
            ]
          },
          "metadata": {},
          "execution_count": 237
        }
      ]
    },
    {
      "cell_type": "code",
      "source": [
        "# load the model from disk\n",
        "from tensorflow.keras.models import load_model\n",
        "model = load_model('/content/model')\n",
        "scaler = joblib.load('/content/scaler.pkl')\n",
        "encoder = joblib.load('/content/encoder.pkl')\n",
        "\n",
        "data={'loan_amount': 1000, 'funded_amount': 0, 'funded_amount_investor': 0, 'term': 36, 'interest_rate': 0.0, 'grade': 'a', 'sub_grade': 'a1', 'home_ownership': 'mortgage', 'annual_income': 0.0, 'loan_title': 'credit_card_refinance_loan', 'debit_to_income': 0.0, 'delinquency_two_years': 0, 'inquires_six_months': 0, 'open_account': 1, 'public_record': 0, 'revolving_utilities': 0.0, 'total_accounts': 1, 'total_received_interest': 0.0, 'collection_12_months_medical': 0, 'last_week_pay': 1, 'total_collection_amount': 0, 'total_current_balance': 0, 'total_revolving_credit_limit': 0, 'revolving_balance': 0, 'collection_recovery_fee': 11.0, 'total_received_late_fee': 11.0, 'recoveries': 11.0 }\n",
        "data={'loan_amount': 1000, 'funded_amount': 0, 'funded_amount_investor': 0, 'term': 36, 'interest_rate': 0.0, 'grade': 'a', 'sub_grade': 'a1', 'home_ownership': 'mortgage', 'annual_income': 0.0, 'loan_title': 'credit_card_refinance_loan', 'debit_to_income': 0.0, 'delinquency_two_years': 0, 'inquires_six_months': 0, 'open_account': 1, 'public_record': 0, 'revolving_balance': 0, 'revolving_utilities': 0.0, 'total_accounts': 1, 'total_received_interest': 0.0, 'total_received_late_fee': 0.0, 'recoveries': 0.0, 'collection_recovery_fee': 0.0, 'collection_12_months_medical': 0, 'last_week_pay': 1, 'total_collection_amount': 0, 'total_current_balance': 0, 'total_revolving_credit_limit': 0}\n",
        "df1 = pd.DataFrame.from_dict(pd.json_normalize(data), orient='columns')\n",
        "df1.rename(columns={\"delinquency_two_years\": \"delinquency_-_two_years\",\n",
        "                    \"inquires_six_months\": \"inquires_-_six_months\",\n",
        "                    \"revolving_balance\": \"log_revolving_balance\",\n",
        "                    \"total_current_balance\": \"log_total_current_balance\",\n",
        "                    \"total_revolving_credit_limit\": \"log_total_revolving_credit_limit\",\n",
        "                    \"collection_recovery_fee\": \"collection_recovery_fee_ind\",\n",
        "                    \"total_received_late_fee\": \"total_received_late_fee_ind\",\n",
        "                    \"recoveries\": \"recoveries_ind\"}, inplace=True)\n",
        "df1.head()\n",
        "df1.log_revolving_balance=np.log(1+df1.log_revolving_balance)\n",
        "df1.log_total_current_balance=np.log(1+df1.log_total_current_balance)\n",
        "df1.log_total_revolving_credit_limit=np.log(1+df1.log_total_revolving_credit_limit)\n",
        "\n",
        "\n",
        "encode = encoder.transform(df1)\n",
        "scaler = scaler.transform(encode)\n",
        "prediction = model.predict(scaler)\n",
        "test_loss, test_accuracy = model.evaluate(scaler, y_test)\n",
        "print(-np.log10(prediction))"
      ],
      "metadata": {
        "colab": {
          "base_uri": "https://localhost:8080/",
          "height": 155
        },
        "id": "XyNRR4RixXTy",
        "outputId": "f93d6d73-df5e-4d97-e406-d872b6049df0"
      },
      "execution_count": 250,
      "outputs": [
        {
          "output_type": "execute_result",
          "data": {
            "text/plain": [
              "   loan_amount  funded_amount  funded_amount_investor  term  interest_rate  \\\n",
              "0         1000              0                       0    36            0.0   \n",
              "\n",
              "  grade sub_grade home_ownership  annual_income                  loan_title  \\\n",
              "0     a        a1       mortgage            0.0  credit_card_refinance_loan   \n",
              "\n",
              "   debit_to_income  delinquency_-_two_years  inquires_-_six_months  \\\n",
              "0              0.0                        0                      0   \n",
              "\n",
              "   open_account  public_record  revolving_utilities  total_accounts  \\\n",
              "0             1              0                  0.0               1   \n",
              "\n",
              "   total_received_interest  collection_12_months_medical  last_week_pay  \\\n",
              "0                      0.0                             0              1   \n",
              "\n",
              "   total_collection_amount  log_total_current_balance  \\\n",
              "0                        0                          0   \n",
              "\n",
              "   log_total_revolving_credit_limit  log_revolving_balance  \\\n",
              "0                                 0                      0   \n",
              "\n",
              "   collection_recovery_fee_ind  total_received_late_fee_ind  recoveries_ind  \n",
              "0                         11.0                         11.0            11.0  "
            ],
            "text/html": [
              "\n",
              "  <div id=\"df-374b27cc-bc80-4e63-a25e-4d071039aecb\" class=\"colab-df-container\">\n",
              "    <div>\n",
              "<style scoped>\n",
              "    .dataframe tbody tr th:only-of-type {\n",
              "        vertical-align: middle;\n",
              "    }\n",
              "\n",
              "    .dataframe tbody tr th {\n",
              "        vertical-align: top;\n",
              "    }\n",
              "\n",
              "    .dataframe thead th {\n",
              "        text-align: right;\n",
              "    }\n",
              "</style>\n",
              "<table border=\"1\" class=\"dataframe\">\n",
              "  <thead>\n",
              "    <tr style=\"text-align: right;\">\n",
              "      <th></th>\n",
              "      <th>loan_amount</th>\n",
              "      <th>funded_amount</th>\n",
              "      <th>funded_amount_investor</th>\n",
              "      <th>term</th>\n",
              "      <th>interest_rate</th>\n",
              "      <th>grade</th>\n",
              "      <th>sub_grade</th>\n",
              "      <th>home_ownership</th>\n",
              "      <th>annual_income</th>\n",
              "      <th>loan_title</th>\n",
              "      <th>debit_to_income</th>\n",
              "      <th>delinquency_-_two_years</th>\n",
              "      <th>inquires_-_six_months</th>\n",
              "      <th>open_account</th>\n",
              "      <th>public_record</th>\n",
              "      <th>revolving_utilities</th>\n",
              "      <th>total_accounts</th>\n",
              "      <th>total_received_interest</th>\n",
              "      <th>collection_12_months_medical</th>\n",
              "      <th>last_week_pay</th>\n",
              "      <th>total_collection_amount</th>\n",
              "      <th>log_total_current_balance</th>\n",
              "      <th>log_total_revolving_credit_limit</th>\n",
              "      <th>log_revolving_balance</th>\n",
              "      <th>collection_recovery_fee_ind</th>\n",
              "      <th>total_received_late_fee_ind</th>\n",
              "      <th>recoveries_ind</th>\n",
              "    </tr>\n",
              "  </thead>\n",
              "  <tbody>\n",
              "    <tr>\n",
              "      <th>0</th>\n",
              "      <td>1000</td>\n",
              "      <td>0</td>\n",
              "      <td>0</td>\n",
              "      <td>36</td>\n",
              "      <td>0.0</td>\n",
              "      <td>a</td>\n",
              "      <td>a1</td>\n",
              "      <td>mortgage</td>\n",
              "      <td>0.0</td>\n",
              "      <td>credit_card_refinance_loan</td>\n",
              "      <td>0.0</td>\n",
              "      <td>0</td>\n",
              "      <td>0</td>\n",
              "      <td>1</td>\n",
              "      <td>0</td>\n",
              "      <td>0.0</td>\n",
              "      <td>1</td>\n",
              "      <td>0.0</td>\n",
              "      <td>0</td>\n",
              "      <td>1</td>\n",
              "      <td>0</td>\n",
              "      <td>0</td>\n",
              "      <td>0</td>\n",
              "      <td>0</td>\n",
              "      <td>11.0</td>\n",
              "      <td>11.0</td>\n",
              "      <td>11.0</td>\n",
              "    </tr>\n",
              "  </tbody>\n",
              "</table>\n",
              "</div>\n",
              "    <div class=\"colab-df-buttons\">\n",
              "\n",
              "  <div class=\"colab-df-container\">\n",
              "    <button class=\"colab-df-convert\" onclick=\"convertToInteractive('df-374b27cc-bc80-4e63-a25e-4d071039aecb')\"\n",
              "            title=\"Convert this dataframe to an interactive table.\"\n",
              "            style=\"display:none;\">\n",
              "\n",
              "  <svg xmlns=\"http://www.w3.org/2000/svg\" height=\"24px\" viewBox=\"0 -960 960 960\">\n",
              "    <path d=\"M120-120v-720h720v720H120Zm60-500h600v-160H180v160Zm220 220h160v-160H400v160Zm0 220h160v-160H400v160ZM180-400h160v-160H180v160Zm440 0h160v-160H620v160ZM180-180h160v-160H180v160Zm440 0h160v-160H620v160Z\"/>\n",
              "  </svg>\n",
              "    </button>\n",
              "\n",
              "  <style>\n",
              "    .colab-df-container {\n",
              "      display:flex;\n",
              "      gap: 12px;\n",
              "    }\n",
              "\n",
              "    .colab-df-convert {\n",
              "      background-color: #E8F0FE;\n",
              "      border: none;\n",
              "      border-radius: 50%;\n",
              "      cursor: pointer;\n",
              "      display: none;\n",
              "      fill: #1967D2;\n",
              "      height: 32px;\n",
              "      padding: 0 0 0 0;\n",
              "      width: 32px;\n",
              "    }\n",
              "\n",
              "    .colab-df-convert:hover {\n",
              "      background-color: #E2EBFA;\n",
              "      box-shadow: 0px 1px 2px rgba(60, 64, 67, 0.3), 0px 1px 3px 1px rgba(60, 64, 67, 0.15);\n",
              "      fill: #174EA6;\n",
              "    }\n",
              "\n",
              "    .colab-df-buttons div {\n",
              "      margin-bottom: 4px;\n",
              "    }\n",
              "\n",
              "    [theme=dark] .colab-df-convert {\n",
              "      background-color: #3B4455;\n",
              "      fill: #D2E3FC;\n",
              "    }\n",
              "\n",
              "    [theme=dark] .colab-df-convert:hover {\n",
              "      background-color: #434B5C;\n",
              "      box-shadow: 0px 1px 3px 1px rgba(0, 0, 0, 0.15);\n",
              "      filter: drop-shadow(0px 1px 2px rgba(0, 0, 0, 0.3));\n",
              "      fill: #FFFFFF;\n",
              "    }\n",
              "  </style>\n",
              "\n",
              "    <script>\n",
              "      const buttonEl =\n",
              "        document.querySelector('#df-374b27cc-bc80-4e63-a25e-4d071039aecb button.colab-df-convert');\n",
              "      buttonEl.style.display =\n",
              "        google.colab.kernel.accessAllowed ? 'block' : 'none';\n",
              "\n",
              "      async function convertToInteractive(key) {\n",
              "        const element = document.querySelector('#df-374b27cc-bc80-4e63-a25e-4d071039aecb');\n",
              "        const dataTable =\n",
              "          await google.colab.kernel.invokeFunction('convertToInteractive',\n",
              "                                                    [key], {});\n",
              "        if (!dataTable) return;\n",
              "\n",
              "        const docLinkHtml = 'Like what you see? Visit the ' +\n",
              "          '<a target=\"_blank\" href=https://colab.research.google.com/notebooks/data_table.ipynb>data table notebook</a>'\n",
              "          + ' to learn more about interactive tables.';\n",
              "        element.innerHTML = '';\n",
              "        dataTable['output_type'] = 'display_data';\n",
              "        await google.colab.output.renderOutput(dataTable, element);\n",
              "        const docLink = document.createElement('div');\n",
              "        docLink.innerHTML = docLinkHtml;\n",
              "        element.appendChild(docLink);\n",
              "      }\n",
              "    </script>\n",
              "  </div>\n",
              "\n",
              "    </div>\n",
              "  </div>\n"
            ]
          },
          "metadata": {},
          "execution_count": 250
        },
        {
          "output_type": "stream",
          "name": "stdout",
          "text": [
            "1/1 [==============================] - 0s 123ms/step\n",
            "[[7.27]]\n"
          ]
        }
      ]
    }
  ],
  "metadata": {
    "accelerator": "TPU",
    "colab": {
      "provenance": [],
      "collapsed_sections": [
        "dGAEnhpPpt7-",
        "usp3JOrtL34g",
        "ZP8WWwkHcnH3",
        "zk1svdoIrhkD"
      ],
      "include_colab_link": true
    },
    "kernelspec": {
      "display_name": "Python 3",
      "name": "python3"
    },
    "language_info": {
      "name": "python"
    }
  },
  "nbformat": 4,
  "nbformat_minor": 0
}